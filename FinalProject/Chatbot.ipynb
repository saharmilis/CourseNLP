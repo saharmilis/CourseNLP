{
  "nbformat": 4,
  "nbformat_minor": 0,
  "metadata": {
    "colab": {
      "name": "Chatbot.ipynb",
      "provenance": [],
      "collapsed_sections": []
    },
    "kernelspec": {
      "name": "python3",
      "display_name": "Python 3"
    },
    "widgets": {
      "application/vnd.jupyter.widget-state+json": {
        "74aa8a4dc1524291be9dce2449ab09d2": {
          "model_module": "@jupyter-widgets/controls",
          "model_name": "HBoxModel",
          "state": {
            "_view_name": "HBoxView",
            "_dom_classes": [],
            "_model_name": "HBoxModel",
            "_view_module": "@jupyter-widgets/controls",
            "_model_module_version": "1.5.0",
            "_view_count": null,
            "_view_module_version": "1.5.0",
            "box_style": "",
            "layout": "IPY_MODEL_7c754fe461874615948c6068f256afc2",
            "_model_module": "@jupyter-widgets/controls",
            "children": [
              "IPY_MODEL_fa22a6e6d55242618b918891d1593ed7",
              "IPY_MODEL_8d46c5435d3041d6a25d4c7d6dd90e9e"
            ]
          }
        },
        "7c754fe461874615948c6068f256afc2": {
          "model_module": "@jupyter-widgets/base",
          "model_name": "LayoutModel",
          "state": {
            "_view_name": "LayoutView",
            "grid_template_rows": null,
            "right": null,
            "justify_content": null,
            "_view_module": "@jupyter-widgets/base",
            "overflow": null,
            "_model_module_version": "1.2.0",
            "_view_count": null,
            "flex_flow": null,
            "width": null,
            "min_width": null,
            "border": null,
            "align_items": null,
            "bottom": null,
            "_model_module": "@jupyter-widgets/base",
            "top": null,
            "grid_column": null,
            "overflow_y": null,
            "overflow_x": null,
            "grid_auto_flow": null,
            "grid_area": null,
            "grid_template_columns": null,
            "flex": null,
            "_model_name": "LayoutModel",
            "justify_items": null,
            "grid_row": null,
            "max_height": null,
            "align_content": null,
            "visibility": null,
            "align_self": null,
            "height": null,
            "min_height": null,
            "padding": null,
            "grid_auto_rows": null,
            "grid_gap": null,
            "max_width": null,
            "order": null,
            "_view_module_version": "1.2.0",
            "grid_template_areas": null,
            "object_position": null,
            "object_fit": null,
            "grid_auto_columns": null,
            "margin": null,
            "display": null,
            "left": null
          }
        },
        "fa22a6e6d55242618b918891d1593ed7": {
          "model_module": "@jupyter-widgets/controls",
          "model_name": "FloatProgressModel",
          "state": {
            "_view_name": "ProgressView",
            "style": "IPY_MODEL_74161b44b9d64a409dfcb169552f2d89",
            "_dom_classes": [],
            "description": "Downloading: 100%",
            "_model_name": "FloatProgressModel",
            "bar_style": "success",
            "max": 231508,
            "_view_module": "@jupyter-widgets/controls",
            "_model_module_version": "1.5.0",
            "value": 231508,
            "_view_count": null,
            "_view_module_version": "1.5.0",
            "orientation": "horizontal",
            "min": 0,
            "description_tooltip": null,
            "_model_module": "@jupyter-widgets/controls",
            "layout": "IPY_MODEL_afb87f91b8934c99a77b7a9b67a1ae94"
          }
        },
        "8d46c5435d3041d6a25d4c7d6dd90e9e": {
          "model_module": "@jupyter-widgets/controls",
          "model_name": "HTMLModel",
          "state": {
            "_view_name": "HTMLView",
            "style": "IPY_MODEL_dcb30c55c07e4a79abdfccaa64b5ae51",
            "_dom_classes": [],
            "description": "",
            "_model_name": "HTMLModel",
            "placeholder": "​",
            "_view_module": "@jupyter-widgets/controls",
            "_model_module_version": "1.5.0",
            "value": " 232k/232k [00:00&lt;00:00, 2.11MB/s]",
            "_view_count": null,
            "_view_module_version": "1.5.0",
            "description_tooltip": null,
            "_model_module": "@jupyter-widgets/controls",
            "layout": "IPY_MODEL_19cd8d5b278847c59b762b3f6888d2a5"
          }
        },
        "74161b44b9d64a409dfcb169552f2d89": {
          "model_module": "@jupyter-widgets/controls",
          "model_name": "ProgressStyleModel",
          "state": {
            "_view_name": "StyleView",
            "_model_name": "ProgressStyleModel",
            "description_width": "initial",
            "_view_module": "@jupyter-widgets/base",
            "_model_module_version": "1.5.0",
            "_view_count": null,
            "_view_module_version": "1.2.0",
            "bar_color": null,
            "_model_module": "@jupyter-widgets/controls"
          }
        },
        "afb87f91b8934c99a77b7a9b67a1ae94": {
          "model_module": "@jupyter-widgets/base",
          "model_name": "LayoutModel",
          "state": {
            "_view_name": "LayoutView",
            "grid_template_rows": null,
            "right": null,
            "justify_content": null,
            "_view_module": "@jupyter-widgets/base",
            "overflow": null,
            "_model_module_version": "1.2.0",
            "_view_count": null,
            "flex_flow": null,
            "width": null,
            "min_width": null,
            "border": null,
            "align_items": null,
            "bottom": null,
            "_model_module": "@jupyter-widgets/base",
            "top": null,
            "grid_column": null,
            "overflow_y": null,
            "overflow_x": null,
            "grid_auto_flow": null,
            "grid_area": null,
            "grid_template_columns": null,
            "flex": null,
            "_model_name": "LayoutModel",
            "justify_items": null,
            "grid_row": null,
            "max_height": null,
            "align_content": null,
            "visibility": null,
            "align_self": null,
            "height": null,
            "min_height": null,
            "padding": null,
            "grid_auto_rows": null,
            "grid_gap": null,
            "max_width": null,
            "order": null,
            "_view_module_version": "1.2.0",
            "grid_template_areas": null,
            "object_position": null,
            "object_fit": null,
            "grid_auto_columns": null,
            "margin": null,
            "display": null,
            "left": null
          }
        },
        "dcb30c55c07e4a79abdfccaa64b5ae51": {
          "model_module": "@jupyter-widgets/controls",
          "model_name": "DescriptionStyleModel",
          "state": {
            "_view_name": "StyleView",
            "_model_name": "DescriptionStyleModel",
            "description_width": "",
            "_view_module": "@jupyter-widgets/base",
            "_model_module_version": "1.5.0",
            "_view_count": null,
            "_view_module_version": "1.2.0",
            "_model_module": "@jupyter-widgets/controls"
          }
        },
        "19cd8d5b278847c59b762b3f6888d2a5": {
          "model_module": "@jupyter-widgets/base",
          "model_name": "LayoutModel",
          "state": {
            "_view_name": "LayoutView",
            "grid_template_rows": null,
            "right": null,
            "justify_content": null,
            "_view_module": "@jupyter-widgets/base",
            "overflow": null,
            "_model_module_version": "1.2.0",
            "_view_count": null,
            "flex_flow": null,
            "width": null,
            "min_width": null,
            "border": null,
            "align_items": null,
            "bottom": null,
            "_model_module": "@jupyter-widgets/base",
            "top": null,
            "grid_column": null,
            "overflow_y": null,
            "overflow_x": null,
            "grid_auto_flow": null,
            "grid_area": null,
            "grid_template_columns": null,
            "flex": null,
            "_model_name": "LayoutModel",
            "justify_items": null,
            "grid_row": null,
            "max_height": null,
            "align_content": null,
            "visibility": null,
            "align_self": null,
            "height": null,
            "min_height": null,
            "padding": null,
            "grid_auto_rows": null,
            "grid_gap": null,
            "max_width": null,
            "order": null,
            "_view_module_version": "1.2.0",
            "grid_template_areas": null,
            "object_position": null,
            "object_fit": null,
            "grid_auto_columns": null,
            "margin": null,
            "display": null,
            "left": null
          }
        },
        "94bd715d3a5a45b0b5c6e9ab6537f165": {
          "model_module": "@jupyter-widgets/controls",
          "model_name": "HBoxModel",
          "state": {
            "_view_name": "HBoxView",
            "_dom_classes": [],
            "_model_name": "HBoxModel",
            "_view_module": "@jupyter-widgets/controls",
            "_model_module_version": "1.5.0",
            "_view_count": null,
            "_view_module_version": "1.5.0",
            "box_style": "",
            "layout": "IPY_MODEL_b41c7539c6aa42d083524ca3e3a10c4c",
            "_model_module": "@jupyter-widgets/controls",
            "children": [
              "IPY_MODEL_4fb9d15fd610472c9f4468fcad5eb775",
              "IPY_MODEL_760444f42eda4f31b0fa550b8bc421ea"
            ]
          }
        },
        "b41c7539c6aa42d083524ca3e3a10c4c": {
          "model_module": "@jupyter-widgets/base",
          "model_name": "LayoutModel",
          "state": {
            "_view_name": "LayoutView",
            "grid_template_rows": null,
            "right": null,
            "justify_content": null,
            "_view_module": "@jupyter-widgets/base",
            "overflow": null,
            "_model_module_version": "1.2.0",
            "_view_count": null,
            "flex_flow": null,
            "width": null,
            "min_width": null,
            "border": null,
            "align_items": null,
            "bottom": null,
            "_model_module": "@jupyter-widgets/base",
            "top": null,
            "grid_column": null,
            "overflow_y": null,
            "overflow_x": null,
            "grid_auto_flow": null,
            "grid_area": null,
            "grid_template_columns": null,
            "flex": null,
            "_model_name": "LayoutModel",
            "justify_items": null,
            "grid_row": null,
            "max_height": null,
            "align_content": null,
            "visibility": null,
            "align_self": null,
            "height": null,
            "min_height": null,
            "padding": null,
            "grid_auto_rows": null,
            "grid_gap": null,
            "max_width": null,
            "order": null,
            "_view_module_version": "1.2.0",
            "grid_template_areas": null,
            "object_position": null,
            "object_fit": null,
            "grid_auto_columns": null,
            "margin": null,
            "display": null,
            "left": null
          }
        },
        "4fb9d15fd610472c9f4468fcad5eb775": {
          "model_module": "@jupyter-widgets/controls",
          "model_name": "FloatProgressModel",
          "state": {
            "_view_name": "ProgressView",
            "style": "IPY_MODEL_0407f8e894f8401588851c71dfcb6438",
            "_dom_classes": [],
            "description": "Downloading: 100%",
            "_model_name": "FloatProgressModel",
            "bar_style": "success",
            "max": 443,
            "_view_module": "@jupyter-widgets/controls",
            "_model_module_version": "1.5.0",
            "value": 443,
            "_view_count": null,
            "_view_module_version": "1.5.0",
            "orientation": "horizontal",
            "min": 0,
            "description_tooltip": null,
            "_model_module": "@jupyter-widgets/controls",
            "layout": "IPY_MODEL_e18e4cd827c54161a3e1134cd58b1744"
          }
        },
        "760444f42eda4f31b0fa550b8bc421ea": {
          "model_module": "@jupyter-widgets/controls",
          "model_name": "HTMLModel",
          "state": {
            "_view_name": "HTMLView",
            "style": "IPY_MODEL_6db0c629a6ff4c1c9a2a235e9a0a0562",
            "_dom_classes": [],
            "description": "",
            "_model_name": "HTMLModel",
            "placeholder": "​",
            "_view_module": "@jupyter-widgets/controls",
            "_model_module_version": "1.5.0",
            "value": " 443/443 [00:05&lt;00:00, 82.1B/s]",
            "_view_count": null,
            "_view_module_version": "1.5.0",
            "description_tooltip": null,
            "_model_module": "@jupyter-widgets/controls",
            "layout": "IPY_MODEL_0d394a3bd6904f599037995e259ef6a2"
          }
        },
        "0407f8e894f8401588851c71dfcb6438": {
          "model_module": "@jupyter-widgets/controls",
          "model_name": "ProgressStyleModel",
          "state": {
            "_view_name": "StyleView",
            "_model_name": "ProgressStyleModel",
            "description_width": "initial",
            "_view_module": "@jupyter-widgets/base",
            "_model_module_version": "1.5.0",
            "_view_count": null,
            "_view_module_version": "1.2.0",
            "bar_color": null,
            "_model_module": "@jupyter-widgets/controls"
          }
        },
        "e18e4cd827c54161a3e1134cd58b1744": {
          "model_module": "@jupyter-widgets/base",
          "model_name": "LayoutModel",
          "state": {
            "_view_name": "LayoutView",
            "grid_template_rows": null,
            "right": null,
            "justify_content": null,
            "_view_module": "@jupyter-widgets/base",
            "overflow": null,
            "_model_module_version": "1.2.0",
            "_view_count": null,
            "flex_flow": null,
            "width": null,
            "min_width": null,
            "border": null,
            "align_items": null,
            "bottom": null,
            "_model_module": "@jupyter-widgets/base",
            "top": null,
            "grid_column": null,
            "overflow_y": null,
            "overflow_x": null,
            "grid_auto_flow": null,
            "grid_area": null,
            "grid_template_columns": null,
            "flex": null,
            "_model_name": "LayoutModel",
            "justify_items": null,
            "grid_row": null,
            "max_height": null,
            "align_content": null,
            "visibility": null,
            "align_self": null,
            "height": null,
            "min_height": null,
            "padding": null,
            "grid_auto_rows": null,
            "grid_gap": null,
            "max_width": null,
            "order": null,
            "_view_module_version": "1.2.0",
            "grid_template_areas": null,
            "object_position": null,
            "object_fit": null,
            "grid_auto_columns": null,
            "margin": null,
            "display": null,
            "left": null
          }
        },
        "6db0c629a6ff4c1c9a2a235e9a0a0562": {
          "model_module": "@jupyter-widgets/controls",
          "model_name": "DescriptionStyleModel",
          "state": {
            "_view_name": "StyleView",
            "_model_name": "DescriptionStyleModel",
            "description_width": "",
            "_view_module": "@jupyter-widgets/base",
            "_model_module_version": "1.5.0",
            "_view_count": null,
            "_view_module_version": "1.2.0",
            "_model_module": "@jupyter-widgets/controls"
          }
        },
        "0d394a3bd6904f599037995e259ef6a2": {
          "model_module": "@jupyter-widgets/base",
          "model_name": "LayoutModel",
          "state": {
            "_view_name": "LayoutView",
            "grid_template_rows": null,
            "right": null,
            "justify_content": null,
            "_view_module": "@jupyter-widgets/base",
            "overflow": null,
            "_model_module_version": "1.2.0",
            "_view_count": null,
            "flex_flow": null,
            "width": null,
            "min_width": null,
            "border": null,
            "align_items": null,
            "bottom": null,
            "_model_module": "@jupyter-widgets/base",
            "top": null,
            "grid_column": null,
            "overflow_y": null,
            "overflow_x": null,
            "grid_auto_flow": null,
            "grid_area": null,
            "grid_template_columns": null,
            "flex": null,
            "_model_name": "LayoutModel",
            "justify_items": null,
            "grid_row": null,
            "max_height": null,
            "align_content": null,
            "visibility": null,
            "align_self": null,
            "height": null,
            "min_height": null,
            "padding": null,
            "grid_auto_rows": null,
            "grid_gap": null,
            "max_width": null,
            "order": null,
            "_view_module_version": "1.2.0",
            "grid_template_areas": null,
            "object_position": null,
            "object_fit": null,
            "grid_auto_columns": null,
            "margin": null,
            "display": null,
            "left": null
          }
        },
        "c643ed8a659b42e5a9d6ad4694e7f2a2": {
          "model_module": "@jupyter-widgets/controls",
          "model_name": "HBoxModel",
          "state": {
            "_view_name": "HBoxView",
            "_dom_classes": [],
            "_model_name": "HBoxModel",
            "_view_module": "@jupyter-widgets/controls",
            "_model_module_version": "1.5.0",
            "_view_count": null,
            "_view_module_version": "1.5.0",
            "box_style": "",
            "layout": "IPY_MODEL_0658339f2de84eb9aa29a0a7f8a9fcd1",
            "_model_module": "@jupyter-widgets/controls",
            "children": [
              "IPY_MODEL_f724d1379ffc4f52b2a2e13f6c6b0fe5",
              "IPY_MODEL_a2711c6c19a145beb88768cdadb7f3ed"
            ]
          }
        },
        "0658339f2de84eb9aa29a0a7f8a9fcd1": {
          "model_module": "@jupyter-widgets/base",
          "model_name": "LayoutModel",
          "state": {
            "_view_name": "LayoutView",
            "grid_template_rows": null,
            "right": null,
            "justify_content": null,
            "_view_module": "@jupyter-widgets/base",
            "overflow": null,
            "_model_module_version": "1.2.0",
            "_view_count": null,
            "flex_flow": null,
            "width": null,
            "min_width": null,
            "border": null,
            "align_items": null,
            "bottom": null,
            "_model_module": "@jupyter-widgets/base",
            "top": null,
            "grid_column": null,
            "overflow_y": null,
            "overflow_x": null,
            "grid_auto_flow": null,
            "grid_area": null,
            "grid_template_columns": null,
            "flex": null,
            "_model_name": "LayoutModel",
            "justify_items": null,
            "grid_row": null,
            "max_height": null,
            "align_content": null,
            "visibility": null,
            "align_self": null,
            "height": null,
            "min_height": null,
            "padding": null,
            "grid_auto_rows": null,
            "grid_gap": null,
            "max_width": null,
            "order": null,
            "_view_module_version": "1.2.0",
            "grid_template_areas": null,
            "object_position": null,
            "object_fit": null,
            "grid_auto_columns": null,
            "margin": null,
            "display": null,
            "left": null
          }
        },
        "f724d1379ffc4f52b2a2e13f6c6b0fe5": {
          "model_module": "@jupyter-widgets/controls",
          "model_name": "FloatProgressModel",
          "state": {
            "_view_name": "ProgressView",
            "style": "IPY_MODEL_a7796f33c630497194fcb5057988feb7",
            "_dom_classes": [],
            "description": "Downloading: 100%",
            "_model_name": "FloatProgressModel",
            "bar_style": "success",
            "max": 1340675298,
            "_view_module": "@jupyter-widgets/controls",
            "_model_module_version": "1.5.0",
            "value": 1340675298,
            "_view_count": null,
            "_view_module_version": "1.5.0",
            "orientation": "horizontal",
            "min": 0,
            "description_tooltip": null,
            "_model_module": "@jupyter-widgets/controls",
            "layout": "IPY_MODEL_2e57a519abfc4fe3aaab2cf13c9561c9"
          }
        },
        "a2711c6c19a145beb88768cdadb7f3ed": {
          "model_module": "@jupyter-widgets/controls",
          "model_name": "HTMLModel",
          "state": {
            "_view_name": "HTMLView",
            "style": "IPY_MODEL_596bde023bc24669b6a04f5740a2f5f3",
            "_dom_classes": [],
            "description": "",
            "_model_name": "HTMLModel",
            "placeholder": "​",
            "_view_module": "@jupyter-widgets/controls",
            "_model_module_version": "1.5.0",
            "value": " 1.34G/1.34G [01:11&lt;00:00, 18.8MB/s]",
            "_view_count": null,
            "_view_module_version": "1.5.0",
            "description_tooltip": null,
            "_model_module": "@jupyter-widgets/controls",
            "layout": "IPY_MODEL_c22b3db2b7874583a9f2e6658cbc2faf"
          }
        },
        "a7796f33c630497194fcb5057988feb7": {
          "model_module": "@jupyter-widgets/controls",
          "model_name": "ProgressStyleModel",
          "state": {
            "_view_name": "StyleView",
            "_model_name": "ProgressStyleModel",
            "description_width": "initial",
            "_view_module": "@jupyter-widgets/base",
            "_model_module_version": "1.5.0",
            "_view_count": null,
            "_view_module_version": "1.2.0",
            "bar_color": null,
            "_model_module": "@jupyter-widgets/controls"
          }
        },
        "2e57a519abfc4fe3aaab2cf13c9561c9": {
          "model_module": "@jupyter-widgets/base",
          "model_name": "LayoutModel",
          "state": {
            "_view_name": "LayoutView",
            "grid_template_rows": null,
            "right": null,
            "justify_content": null,
            "_view_module": "@jupyter-widgets/base",
            "overflow": null,
            "_model_module_version": "1.2.0",
            "_view_count": null,
            "flex_flow": null,
            "width": null,
            "min_width": null,
            "border": null,
            "align_items": null,
            "bottom": null,
            "_model_module": "@jupyter-widgets/base",
            "top": null,
            "grid_column": null,
            "overflow_y": null,
            "overflow_x": null,
            "grid_auto_flow": null,
            "grid_area": null,
            "grid_template_columns": null,
            "flex": null,
            "_model_name": "LayoutModel",
            "justify_items": null,
            "grid_row": null,
            "max_height": null,
            "align_content": null,
            "visibility": null,
            "align_self": null,
            "height": null,
            "min_height": null,
            "padding": null,
            "grid_auto_rows": null,
            "grid_gap": null,
            "max_width": null,
            "order": null,
            "_view_module_version": "1.2.0",
            "grid_template_areas": null,
            "object_position": null,
            "object_fit": null,
            "grid_auto_columns": null,
            "margin": null,
            "display": null,
            "left": null
          }
        },
        "596bde023bc24669b6a04f5740a2f5f3": {
          "model_module": "@jupyter-widgets/controls",
          "model_name": "DescriptionStyleModel",
          "state": {
            "_view_name": "StyleView",
            "_model_name": "DescriptionStyleModel",
            "description_width": "",
            "_view_module": "@jupyter-widgets/base",
            "_model_module_version": "1.5.0",
            "_view_count": null,
            "_view_module_version": "1.2.0",
            "_model_module": "@jupyter-widgets/controls"
          }
        },
        "c22b3db2b7874583a9f2e6658cbc2faf": {
          "model_module": "@jupyter-widgets/base",
          "model_name": "LayoutModel",
          "state": {
            "_view_name": "LayoutView",
            "grid_template_rows": null,
            "right": null,
            "justify_content": null,
            "_view_module": "@jupyter-widgets/base",
            "overflow": null,
            "_model_module_version": "1.2.0",
            "_view_count": null,
            "flex_flow": null,
            "width": null,
            "min_width": null,
            "border": null,
            "align_items": null,
            "bottom": null,
            "_model_module": "@jupyter-widgets/base",
            "top": null,
            "grid_column": null,
            "overflow_y": null,
            "overflow_x": null,
            "grid_auto_flow": null,
            "grid_area": null,
            "grid_template_columns": null,
            "flex": null,
            "_model_name": "LayoutModel",
            "justify_items": null,
            "grid_row": null,
            "max_height": null,
            "align_content": null,
            "visibility": null,
            "align_self": null,
            "height": null,
            "min_height": null,
            "padding": null,
            "grid_auto_rows": null,
            "grid_gap": null,
            "max_width": null,
            "order": null,
            "_view_module_version": "1.2.0",
            "grid_template_areas": null,
            "object_position": null,
            "object_fit": null,
            "grid_auto_columns": null,
            "margin": null,
            "display": null,
            "left": null
          }
        }
      }
    }
  },
  "cells": [
    {
      "cell_type": "markdown",
      "metadata": {
        "id": "en778pBm4t_N"
      },
      "source": [
        "# Let's crate a Chatbot to talk to.\n",
        "\n",
        "<div>\n",
        "<img src=\"https://blog-assets.freshworks.com/freshdesk/wp-content/uploads/2018/08/Header_gif_assembly-1.gif\" width=\"600\"/>\n",
        "</div>\n",
        "\n",
        "\n",
        "<br><br>\n",
        "\n",
        "**Steps:**\n",
        "* Using NLTK to create a basic Chatbot.\n",
        "* Using BERT to create a Q&A Chatbot.\n",
        "* Using BERT to create a Chatbot with personality.\n",
        "* Using BERT to talk to a Harry Potter Chatbot.\n",
        "\n",
        "<br><br>\n",
        "\n",
        "?? Image ??\n",
        "![image.png](data:image/png;base64,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)\n",
        "\n",
        "\n",
        "\n",
        "<br><br>\n"
      ]
    },
    {
      "cell_type": "markdown",
      "metadata": {
        "id": "QF4zj-K64zrb"
      },
      "source": [
        "Disable warning:"
      ]
    },
    {
      "cell_type": "code",
      "metadata": {
        "id": "ljrYYmp040FP"
      },
      "source": [
        "import warnings\n",
        "warnings.filterwarnings('ignore')"
      ],
      "execution_count": null,
      "outputs": []
    },
    {
      "cell_type": "markdown",
      "metadata": {
        "id": "fNROL6oY8Lcv"
      },
      "source": [
        "Dataset:"
      ]
    },
    {
      "cell_type": "code",
      "metadata": {
        "id": "12u8UwHo8M6K",
        "colab": {
          "base_uri": "https://localhost:8080/"
        },
        "outputId": "6a6ae327-c2f2-488c-de58-924d0a66f023"
      },
      "source": [
        "from tensorflow.keras.utils import get_file\n",
        "\n",
        "# from \n",
        "URLS = [\n",
        "    \"https://raw.githubusercontent.com/formcept/whiteboard/master/nbviewer/notebooks/data/harrypotter/Book%201%20-%20The%20Philosopher's%20Stone.txt\",\n",
        "    'https://raw.githubusercontent.com/formcept/whiteboard/master/nbviewer/notebooks/data/harrypotter/Book%202%20-%20The%20Chamber%20of%20Secrets.txt',\n",
        "    'https://raw.githubusercontent.com/formcept/whiteboard/master/nbviewer/notebooks/data/harrypotter/Book%203%20-%20The%20Prisoner%20of%20Azkaban.txt',\n",
        "    'https://raw.githubusercontent.com/formcept/whiteboard/master/nbviewer/notebooks/data/harrypotter/Book%204%20-%20The%20Goblet%20of%20Fire.txt',\n",
        "    'https://raw.githubusercontent.com/formcept/whiteboard/master/nbviewer/notebooks/data/harrypotter/Book%205%20-%20The%20Order%20of%20the%20Phoenix.txt',\n",
        "    'https://raw.githubusercontent.com/formcept/whiteboard/master/nbviewer/notebooks/data/harrypotter/Book%206%20-%20The%20Half%20Blood%20Prince.txt',\n",
        "    'https://raw.githubusercontent.com/formcept/whiteboard/master/nbviewer/notebooks/data/harrypotter/Book%207%20-%20The%20Deathly%20Hallows.txt'\n",
        "]\n",
        "\n",
        "# get file from url, and save in cache\n",
        "path_to_file = get_file('book1.txt', URLS[0])\n",
        "\n",
        "# get text from file\n",
        "text = open(path_to_file, 'rb').read().decode(encoding='utf-8')\n",
        "\n",
        "# length of text is the number of characters in it\n",
        "print ('Length of text: {} characters'.format(len(text)))\n",
        "\n",
        "# The unique characters in the file\n",
        "vocab = sorted(set(text))\n",
        "print ('{} unique characters'.format(len(vocab)))"
      ],
      "execution_count": null,
      "outputs": [
        {
          "output_type": "stream",
          "text": [
            "Downloading data from https://raw.githubusercontent.com/formcept/whiteboard/master/nbviewer/notebooks/data/harrypotter/Book%201%20-%20The%20Philosopher's%20Stone.txt\n",
            "499712/492161 [==============================] - 0s 0us/step\n",
            "Length of text: 474429 characters\n",
            "84 unique characters\n"
          ],
          "name": "stdout"
        }
      ]
    },
    {
      "cell_type": "markdown",
      "metadata": {
        "id": "wjPJrfpF79aW"
      },
      "source": [
        "<br><br><br><br><br>\n"
      ]
    },
    {
      "cell_type": "markdown",
      "metadata": {
        "id": "4GlPQ1v84xf3"
      },
      "source": [
        "# Chatbot - NLTK \n"
      ]
    },
    {
      "cell_type": "markdown",
      "metadata": {
        "id": "DpLIBxOz40ZP"
      },
      "source": [
        "#### Imports:"
      ]
    },
    {
      "cell_type": "code",
      "metadata": {
        "id": "TtynO8wq4cb8"
      },
      "source": [
        "import io\n",
        "import random\n",
        "import string \n",
        "import numpy as np\n",
        "\n",
        "from sklearn.feature_extraction.text import TfidfVectorizer\n",
        "from sklearn.metrics.pairwise import cosine_similarity\n",
        "\n",
        "import nltk\n",
        "from nltk.stem import WordNetLemmatizer"
      ],
      "execution_count": null,
      "outputs": []
    },
    {
      "cell_type": "markdown",
      "metadata": {
        "id": "MHElJBr446vZ"
      },
      "source": [
        "#### Downloading NLTK packages:"
      ]
    },
    {
      "cell_type": "code",
      "metadata": {
        "id": "MNulbt9x460e",
        "colab": {
          "base_uri": "https://localhost:8080/"
        },
        "outputId": "f209af55-515e-4aeb-d3b0-e9297d497aae"
      },
      "source": [
        "nltk.download('popular', quiet=True)\n",
        "nltk.download('punkt')\n",
        "nltk.download('wordnet')"
      ],
      "execution_count": null,
      "outputs": [
        {
          "output_type": "stream",
          "text": [
            "[nltk_data] Downloading package punkt to /root/nltk_data...\n",
            "[nltk_data]   Package punkt is already up-to-date!\n",
            "[nltk_data] Downloading package wordnet to /root/nltk_data...\n",
            "[nltk_data]   Package wordnet is already up-to-date!\n"
          ],
          "name": "stdout"
        },
        {
          "output_type": "execute_result",
          "data": {
            "text/plain": [
              "True"
            ]
          },
          "metadata": {
            "tags": []
          },
          "execution_count": 7
        }
      ]
    },
    {
      "cell_type": "markdown",
      "metadata": {
        "id": "vxyuTL0g49cc"
      },
      "source": [
        "#### Set corpus:"
      ]
    },
    {
      "cell_type": "code",
      "metadata": {
        "id": "FTPIlHe149ht"
      },
      "source": [
        "raw = text.lower()"
      ],
      "execution_count": null,
      "outputs": []
    },
    {
      "cell_type": "markdown",
      "metadata": {
        "id": "FI08DEPs5NoI"
      },
      "source": [
        "#### Tokenization"
      ]
    },
    {
      "cell_type": "code",
      "metadata": {
        "id": "l9Jelc4w5Ns7"
      },
      "source": [
        "# converts to list of sentences\n",
        "sent_tokens = nltk.sent_tokenize(raw)\n",
        "\n",
        "# converts to list of words\n",
        "word_tokens = nltk.word_tokenize(raw)"
      ],
      "execution_count": null,
      "outputs": []
    },
    {
      "cell_type": "markdown",
      "metadata": {
        "id": "Rk-cRvnn5N8v"
      },
      "source": [
        "#### Preprocessing"
      ]
    },
    {
      "cell_type": "code",
      "metadata": {
        "id": "HbGym5TI5OBW"
      },
      "source": [
        "lemmer = WordNetLemmatizer()\n",
        "\n",
        "def LemTokens(tokens):\n",
        "    return [lemmer.lemmatize(token) for token in tokens]\n",
        "\n",
        "def LemNormalize(text):\n",
        "    return LemTokens(nltk.word_tokenize(text.lower().translate(remove_punct_dict)))\n",
        "\n",
        "remove_punct_dict = dict((ord(punct), None) for punct in string.punctuation)"
      ],
      "execution_count": null,
      "outputs": []
    },
    {
      "cell_type": "markdown",
      "metadata": {
        "id": "4AuocnpE5OKp"
      },
      "source": [
        "#### Greeting:"
      ]
    },
    {
      "cell_type": "code",
      "metadata": {
        "id": "nJWYL2N65OPM"
      },
      "source": [
        "GREETING_INPUTS = (\"hello\", \"hi\", \"greetings\", \"sup\", \"what's up\",\"hey\",)\n",
        "GREETING_RESPONSES = [\"hi\", \"hey\", \"*nods*\", \"hi there\", \"hello\", \"I am glad! You are talking to me\"]\n",
        "\n",
        "def greeting(sentence):\n",
        "    \"\"\"If user's input is a greeting, return a greeting response\"\"\"\n",
        "    for word in sentence.split():\n",
        "        if word.lower() in GREETING_INPUTS:\n",
        "            return random.choice(GREETING_RESPONSES)"
      ],
      "execution_count": null,
      "outputs": []
    },
    {
      "cell_type": "markdown",
      "metadata": {
        "id": "mb62EE7k5Zlz"
      },
      "source": [
        "#### Response:  (using TF-IDF)\n"
      ]
    },
    {
      "cell_type": "code",
      "metadata": {
        "id": "w4lwCdY45dXp"
      },
      "source": [
        "def response(user_response):\n",
        "    \n",
        "    # add user response\n",
        "    sent_tokens.append(user_response)\n",
        "    \n",
        "    # remove stopwords, vectorize, transform\n",
        "    TfidfVec = TfidfVectorizer(tokenizer=LemNormalize, stop_words='english')\n",
        "    tfidf    = TfidfVec.fit_transform(sent_tokens)\n",
        "    \n",
        "    # similarity\n",
        "    vals = cosine_similarity(tfidf[-1], tfidf)\n",
        "    idx  = vals.argsort()[0][-2]\n",
        "    flat = vals.flatten()\n",
        "    flat.sort()\n",
        "    \n",
        "    req_tfidf = flat[-2]\n",
        "    if req_tfidf == 0 : # in case the similarity is zero\n",
        "        return  \"I am sorry! I don't understand you.\"\n",
        "        \n",
        "    # actual response\n",
        "    return '' + sent_tokens[idx]"
      ],
      "execution_count": null,
      "outputs": []
    },
    {
      "cell_type": "markdown",
      "metadata": {
        "id": "Agfkk37Z5e9R"
      },
      "source": [
        "#### Talking loop:"
      ]
    },
    {
      "cell_type": "code",
      "metadata": {
        "id": "j1r_3td55hiF",
        "colab": {
          "base_uri": "https://localhost:8080/"
        },
        "outputId": "f13df7bb-71db-4231-fec7-81c52d7aef5e"
      },
      "source": [
        "print(\"BOT: I'm am a chatbot. I can answer your queries about harry potter's book1. \\nIf you want to exit, type 'Bye'\")\n",
        "\n",
        "while( True ):\n",
        "    \n",
        "    # get input from user\n",
        "    user_response = input()\n",
        "    \n",
        "    # lower case\n",
        "    user_response = user_response.lower()\n",
        "\n",
        "    # check for finish\n",
        "    if user_response == 'bye':\n",
        "        print(\"BOT: Bye! take care..\")\n",
        "        break\n",
        "        \n",
        "    # some rule base responses\n",
        "    if user_response == 'thanks'   or   user_response == 'thank you':\n",
        "        print(\"BOT: You are welcome..\")\n",
        "        continue\n",
        "     \n",
        "    if  greeting(user_response) != None :\n",
        "        print(\"BOT: \" + greeting(user_response))\n",
        "        continue\n",
        "    \n",
        "    # actual responce\n",
        "    print(\"BOT: \" + response(user_response))\n",
        "    sent_tokens.remove(user_response)\n",
        "    \n",
        "        "
      ],
      "execution_count": null,
      "outputs": [
        {
          "output_type": "stream",
          "text": [
            "BOT: I'm am a chatbot. I can answer your queries about harry potter's book1. \n",
            "If you want to exit, type 'Bye'\n",
            "hello :)\n",
            "BOT: I am glad! You are talking to me\n",
            "yes,who is harry?\n",
            "BOT: “harry potter,” said harry.\n",
            "I asked who is he?\n",
            "BOT: how do you know?” \n",
            "\n",
            "“asked him.\n",
            "ok\n",
            "BOT: I am sorry! I don't understand you.\n",
            "thanks\n",
            "BOT: You are welcome..\n",
            "who is Ron?\n",
            "BOT: ron!\n",
            "yes Ron.\n",
            "BOT: “yes, yes.\n",
            "ok got u\n",
            "BOT: what is that to do with us?\n",
            "nothing\n",
            "BOT: I am sorry! I don't understand you.\n",
            "that's ok, I will make u understand\n",
            "BOT: how could they ever make up for this?\n",
            "bye\n",
            "BOT: Bye! take care..\n"
          ],
          "name": "stdout"
        }
      ]
    },
    {
      "cell_type": "markdown",
      "metadata": {
        "id": "OvXjFs4M5t5G"
      },
      "source": [
        "### Conclusions:  \n",
        "\n",
        "That's kinda cool, but it's easy to see that the Bot is not really talking, but more or less quoting from the book.     \n",
        "I need to make the Bot \"understand\", and make it mostly know how to generate better sentences.  \n",
        "\n",
        "\n",
        "<br><br><br>\n",
        "<br><br><br>\n",
        "<br><br><br>"
      ]
    },
    {
      "cell_type": "markdown",
      "metadata": {
        "id": "3mEYJw7c5v0S"
      },
      "source": [
        "# Chatbot - BERT"
      ]
    },
    {
      "cell_type": "code",
      "metadata": {
        "id": "oJ12L9DM9MRq",
        "colab": {
          "base_uri": "https://localhost:8080/"
        },
        "outputId": "3c1fa419-207c-4cc1-b379-4d5b0ca9070e"
      },
      "source": [
        "!pip install transformers"
      ],
      "execution_count": null,
      "outputs": [
        {
          "output_type": "stream",
          "text": [
            "Collecting transformers\n",
            "\u001b[?25l  Downloading https://files.pythonhosted.org/packages/2c/4e/4f1ede0fd7a36278844a277f8d53c21f88f37f3754abf76a5d6224f76d4a/transformers-3.4.0-py3-none-any.whl (1.3MB)\n",
            "\u001b[K     |████████████████████████████████| 1.3MB 2.8MB/s \n",
            "\u001b[?25hRequirement already satisfied: regex!=2019.12.17 in /usr/local/lib/python3.6/dist-packages (from transformers) (2019.12.20)\n",
            "Requirement already satisfied: tqdm>=4.27 in /usr/local/lib/python3.6/dist-packages (from transformers) (4.41.1)\n",
            "Requirement already satisfied: protobuf in /usr/local/lib/python3.6/dist-packages (from transformers) (3.12.4)\n",
            "Requirement already satisfied: packaging in /usr/local/lib/python3.6/dist-packages (from transformers) (20.4)\n",
            "Requirement already satisfied: filelock in /usr/local/lib/python3.6/dist-packages (from transformers) (3.0.12)\n",
            "Collecting sentencepiece!=0.1.92\n",
            "\u001b[?25l  Downloading https://files.pythonhosted.org/packages/e5/2d/6d4ca4bef9a67070fa1cac508606328329152b1df10bdf31fb6e4e727894/sentencepiece-0.1.94-cp36-cp36m-manylinux2014_x86_64.whl (1.1MB)\n",
            "\u001b[K     |████████████████████████████████| 1.1MB 17.1MB/s \n",
            "\u001b[?25hCollecting tokenizers==0.9.2\n",
            "\u001b[?25l  Downloading https://files.pythonhosted.org/packages/7c/a5/78be1a55b2ac8d6a956f0a211d372726e2b1dd2666bb537fea9b03abd62c/tokenizers-0.9.2-cp36-cp36m-manylinux1_x86_64.whl (2.9MB)\n",
            "\u001b[K     |████████████████████████████████| 2.9MB 20.5MB/s \n",
            "\u001b[?25hRequirement already satisfied: numpy in /usr/local/lib/python3.6/dist-packages (from transformers) (1.18.5)\n",
            "Collecting sacremoses\n",
            "\u001b[?25l  Downloading https://files.pythonhosted.org/packages/7d/34/09d19aff26edcc8eb2a01bed8e98f13a1537005d31e95233fd48216eed10/sacremoses-0.0.43.tar.gz (883kB)\n",
            "\u001b[K     |████████████████████████████████| 890kB 36.7MB/s \n",
            "\u001b[?25hRequirement already satisfied: requests in /usr/local/lib/python3.6/dist-packages (from transformers) (2.23.0)\n",
            "Requirement already satisfied: dataclasses; python_version < \"3.7\" in /usr/local/lib/python3.6/dist-packages (from transformers) (0.7)\n",
            "Requirement already satisfied: six>=1.9 in /usr/local/lib/python3.6/dist-packages (from protobuf->transformers) (1.15.0)\n",
            "Requirement already satisfied: setuptools in /usr/local/lib/python3.6/dist-packages (from protobuf->transformers) (50.3.2)\n",
            "Requirement already satisfied: pyparsing>=2.0.2 in /usr/local/lib/python3.6/dist-packages (from packaging->transformers) (2.4.7)\n",
            "Requirement already satisfied: click in /usr/local/lib/python3.6/dist-packages (from sacremoses->transformers) (7.1.2)\n",
            "Requirement already satisfied: joblib in /usr/local/lib/python3.6/dist-packages (from sacremoses->transformers) (0.17.0)\n",
            "Requirement already satisfied: idna<3,>=2.5 in /usr/local/lib/python3.6/dist-packages (from requests->transformers) (2.10)\n",
            "Requirement already satisfied: chardet<4,>=3.0.2 in /usr/local/lib/python3.6/dist-packages (from requests->transformers) (3.0.4)\n",
            "Requirement already satisfied: urllib3!=1.25.0,!=1.25.1,<1.26,>=1.21.1 in /usr/local/lib/python3.6/dist-packages (from requests->transformers) (1.24.3)\n",
            "Requirement already satisfied: certifi>=2017.4.17 in /usr/local/lib/python3.6/dist-packages (from requests->transformers) (2020.6.20)\n",
            "Building wheels for collected packages: sacremoses\n",
            "  Building wheel for sacremoses (setup.py) ... \u001b[?25l\u001b[?25hdone\n",
            "  Created wheel for sacremoses: filename=sacremoses-0.0.43-cp36-none-any.whl size=893257 sha256=65b4506e1364444ab16286c9321dd26ac78377ae4b2824273247a44b3cdc1239\n",
            "  Stored in directory: /root/.cache/pip/wheels/29/3c/fd/7ce5c3f0666dab31a50123635e6fb5e19ceb42ce38d4e58f45\n",
            "Successfully built sacremoses\n",
            "Installing collected packages: sentencepiece, tokenizers, sacremoses, transformers\n",
            "Successfully installed sacremoses-0.0.43 sentencepiece-0.1.94 tokenizers-0.9.2 transformers-3.4.0\n"
          ],
          "name": "stdout"
        }
      ]
    },
    {
      "cell_type": "markdown",
      "metadata": {
        "id": "onjkNeKf7pJk"
      },
      "source": [
        "#### Import"
      ]
    },
    {
      "cell_type": "code",
      "metadata": {
        "id": "S5YWMg-i5yUn"
      },
      "source": [
        "import torch \n",
        "\n",
        "from transformers import BertTokenizer\n",
        "from transformers import BertForQuestionAnswering"
      ],
      "execution_count": null,
      "outputs": []
    },
    {
      "cell_type": "markdown",
      "metadata": {
        "id": "0AQV9-EC7q9z"
      },
      "source": [
        "#### Download"
      ]
    },
    {
      "cell_type": "code",
      "metadata": {
        "id": "jMHT5gVz51oh",
        "colab": {
          "base_uri": "https://localhost:8080/",
          "height": 163,
          "referenced_widgets": [
            "74aa8a4dc1524291be9dce2449ab09d2",
            "7c754fe461874615948c6068f256afc2",
            "fa22a6e6d55242618b918891d1593ed7",
            "8d46c5435d3041d6a25d4c7d6dd90e9e",
            "74161b44b9d64a409dfcb169552f2d89",
            "afb87f91b8934c99a77b7a9b67a1ae94",
            "dcb30c55c07e4a79abdfccaa64b5ae51",
            "19cd8d5b278847c59b762b3f6888d2a5",
            "94bd715d3a5a45b0b5c6e9ab6537f165",
            "b41c7539c6aa42d083524ca3e3a10c4c",
            "4fb9d15fd610472c9f4468fcad5eb775",
            "760444f42eda4f31b0fa550b8bc421ea",
            "0407f8e894f8401588851c71dfcb6438",
            "e18e4cd827c54161a3e1134cd58b1744",
            "6db0c629a6ff4c1c9a2a235e9a0a0562",
            "0d394a3bd6904f599037995e259ef6a2",
            "c643ed8a659b42e5a9d6ad4694e7f2a2",
            "0658339f2de84eb9aa29a0a7f8a9fcd1",
            "f724d1379ffc4f52b2a2e13f6c6b0fe5",
            "a2711c6c19a145beb88768cdadb7f3ed",
            "a7796f33c630497194fcb5057988feb7",
            "2e57a519abfc4fe3aaab2cf13c9561c9",
            "596bde023bc24669b6a04f5740a2f5f3",
            "c22b3db2b7874583a9f2e6658cbc2faf"
          ]
        },
        "outputId": "27bf77f2-7713-48b2-ac60-2311f1d07dbb"
      },
      "source": [
        "tokenizer = BertTokenizer.from_pretrained('bert-large-uncased-whole-word-masking-finetuned-squad')\n",
        "model = BertForQuestionAnswering.from_pretrained('bert-large-uncased-whole-word-masking-finetuned-squad')"
      ],
      "execution_count": null,
      "outputs": [
        {
          "output_type": "display_data",
          "data": {
            "application/vnd.jupyter.widget-view+json": {
              "model_id": "74aa8a4dc1524291be9dce2449ab09d2",
              "version_minor": 0,
              "version_major": 2
            },
            "text/plain": [
              "HBox(children=(FloatProgress(value=0.0, description='Downloading', max=231508.0, style=ProgressStyle(descripti…"
            ]
          },
          "metadata": {
            "tags": []
          }
        },
        {
          "output_type": "stream",
          "text": [
            "\n"
          ],
          "name": "stdout"
        },
        {
          "output_type": "display_data",
          "data": {
            "application/vnd.jupyter.widget-view+json": {
              "model_id": "94bd715d3a5a45b0b5c6e9ab6537f165",
              "version_minor": 0,
              "version_major": 2
            },
            "text/plain": [
              "HBox(children=(FloatProgress(value=0.0, description='Downloading', max=443.0, style=ProgressStyle(description_…"
            ]
          },
          "metadata": {
            "tags": []
          }
        },
        {
          "output_type": "stream",
          "text": [
            "\n"
          ],
          "name": "stdout"
        },
        {
          "output_type": "display_data",
          "data": {
            "application/vnd.jupyter.widget-view+json": {
              "model_id": "c643ed8a659b42e5a9d6ad4694e7f2a2",
              "version_minor": 0,
              "version_major": 2
            },
            "text/plain": [
              "HBox(children=(FloatProgress(value=0.0, description='Downloading', max=1340675298.0, style=ProgressStyle(descr…"
            ]
          },
          "metadata": {
            "tags": []
          }
        },
        {
          "output_type": "stream",
          "text": [
            "\n"
          ],
          "name": "stdout"
        }
      ]
    },
    {
      "cell_type": "markdown",
      "metadata": {
        "id": "Ij9S6MwS7weY"
      },
      "source": [
        "#### Answer Question"
      ]
    },
    {
      "cell_type": "code",
      "metadata": {
        "id": "IgsicEkb53gf"
      },
      "source": [
        "def answer_question(question, answer_text):\n",
        "    '''\n",
        "    Takes a `question` string and an `answer_text` string (which contains the\n",
        "    answer), and identifies the words within the `answer_text` that are the\n",
        "    answer. Prints them out.\n",
        "    '''\n",
        "    # ======== Tokenize ========\n",
        "    # Apply the tokenizer to the input text, treating them as a text-pair.\n",
        "    input_ids = tokenizer.encode(question, answer_text)\n",
        "\n",
        "    # Report how long the input sequence is.\n",
        "    # print('Query has {:,} tokens.\\n'.format(len(input_ids)))\n",
        "\n",
        "    # ======== Set Segment IDs ========\n",
        "    # Search the input_ids for the first instance of the `[SEP]` token.\n",
        "    sep_index = input_ids.index(tokenizer.sep_token_id)\n",
        "\n",
        "    # The number of segment A tokens includes the [SEP] token istelf.\n",
        "    num_seg_a = sep_index + 1\n",
        "\n",
        "    # The remainder are segment B.\n",
        "    num_seg_b = len(input_ids) - num_seg_a\n",
        "\n",
        "    # Construct the list of 0s and 1s.\n",
        "    segment_ids = [0]*num_seg_a + [1]*num_seg_b\n",
        "\n",
        "    # There should be a segment_id for every input token.\n",
        "    assert len(segment_ids) == len(input_ids)\n",
        "\n",
        "    # ======== Evaluate ========\n",
        "    # Run our example question through the model.\n",
        "    start_scores, end_scores = model(torch.tensor([input_ids]), # The tokens representing our input text.\n",
        "                                    token_type_ids=torch.tensor([segment_ids])) # The segment IDs to differentiate question from answer_text\n",
        "\n",
        "    # ======== Reconstruct Answer ========\n",
        "    # Find the tokens with the highest `start` and `end` scores.\n",
        "    answer_start = torch.argmax(start_scores)\n",
        "    answer_end = torch.argmax(end_scores)\n",
        "\n",
        "    # Get the string versions of the input tokens.\n",
        "    tokens = tokenizer.convert_ids_to_tokens(input_ids)\n",
        "\n",
        "    # Start with the first token.\n",
        "    answer = tokens[answer_start]\n",
        "\n",
        "    # Select the remaining answer tokens and join them with whitespace.\n",
        "    for i in range(answer_start + 1, answer_end + 1):\n",
        "        \n",
        "        # If it's a subword token, then recombine it with the previous token.\n",
        "        if tokens[i][0:2] == '##':\n",
        "            answer += tokens[i][2:]\n",
        "        \n",
        "        # Otherwise, add a space then the token.\n",
        "        else:\n",
        "            answer += ' ' + tokens[i]\n",
        "\n",
        "    if '[SEP]' in answer:\n",
        "        return \"Is that a questions? cuz I don't understand.\"\n",
        "    \n",
        "    return answer"
      ],
      "execution_count": null,
      "outputs": []
    },
    {
      "cell_type": "markdown",
      "metadata": {
        "id": "jjpsroua70Ps"
      },
      "source": [
        "#### Talking Loop"
      ]
    },
    {
      "cell_type": "code",
      "metadata": {
        "id": "9Fe_6Dst54Jq",
        "colab": {
          "base_uri": "https://localhost:8080/"
        },
        "outputId": "36077999-7711-4bc4-8445-0ddcd4941a4a"
      },
      "source": [
        "print(\"BOT: I'm am a chatbot. I can answer your queries about harry potter's book1. \\nIf you want to exit, type 'Bye'\\n\")\n",
        "\n",
        "from_text = text.lower()[0:2000]\n",
        "\n",
        "while( True ):\n",
        "    \n",
        "    # get input from user\n",
        "    user_response = input()\n",
        "    \n",
        "    # lower case\n",
        "    user_response = user_response.lower()\n",
        "\n",
        "    # check for finish\n",
        "    if user_response == 'bye':\n",
        "        print(\"BOT: Bye! take care..\")\n",
        "        break\n",
        "    \n",
        "    # actual responce\n",
        "    print(\"BOT: \" + answer_question(user_response, from_text))\n",
        "    \n",
        "        "
      ],
      "execution_count": null,
      "outputs": [
        {
          "output_type": "stream",
          "text": [
            "BOT: I'm am a chatbot. I can answer your queries about harry potter's book1. \n",
            "If you want to exit, type 'Bye'\n",
            "\n",
            "Who is Dursley?\n",
            "BOT: mr . dursley was the director of a firm called grunnings\n",
            "who is Dursely's sister?\n",
            "BOT: mrs . potter\n",
            "where is he works?\n",
            "BOT: grunnings\n",
            "Who is harry potter?\n",
            "BOT: Is that a questions? cuz I don't understand.\n",
            "u don't know who is harry potter?\n",
            "BOT: Is that a questions? cuz I don't understand.\n",
            "your not that good of a bot.\n",
            "BOT: Is that a questions? cuz I don't understand.\n",
            "bye\n",
            "BOT: Bye! take care..\n"
          ],
          "name": "stdout"
        }
      ]
    },
    {
      "cell_type": "markdown",
      "metadata": {
        "id": "YgK_cu0G6AKv"
      },
      "source": [
        "### Conclusions:\n",
        "\n",
        "As I mentioned, I already build something like that.     \n",
        "Also, I could find out why HugginFace closes the models for 512/1024 unique ID's.    \n",
        "\n",
        "There is still problems with the model. The Bot can answer questions, but not really talking.  \n"
      ]
    }
  ]
}