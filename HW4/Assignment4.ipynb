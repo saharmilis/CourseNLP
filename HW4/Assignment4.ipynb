{
  "nbformat": 4,
  "nbformat_minor": 0,
  "metadata": {
    "colab": {
      "name": "Copy of Copy of Assignment 4 - NER with BERT",
      "provenance": [],
      "collapsed_sections": []
    },
    "kernelspec": {
      "name": "python3",
      "display_name": "Python 3"
    },
    "accelerator": "GPU"
  },
  "cells": [
    {
      "cell_type": "markdown",
      "metadata": {
        "id": "k-WJBimYDLJS"
      },
      "source": [
        "# Assignment 4\n",
        "Training a neural named entity recognition (NER) tagger using BERT."
      ]
    },
    {
      "cell_type": "code",
      "metadata": {
        "id": "3enPCGBF8FlX"
      },
      "source": [
        "import torch\n",
        "import torch.nn as nn\n",
        "import torch.optim as optim\n",
        "\n",
        "# additinal packages\n",
        "import os,io\n",
        "import numpy as np\n",
        "import pandas as pd\n",
        "from tabulate import tabulate\n",
        "from random import sample,shuffle\n",
        "\n",
        "from IPython.core.display import display, HTML\n",
        "\n",
        "DEVICE = 'cuda' if torch.cuda.is_available() else 'cpu'\n",
        "\n",
        "# Disabling autoscrolling for long output\n",
        "# %%javascript\n",
        "# IPython.OutputArea.prototype._should_scroll = function(lines) {\n",
        "#     return false;\n",
        "# }\n"
      ],
      "execution_count": null,
      "outputs": []
    },
    {
      "cell_type": "code",
      "metadata": {
        "id": "8w7YZ4OxLboA",
        "colab": {
          "base_uri": "https://localhost:8080/",
          "height": 140
        },
        "outputId": "b29078b5-b7e6-4cf2-ebca-6f8f94c391a1"
      },
      "source": [
        "from google.colab import drive  \n",
        "drive.mount(r'/content/drive/',force_remount=True) \n",
        "\n",
        "data_dir = os.getcwd() + '/' + 'drive/My Drive/Colab Notebooks/NLP/HW4'\n",
        "data_dir"
      ],
      "execution_count": null,
      "outputs": [
        {
          "output_type": "stream",
          "text": [
            "Go to this URL in a browser: https://accounts.google.com/o/oauth2/auth?client_id=947318989803-6bn6qk8qdgf4n4g3pfee6491hc0brc4i.apps.googleusercontent.com&redirect_uri=urn%3aietf%3awg%3aoauth%3a2.0%3aoob&response_type=code&scope=email%20https%3a%2f%2fwww.googleapis.com%2fauth%2fdocs.test%20https%3a%2f%2fwww.googleapis.com%2fauth%2fdrive%20https%3a%2f%2fwww.googleapis.com%2fauth%2fdrive.photos.readonly%20https%3a%2f%2fwww.googleapis.com%2fauth%2fpeopleapi.readonly\n",
            "\n",
            "Enter your authorization code:\n",
            "··········\n",
            "Mounted at /content/drive/\n"
          ],
          "name": "stdout"
        },
        {
          "output_type": "execute_result",
          "data": {
            "application/vnd.google.colaboratory.intrinsic": {
              "type": "string"
            },
            "text/plain": [
              "'/content/drive/My Drive/Colab Notebooks/NLP/HW4'"
            ]
          },
          "metadata": {
            "tags": []
          },
          "execution_count": 2
        }
      ]
    },
    {
      "cell_type": "markdown",
      "metadata": {
        "id": "V5QSIEoyDdWh"
      },
      "source": [
        "In this assignment you are required to build a full training and testing pipeline for a neural sequentail tagger for named entities, using BERT transformer, similar to assignment 3.\n",
        "\n",
        "The dataset that you will be working on is called ReCoNLL 2003, which is a corrected version of the CoNLL 2003 dataset: https://www.clips.uantwerpen.be/conll2003/ner/\n",
        "\n",
        "[Train data](https://drive.google.com/file/d/1hG66e_OoezzeVKho1w7ysyAx4yp0ShDz/view?usp=sharing)\n",
        "\n",
        "[Dev data](https://drive.google.com/file/d/1EAF-VygYowU1XknZhvzMi2CID65I127L/view?usp=sharing)\n",
        "\n",
        "[Test data](https://drive.google.com/file/d/16gug5wWnf06JdcBXQbcICOZGZypgr4Iu/view?usp=sharing)\n",
        "\n",
        "As you can see, the annotated texts are labeled according to the IOB annotation scheme, for 3 entity types: Person, Organization, Location."
      ]
    },
    {
      "cell_type": "markdown",
      "metadata": {
        "id": "5ul2Y3vuPoV8"
      },
      "source": [
        "***(Already done in Assignment 3, so you may copy and paste it here)*** Write a funtion for reading the data from a single file (of the ones that are provided above). The function recieves a filepath and then it encodes every sentence individually using a pair of lists, one list contains the words and one list contains the tags. Each list pair will be added to a general list (data), which will be returned back from the function."
      ]
    },
    {
      "cell_type": "code",
      "metadata": {
        "id": "prgzgtt8Jw4Y",
        "colab": {
          "base_uri": "https://localhost:8080/",
          "height": 34
        },
        "outputId": "faf2906f-1ff2-4c1f-bf84-1454fb0a8885"
      },
      "source": [
        "def read_data(filepath):\n",
        "    data = []\n",
        "    # TODO... write your code accordingly \n",
        "    \n",
        "    # read file - split into lines\n",
        "    with open(data_dir + '/' + filepath,'r') as f:\n",
        "        output = f.read().splitlines()\n",
        "\n",
        "    # initial new sentence\n",
        "    words = []\n",
        "    tags  = []\n",
        "    \n",
        "    # run on all lines and create sentences based on this way --> data[i] = list(words):list(tags)\n",
        "    for o in output:\n",
        "        \n",
        "        # for every new sentence\n",
        "        if o=='':\n",
        "            sentence = ' '.join(word for word in words)\n",
        "            data.append((sentence,words,tags))\n",
        "            tags=[]\n",
        "            words=[]\n",
        "            continue\n",
        "\n",
        "        # for each line split into word:tag\n",
        "        w,t = o.strip().split(' ') # did not lower case\n",
        "        words.append(w)\n",
        "        tags.append(t)\n",
        "\n",
        "    # when files end, add last sentence (if it's not empty)\n",
        "    if len(words):\n",
        "        sentence = ' '.join(word for word in words)\n",
        "        data.append((sentence,words,tags))\n",
        "    \n",
        "    return data\n",
        "\n",
        "# # Google Drive\n",
        "# train = read_data('https://drive.google.com/file/d/1hG66e_OoezzeVKho1w7ysyAx4yp0ShDz/view?usp=sharing')\n",
        "# dev = read_data('https://drive.google.com/file/d/1EAF-VygYowU1XknZhvzMi2CID65I127L/view?usp=sharing')\n",
        "# test = read_data('https://drive.google.com/file/d/16gug5wWnf06JdcBXQbcICOZGZypgr4Iu/view?usp=sharing')\n",
        "\n",
        "train_data_,dev_data_,test_data_ = read_data('data/connl03_train.txt'), read_data('data/connl03_dev.txt'), read_data('data/connl03_test.txt')\n",
        "len(train_data_),len(dev_data_),len(test_data_)"
      ],
      "execution_count": null,
      "outputs": [
        {
          "output_type": "execute_result",
          "data": {
            "text/plain": [
              "(1750, 250, 500)"
            ]
          },
          "metadata": {
            "tags": []
          },
          "execution_count": 55
        }
      ]
    },
    {
      "cell_type": "code",
      "metadata": {
        "id": "Blxk6WKOTALo",
        "colab": {
          "base_uri": "https://localhost:8080/",
          "height": 187
        },
        "outputId": "e637e989-704c-4581-b8ec-dcad3c312b04"
      },
      "source": [
        "train_data_[10]"
      ],
      "execution_count": null,
      "outputs": [
        {
          "output_type": "execute_result",
          "data": {
            "text/plain": [
              "('- Financial negotiations between Lebanon and Pakistan .',\n",
              " ['-',\n",
              "  'Financial',\n",
              "  'negotiations',\n",
              "  'between',\n",
              "  'Lebanon',\n",
              "  'and',\n",
              "  'Pakistan',\n",
              "  '.'],\n",
              " ['O', 'O', 'O', 'O', 'B-LOC', 'O', 'B-LOC', 'O'])"
            ]
          },
          "metadata": {
            "tags": []
          },
          "execution_count": 56
        }
      ]
    },
    {
      "cell_type": "code",
      "metadata": {
        "id": "RoHqSAgkSvFu"
      },
      "source": [
        "# labels IDs\n",
        "tag_values = []\n",
        "\n",
        "for t in train_data_:\n",
        "  tag_values.extend(t[2])\n",
        "\n",
        "tag_values.append('PAD')\n",
        "\n",
        "tag_values = list(set(labels))\n",
        "tag2idx  = {l:i for i,l in enumerate(labels)}\n",
        "idx2tag  = {i:l for i,l in enumerate(labels)}\n",
        "\n"
      ],
      "execution_count": null,
      "outputs": []
    },
    {
      "cell_type": "markdown",
      "metadata": {
        "id": "IuGwk6OwRWGS"
      },
      "source": [
        "Use Huggingface transformers:\n",
        "https://github.com/huggingface/transformers\n",
        "\n",
        "to process the data and train a BERT model (with a Linear layer on top) for NER.\n",
        "\n",
        "Then, evaluate it on the Dev and Test data and report on results."
      ]
    },
    {
      "cell_type": "markdown",
      "metadata": {
        "id": "5NWkL8ullBYG"
      },
      "source": [
        "**Understand The Labels:** (`from doc`)\n",
        "- \"O\",        Outside of a named entity\n",
        "- \"B-MISC\",   Beginning of a miscellaneous entity right after another miscellaneous entity\n",
        "- \"I-MISC\",   Miscellaneous entity\n",
        "- \"B-PER\",    Beginning of a person's name right after another person's name\n",
        "- \"I-PER\",    Person's name\n",
        "- \"B-ORG\",    Beginning of an organisation right after another organisation\n",
        "- \"I-ORG\",    Organisation\n",
        "- \"B-LOC\",    Beginning of a location right after another location\n",
        "- \"I-LOC\"     Location"
      ]
    },
    {
      "cell_type": "markdown",
      "metadata": {
        "id": "TYMFUcV2iWot"
      },
      "source": [
        "As the `connl03 dataset` describe - the 'O' will be most of the tags, but I actualy \"don't care\" about it.  \n",
        "Also, it's great that the train and dev has the same ratios between tags. \n",
        "\n",
        "Let's get to work...\n"
      ]
    },
    {
      "cell_type": "markdown",
      "metadata": {
        "id": "_eP_E7THScjj"
      },
      "source": [
        "# Installing [huggingface/transformers](https://github.com/huggingface/transformers)\n"
      ]
    },
    {
      "cell_type": "code",
      "metadata": {
        "id": "aGNwtXGISR7e",
        "colab": {
          "base_uri": "https://localhost:8080/",
          "height": 595
        },
        "outputId": "877f1e0e-2997-4347-d52f-e27167d5528a"
      },
      "source": [
        "!pip install transformers"
      ],
      "execution_count": null,
      "outputs": [
        {
          "output_type": "stream",
          "text": [
            "Collecting transformers\n",
            "\u001b[?25l  Downloading https://files.pythonhosted.org/packages/27/3c/91ed8f5c4e7ef3227b4119200fc0ed4b4fd965b1f0172021c25701087825/transformers-3.0.2-py3-none-any.whl (769kB)\n",
            "\u001b[K     |████████████████████████████████| 778kB 2.9MB/s \n",
            "\u001b[?25hCollecting tokenizers==0.8.1.rc1\n",
            "\u001b[?25l  Downloading https://files.pythonhosted.org/packages/40/d0/30d5f8d221a0ed981a186c8eb986ce1c94e3a6e87f994eae9f4aa5250217/tokenizers-0.8.1rc1-cp36-cp36m-manylinux1_x86_64.whl (3.0MB)\n",
            "\u001b[K     |████████████████████████████████| 3.0MB 15.6MB/s \n",
            "\u001b[?25hRequirement already satisfied: tqdm>=4.27 in /usr/local/lib/python3.6/dist-packages (from transformers) (4.41.1)\n",
            "Requirement already satisfied: numpy in /usr/local/lib/python3.6/dist-packages (from transformers) (1.18.5)\n",
            "Requirement already satisfied: filelock in /usr/local/lib/python3.6/dist-packages (from transformers) (3.0.12)\n",
            "Collecting sentencepiece!=0.1.92\n",
            "\u001b[?25l  Downloading https://files.pythonhosted.org/packages/d4/a4/d0a884c4300004a78cca907a6ff9a5e9fe4f090f5d95ab341c53d28cbc58/sentencepiece-0.1.91-cp36-cp36m-manylinux1_x86_64.whl (1.1MB)\n",
            "\u001b[K     |████████████████████████████████| 1.1MB 22.2MB/s \n",
            "\u001b[?25hCollecting sacremoses\n",
            "\u001b[?25l  Downloading https://files.pythonhosted.org/packages/7d/34/09d19aff26edcc8eb2a01bed8e98f13a1537005d31e95233fd48216eed10/sacremoses-0.0.43.tar.gz (883kB)\n",
            "\u001b[K     |████████████████████████████████| 890kB 42.5MB/s \n",
            "\u001b[?25hRequirement already satisfied: requests in /usr/local/lib/python3.6/dist-packages (from transformers) (2.23.0)\n",
            "Requirement already satisfied: dataclasses; python_version < \"3.7\" in /usr/local/lib/python3.6/dist-packages (from transformers) (0.7)\n",
            "Requirement already satisfied: regex!=2019.12.17 in /usr/local/lib/python3.6/dist-packages (from transformers) (2019.12.20)\n",
            "Requirement already satisfied: packaging in /usr/local/lib/python3.6/dist-packages (from transformers) (20.4)\n",
            "Requirement already satisfied: six in /usr/local/lib/python3.6/dist-packages (from sacremoses->transformers) (1.12.0)\n",
            "Requirement already satisfied: click in /usr/local/lib/python3.6/dist-packages (from sacremoses->transformers) (7.1.2)\n",
            "Requirement already satisfied: joblib in /usr/local/lib/python3.6/dist-packages (from sacremoses->transformers) (0.16.0)\n",
            "Requirement already satisfied: chardet<4,>=3.0.2 in /usr/local/lib/python3.6/dist-packages (from requests->transformers) (3.0.4)\n",
            "Requirement already satisfied: certifi>=2017.4.17 in /usr/local/lib/python3.6/dist-packages (from requests->transformers) (2020.6.20)\n",
            "Requirement already satisfied: idna<3,>=2.5 in /usr/local/lib/python3.6/dist-packages (from requests->transformers) (2.10)\n",
            "Requirement already satisfied: urllib3!=1.25.0,!=1.25.1,<1.26,>=1.21.1 in /usr/local/lib/python3.6/dist-packages (from requests->transformers) (1.24.3)\n",
            "Requirement already satisfied: pyparsing>=2.0.2 in /usr/local/lib/python3.6/dist-packages (from packaging->transformers) (2.4.7)\n",
            "Building wheels for collected packages: sacremoses\n",
            "  Building wheel for sacremoses (setup.py) ... \u001b[?25l\u001b[?25hdone\n",
            "  Created wheel for sacremoses: filename=sacremoses-0.0.43-cp36-none-any.whl size=893260 sha256=c9b0c7a2f135454b0ac0ecc83be2eb4bbd7d88dcd129093dac3318c3dae6f2b5\n",
            "  Stored in directory: /root/.cache/pip/wheels/29/3c/fd/7ce5c3f0666dab31a50123635e6fb5e19ceb42ce38d4e58f45\n",
            "Successfully built sacremoses\n",
            "Installing collected packages: tokenizers, sentencepiece, sacremoses, transformers\n",
            "Successfully installed sacremoses-0.0.43 sentencepiece-0.1.91 tokenizers-0.8.1rc1 transformers-3.0.2\n"
          ],
          "name": "stdout"
        }
      ]
    },
    {
      "cell_type": "code",
      "metadata": {
        "id": "TPIe8hb6nGpX"
      },
      "source": [
        "# testing\n",
        "from transformers import BertForTokenClassification"
      ],
      "execution_count": null,
      "outputs": []
    },
    {
      "cell_type": "markdown",
      "metadata": {
        "id": "a_kPdq-lxU0I"
      },
      "source": [
        "Due to the way BERT tagging works I understand why I have to use the built-in Tokenizer."
      ]
    },
    {
      "cell_type": "markdown",
      "metadata": {
        "id": "Ad8nxIaEnsOw"
      },
      "source": [
        "# Fine-tuning & pretrained BERT"
      ]
    },
    {
      "cell_type": "markdown",
      "metadata": {
        "id": "NaBWRJvRp3hq"
      },
      "source": [
        "I choosed to use Case Sensitive, due to additional information it will give for solving the NER task.  \n",
        "Also, I choosed to use the 'base' version of BERT, due to my low computational power."
      ]
    },
    {
      "cell_type": "code",
      "metadata": {
        "id": "igucKDFW1f_L",
        "colab": {
          "base_uri": "https://localhost:8080/",
          "height": 35
        },
        "outputId": "bead5f0e-c7a6-4663-99f8-b2970f4b5cdc"
      },
      "source": [
        "import torch\n",
        "from torch.utils.data import Dataset, DataLoader, TensorDataset, RandomSampler, SequentialSampler\n",
        "from transformers import BertForTokenClassification, BertTokenizer, BertConfig, AdamW, get_linear_schedule_with_warmup\n",
        "\n",
        "torch.__version__"
      ],
      "execution_count": null,
      "outputs": [
        {
          "output_type": "execute_result",
          "data": {
            "application/vnd.google.colaboratory.intrinsic": {
              "type": "string"
            },
            "text/plain": [
              "'1.5.1+cu101'"
            ]
          },
          "metadata": {
            "tags": []
          },
          "execution_count": 48
        }
      ]
    },
    {
      "cell_type": "code",
      "metadata": {
        "id": "I0eInGRrVFNe"
      },
      "source": [
        "from keras.preprocessing.sequence import pad_sequences\n",
        "\n",
        "tokenizer = BertTokenizer.from_pretrained('bert-base-cased', do_lower_case=False)\n",
        "\n",
        "\n",
        "def tokenize_and_preserve_labels(sentence, text_labels):\n",
        "    tokenized_sentence = []\n",
        "    labels = []\n",
        "\n",
        "    for word, label in zip(sentence, text_labels):\n",
        "\n",
        "        # Tokenize the word and count # of subwords the word is broken into\n",
        "        tokenized_word = tokenizer.tokenize(word)\n",
        "        n_subwords = len(tokenized_word)\n",
        "\n",
        "        # Add the tokenized word to the final tokenized word list\n",
        "        tokenized_sentence.extend(tokenized_word)\n",
        "\n",
        "        # Add the same label to the new list of labels `n_subwords` times\n",
        "        labels.extend([label] * n_subwords)\n",
        "\n",
        "    return tokenized_sentence, labels\n",
        "\n",
        "\n",
        "MAX_LEN = 75\n",
        "bs = 32\n",
        "\n",
        "\n",
        "def prepare_data(data):\n",
        "  sentences = [s[0] for s in data]\n",
        "  labels = [l[2] for l in data]\n",
        "\n",
        "  tokenized_texts_and_labels = [tokenize_and_preserve_labels(sent, labs) for sent, labs in zip(sentences, labels) ]\n",
        "  tokenized_texts = [token_label_pair[0] for token_label_pair in tokenized_texts_and_labels]\n",
        "  tokenized_labels = [token_label_pair[1] for token_label_pair in tokenized_texts_and_labels]\n",
        "\n",
        "\n",
        "  input_ids = pad_sequences([tokenizer.convert_tokens_to_ids(txt) for txt in tokenized_texts],\n",
        "                          maxlen=MAX_LEN, dtype=\"long\", value=0.0,\n",
        "                          truncating=\"post\", padding=\"post\")\n",
        "\n",
        "  tags = pad_sequences([[tag2idx.get(l) for l in lab] for lab in labels],\n",
        "                      maxlen=MAX_LEN, value=tag2idx[\"PAD\"], padding=\"post\",\n",
        "                      dtype=\"long\", truncating=\"post\")\n",
        "\n",
        "\n",
        "  attention_masks = [[float(i != 0.0) for i in ii] for ii in input_ids]\n",
        "\n",
        "  return torch.tensor(input_ids).to(DEVICE),torch.tensor(attention_masks).to(DEVICE),torch.tensor(tags).to(DEVICE)\n",
        "\n",
        "\n",
        "train_set = prepare_data(train_data_)\n",
        "dev_set   = prepare_data(dev_data_)\n",
        "test_set  = prepare_data(test_data_)\n",
        "\n",
        "\n",
        "train_data = TensorDataset(train_set[0],train_set[1],train_set[2])\n",
        "train_sampler = RandomSampler(train_data)\n",
        "train_dataloader = DataLoader(train_data, sampler=train_sampler, batch_size=bs)\n",
        "\n",
        "valid_data = TensorDataset(dev_set[0], dev_set[1], dev_set[2])\n",
        "valid_sampler = SequentialSampler(valid_data)\n",
        "valid_dataloader = DataLoader(valid_data, sampler=valid_sampler, batch_size=bs)\n",
        "\n",
        "test_data = TensorDataset(test_set[0],test_set[1],test_set[2])\n",
        "test_sampler = RandomSampler(test_data)\n",
        "test_dataloader = DataLoader(test_data, sampler=test_sampler, batch_size=bs)\n"
      ],
      "execution_count": null,
      "outputs": []
    },
    {
      "cell_type": "code",
      "metadata": {
        "id": "JzCrCpQ3VFQG",
        "colab": {
          "base_uri": "https://localhost:8080/",
          "height": 122
        },
        "outputId": "e76d3bd7-0f0c-45f3-9a8e-d2649e1b7463"
      },
      "source": [
        "model = BertForTokenClassification.from_pretrained(\n",
        "    \"bert-base-cased\",\n",
        "    num_labels=len(tag2idx),\n",
        "    output_attentions = False,\n",
        "    output_hidden_states = False\n",
        ").to(DEVICE)\n"
      ],
      "execution_count": null,
      "outputs": [
        {
          "output_type": "stream",
          "text": [
            "Some weights of the model checkpoint at bert-base-cased were not used when initializing BertForTokenClassification: ['cls.predictions.bias', 'cls.predictions.transform.dense.weight', 'cls.predictions.transform.dense.bias', 'cls.predictions.decoder.weight', 'cls.seq_relationship.weight', 'cls.seq_relationship.bias', 'cls.predictions.transform.LayerNorm.weight', 'cls.predictions.transform.LayerNorm.bias']\n",
            "- This IS expected if you are initializing BertForTokenClassification from the checkpoint of a model trained on another task or with another architecture (e.g. initializing a BertForSequenceClassification model from a BertForPretraining model).\n",
            "- This IS NOT expected if you are initializing BertForTokenClassification from the checkpoint of a model that you expect to be exactly identical (initializing a BertForSequenceClassification model from a BertForSequenceClassification model).\n",
            "Some weights of BertForTokenClassification were not initialized from the model checkpoint at bert-base-cased and are newly initialized: ['classifier.weight', 'classifier.bias']\n",
            "You should probably TRAIN this model on a down-stream task to be able to use it for predictions and inference.\n"
          ],
          "name": "stderr"
        }
      ]
    },
    {
      "cell_type": "code",
      "metadata": {
        "id": "wNvfYYFCVFSY"
      },
      "source": [
        "FULL_FINETUNING = True\n",
        "if FULL_FINETUNING:\n",
        "    param_optimizer = list(model.named_parameters())\n",
        "    no_decay = ['bias', 'gamma', 'beta']\n",
        "    optimizer_grouped_parameters = [\n",
        "        {'params': [p for n, p in param_optimizer if not any(nd in n for nd in no_decay)],\n",
        "         'weight_decay_rate': 0.01},\n",
        "        {'params': [p for n, p in param_optimizer if any(nd in n for nd in no_decay)],\n",
        "         'weight_decay_rate': 0.0}\n",
        "    ]\n",
        "else:\n",
        "    param_optimizer = list(model.classifier.named_parameters())\n",
        "    optimizer_grouped_parameters = [{\"params\": [p for n, p in param_optimizer]}]\n",
        "\n",
        "optimizer = AdamW(\n",
        "    optimizer_grouped_parameters,\n",
        "    lr=3e-5,\n",
        "    eps=1e-8\n",
        ")"
      ],
      "execution_count": null,
      "outputs": []
    },
    {
      "cell_type": "code",
      "metadata": {
        "id": "4iMrwMqeVFUw"
      },
      "source": [
        "epochs = 30\n",
        "max_grad_norm = 1.0\n",
        "\n",
        "# Total number of training steps is number of batches * number of epochs.\n",
        "total_steps = len(train_dataloader) * epochs\n",
        "\n",
        "# Create the learning rate scheduler.\n",
        "scheduler = get_linear_schedule_with_warmup(\n",
        "    optimizer,\n",
        "    num_warmup_steps=0,\n",
        "    num_training_steps=total_steps\n",
        ")"
      ],
      "execution_count": null,
      "outputs": []
    },
    {
      "cell_type": "code",
      "metadata": {
        "id": "Jh_uNmqpeO3z",
        "colab": {
          "base_uri": "https://localhost:8080/",
          "height": 306
        },
        "outputId": "89f88a37-3c00-48b8-8786-e2180c00c8b3"
      },
      "source": [
        "!pip install seqeval"
      ],
      "execution_count": null,
      "outputs": [
        {
          "output_type": "stream",
          "text": [
            "Collecting seqeval\n",
            "  Downloading https://files.pythonhosted.org/packages/34/91/068aca8d60ce56dd9ba4506850e876aba5e66a6f2f29aa223224b50df0de/seqeval-0.0.12.tar.gz\n",
            "Requirement already satisfied: numpy>=1.14.0 in /usr/local/lib/python3.6/dist-packages (from seqeval) (1.18.5)\n",
            "Requirement already satisfied: Keras>=2.2.4 in /usr/local/lib/python3.6/dist-packages (from seqeval) (2.3.1)\n",
            "Requirement already satisfied: h5py in /usr/local/lib/python3.6/dist-packages (from Keras>=2.2.4->seqeval) (2.10.0)\n",
            "Requirement already satisfied: scipy>=0.14 in /usr/local/lib/python3.6/dist-packages (from Keras>=2.2.4->seqeval) (1.4.1)\n",
            "Requirement already satisfied: six>=1.9.0 in /usr/local/lib/python3.6/dist-packages (from Keras>=2.2.4->seqeval) (1.12.0)\n",
            "Requirement already satisfied: keras-preprocessing>=1.0.5 in /usr/local/lib/python3.6/dist-packages (from Keras>=2.2.4->seqeval) (1.1.2)\n",
            "Requirement already satisfied: pyyaml in /usr/local/lib/python3.6/dist-packages (from Keras>=2.2.4->seqeval) (3.13)\n",
            "Requirement already satisfied: keras-applications>=1.0.6 in /usr/local/lib/python3.6/dist-packages (from Keras>=2.2.4->seqeval) (1.0.8)\n",
            "Building wheels for collected packages: seqeval\n",
            "  Building wheel for seqeval (setup.py) ... \u001b[?25l\u001b[?25hdone\n",
            "  Created wheel for seqeval: filename=seqeval-0.0.12-cp36-none-any.whl size=7424 sha256=c5a106f6efd9aafa2acfdc560719a5201c5d760438bb96848db9df135b1c3e69\n",
            "  Stored in directory: /root/.cache/pip/wheels/4f/32/0a/df3b340a82583566975377d65e724895b3fad101a3fb729f68\n",
            "Successfully built seqeval\n",
            "Installing collected packages: seqeval\n",
            "Successfully installed seqeval-0.0.12\n"
          ],
          "name": "stdout"
        }
      ]
    },
    {
      "cell_type": "code",
      "metadata": {
        "id": "Ygq_F1nTVFXH",
        "colab": {
          "base_uri": "https://localhost:8080/",
          "height": 1000
        },
        "outputId": "50f83e49-720f-4138-8b3c-fb111331d91f"
      },
      "source": [
        "from seqeval.metrics import f1_score, accuracy_score\n",
        "\n",
        "## Store the average loss after each epoch so we can plot them.\n",
        "loss_values, validation_loss_values = [], []\n",
        "\n",
        "for _ in range(epochs):\n",
        "    # ========================================\n",
        "    #               Training\n",
        "    # ========================================\n",
        "    # Perform one full pass over the training set.\n",
        "\n",
        "    # Put the model into training mode.\n",
        "    model.train()\n",
        "    # Reset the total loss for this epoch.\n",
        "    total_loss = 0\n",
        "\n",
        "    # Training loop\n",
        "    for step, batch in enumerate(train_dataloader):\n",
        "        \n",
        "        # add batch to gpu\n",
        "        batch = tuple(t.to(DEVICE) for t in batch)\n",
        "        b_input_ids, b_input_mask, b_labels = batch\n",
        "        \n",
        "        # Always clear any previously calculated gradients before performing a backward pass.\n",
        "        model.zero_grad()\n",
        "        \n",
        "        # forward pass\n",
        "        # This will return the loss (rather than the model output)\n",
        "        # because we have provided the `labels`.\n",
        "        outputs = model(b_input_ids, token_type_ids=None,attention_mask=b_input_mask, labels=b_labels)\n",
        "\n",
        "        # get the loss\n",
        "        loss = outputs[0]\n",
        "\n",
        "        # Perform a backward pass to calculate the gradients.\n",
        "        loss.backward()\n",
        "\n",
        "        # track train loss\n",
        "        total_loss += loss.item()\n",
        "        \n",
        "        # Clip the norm of the gradient\n",
        "        # This is to help prevent the \"exploding gradients\" problem.\n",
        "        torch.nn.utils.clip_grad_norm_(parameters=model.parameters(), max_norm=max_grad_norm)\n",
        "        # update parameters\n",
        "        optimizer.step()\n",
        "        # Update the learning rate.\n",
        "        scheduler.step()\n",
        "\n",
        "    # Calculate the average loss over the training data.\n",
        "    avg_train_loss = total_loss / len(train_dataloader)\n",
        "    print(\"Average train loss: {}\".format(avg_train_loss))\n",
        "\n",
        "    # Store the loss value for plotting the learning curve.\n",
        "    loss_values.append(avg_train_loss)\n",
        "\n",
        "\n",
        "    # ========================================\n",
        "    #               Validation\n",
        "    # ========================================\n",
        "    # After the completion of each training epoch, measure our performance on\n",
        "    # our validation set.\n",
        "\n",
        "    # Put the model into evaluation mode\n",
        "    model.eval()\n",
        "    # Reset the validation loss for this epoch.\n",
        "    eval_loss, eval_accuracy = 0, 0\n",
        "    nb_eval_steps, nb_eval_examples = 0, 0\n",
        "    predictions , true_labels = [], []\n",
        "    for batch in valid_dataloader:\n",
        "        batch = tuple(t.to(DEVICE) for t in batch)\n",
        "        b_input_ids, b_input_mask, b_labels = batch\n",
        "\n",
        "        # Telling the model not to compute or store gradients,\n",
        "        # saving memory and speeding up validation\n",
        "        with torch.no_grad():\n",
        "            # Forward pass, calculate logit predictions.\n",
        "            # This will return the logits rather than the loss because we have not provided labels.\n",
        "            outputs = model(b_input_ids, token_type_ids=None,\n",
        "                            attention_mask=b_input_mask, labels=b_labels)\n",
        "        # Move logits and labels to CPU\n",
        "        logits = outputs[1].detach().cpu().numpy()\n",
        "        label_ids = b_labels.to('cpu').numpy()\n",
        "\n",
        "        # Calculate the accuracy for this batch of test sentences.\n",
        "        eval_loss += outputs[0].mean().item()\n",
        "        predictions.extend([list(p) for p in np.argmax(logits, axis=2)])\n",
        "        true_labels.extend(label_ids)\n",
        "\n",
        "    eval_loss = eval_loss / len(valid_dataloader)\n",
        "    validation_loss_values.append(eval_loss)\n",
        "    print(\"Validation loss: {}\".format(eval_loss))\n",
        "    pred_tags = [tag_values[p_i] for p, l in zip(predictions, true_labels)\n",
        "                                 for p_i, l_i in zip(p, l) if tag_values[l_i] != \"PAD\"]\n",
        "    valid_tags = [tag_values[l_i] for l in true_labels\n",
        "                                  for l_i in l if tag_values[l_i] != \"PAD\"]\n",
        "    print(\"Validation Accuracy: {}\".format(accuracy_score(pred_tags, valid_tags)))\n",
        "    print(\"Validation F1-Score: {}\".format(f1_score(pred_tags, valid_tags)))\n",
        "    print()"
      ],
      "execution_count": null,
      "outputs": [
        {
          "output_type": "stream",
          "text": [
            "Average train loss: 0.5281996835361827\n",
            "Validation loss: 0.7382817640900612\n",
            "Validation Accuracy: 0.1704875686147885\n",
            "Validation F1-Score: 0.01106567235987491\n",
            "\n",
            "Average train loss: 0.5057943382046439\n",
            "Validation loss: 0.7547184228897095\n",
            "Validation Accuracy: 0.16984178237003553\n",
            "Validation F1-Score: 0.011869436201780414\n",
            "\n",
            "Average train loss: 0.4797641840848056\n",
            "Validation loss: 0.7424586713314056\n",
            "Validation Accuracy: 0.1704875686147885\n",
            "Validation F1-Score: 0.012729003093028787\n",
            "\n",
            "Average train loss: 0.4500200087373907\n",
            "Validation loss: 0.788568839430809\n",
            "Validation Accuracy: 0.1698955978904316\n",
            "Validation F1-Score: 0.0125659415565171\n",
            "\n",
            "Average train loss: 0.4174625808542425\n",
            "Validation loss: 0.7839532271027565\n",
            "Validation Accuracy: 0.17032612205360026\n",
            "Validation F1-Score: 0.012639360877600906\n",
            "\n",
            "Average train loss: 0.39170811663974414\n",
            "Validation loss: 0.8037279322743416\n",
            "Validation Accuracy: 0.17043375309439243\n",
            "Validation F1-Score: 0.013401516487391994\n",
            "\n",
            "Average train loss: 0.3671293776143681\n",
            "Validation loss: 0.8269277811050415\n",
            "Validation Accuracy: 0.17011085997201594\n",
            "Validation F1-Score: 0.013098890724569271\n",
            "\n",
            "Average train loss: 0.3357566838914698\n",
            "Validation loss: 0.8782684057950974\n",
            "Validation Accuracy: 0.1702184910128081\n",
            "Validation F1-Score: 0.013840421127343704\n",
            "\n",
            "Average train loss: 0.31174933287230405\n",
            "Validation loss: 0.8798864930868149\n",
            "Validation Accuracy: 0.1698955978904316\n",
            "Validation F1-Score: 0.014376620315814282\n",
            "\n",
            "Average train loss: 0.29237928119572726\n",
            "Validation loss: 0.9269763305783272\n",
            "Validation Accuracy: 0.16951888924765904\n",
            "Validation F1-Score: 0.014796547472256474\n",
            "\n",
            "Average train loss: 0.27277598733251746\n",
            "Validation loss: 0.9237596094608307\n",
            "Validation Accuracy: 0.17097190829835324\n",
            "Validation F1-Score: 0.014857074939085993\n",
            "\n",
            "Average train loss: 0.24930040484124963\n",
            "Validation loss: 0.9792931079864502\n",
            "Validation Accuracy: 0.16973415132924335\n",
            "Validation F1-Score: 0.015539466713755959\n",
            "\n",
            "Average train loss: 0.23208976713093846\n",
            "Validation loss: 1.0334080010652542\n",
            "Validation Accuracy: 0.1704875686147885\n",
            "Validation F1-Score: 0.014547604967474865\n",
            "\n",
            "Average train loss: 0.2118357387456027\n",
            "Validation loss: 1.0026341453194618\n",
            "Validation Accuracy: 0.16881928748250996\n",
            "Validation F1-Score: 0.01546781415363145\n",
            "\n",
            "Average train loss: 0.1992904924533584\n",
            "Validation loss: 1.0387758612632751\n",
            "Validation Accuracy: 0.16968033580884728\n",
            "Validation F1-Score: 0.015133740028155799\n",
            "\n",
            "Average train loss: 0.17558099952611056\n",
            "Validation loss: 1.0920414999127388\n",
            "Validation Accuracy: 0.16978796684963943\n",
            "Validation F1-Score: 0.015231123442942323\n",
            "\n",
            "Average train loss: 0.16620928035541013\n",
            "Validation loss: 1.0873004868626595\n",
            "Validation Accuracy: 0.16935744268647077\n",
            "Validation F1-Score: 0.015073009891662742\n",
            "\n",
            "Average train loss: 0.1503070973537185\n",
            "Validation loss: 1.1360270082950592\n",
            "Validation Accuracy: 0.17064901517597675\n",
            "Validation F1-Score: 0.016043411584286894\n",
            "\n",
            "Average train loss: 0.14215333746238187\n",
            "Validation loss: 1.1444817632436752\n",
            "Validation Accuracy: 0.16973415132924335\n",
            "Validation F1-Score: 0.015960276644795178\n",
            "\n",
            "Average train loss: 0.13220358870246193\n",
            "Validation loss: 1.148995079100132\n",
            "Validation Accuracy: 0.17043375309439243\n",
            "Validation F1-Score: 0.015597305919886563\n",
            "\n",
            "Average train loss: 0.12154736722057516\n",
            "Validation loss: 1.1666020080447197\n",
            "Validation Accuracy: 0.16951888924765904\n",
            "Validation F1-Score: 0.01627166607711355\n",
            "\n",
            "Average train loss: 0.11512560857967898\n",
            "Validation loss: 1.1682896167039871\n",
            "Validation Accuracy: 0.16844257883973737\n",
            "Validation F1-Score: 0.017363943596317443\n",
            "\n",
            "Average train loss: 0.1096668932925571\n",
            "Validation loss: 1.2197947949171066\n",
            "Validation Accuracy: 0.17059519965558068\n",
            "Validation F1-Score: 0.016900076818530993\n",
            "\n",
            "Average train loss: 0.10121599760922519\n",
            "Validation loss: 1.2236770763993263\n",
            "Validation Accuracy: 0.17005704445161984\n",
            "Validation F1-Score: 0.016730486008836528\n",
            "\n",
            "Average train loss: 0.09776373112743551\n",
            "Validation loss: 1.2357596680521965\n",
            "Validation Accuracy: 0.1693036271660747\n",
            "Validation F1-Score: 0.01622002820874471\n",
            "\n",
            "Average train loss: 0.0899731502614238\n",
            "Validation loss: 1.2603280618786812\n",
            "Validation Accuracy: 0.1702723065332042\n",
            "Validation F1-Score: 0.016479312577246778\n",
            "\n",
            "Average train loss: 0.08835618482394651\n",
            "Validation loss: 1.2315935119986534\n",
            "Validation Accuracy: 0.16951888924765904\n",
            "Validation F1-Score: 0.01644253919783898\n",
            "\n",
            "Average train loss: 0.0868833332576535\n",
            "Validation loss: 1.2587399631738663\n",
            "Validation Accuracy: 0.17000322893122377\n",
            "Validation F1-Score: 0.016699988239444904\n",
            "\n",
            "Average train loss: 0.08244232887571508\n",
            "Validation loss: 1.2598276138305664\n",
            "Validation Accuracy: 0.16962652028845118\n",
            "Validation F1-Score: 0.016661777647403935\n",
            "\n",
            "Average train loss: 0.07927192659540609\n",
            "Validation loss: 1.2606526240706444\n",
            "Validation Accuracy: 0.1695727047680551\n",
            "Validation F1-Score: 0.016784037558685447\n",
            "\n"
          ],
          "name": "stdout"
        }
      ]
    },
    {
      "cell_type": "code",
      "metadata": {
        "id": "JWloGeGaVFZl",
        "colab": {
          "base_uri": "https://localhost:8080/",
          "height": 427
        },
        "outputId": "d091e3cf-d5fc-4b01-b207-2fc87ec01a85"
      },
      "source": [
        "import matplotlib.pyplot as plt\n",
        "%matplotlib inline\n",
        "\n",
        "import seaborn as sns\n",
        "\n",
        "# Use plot styling from seaborn.\n",
        "sns.set(style='darkgrid')\n",
        "\n",
        "# Increase the plot size and font size.\n",
        "sns.set(font_scale=1.5)\n",
        "plt.rcParams[\"figure.figsize\"] = (12,6)\n",
        "\n",
        "# Plot the learning curve.\n",
        "plt.plot(loss_values, 'b-o', label=\"training loss\")\n",
        "plt.plot(validation_loss_values, 'r-o', label=\"validation loss\")\n",
        "\n",
        "# Label the plot.\n",
        "plt.title(\"Learning curve\")\n",
        "plt.xlabel(\"Epoch\")\n",
        "plt.ylabel(\"Loss\")\n",
        "plt.legend()\n",
        "\n",
        "plt.show()"
      ],
      "execution_count": null,
      "outputs": [
        {
          "output_type": "display_data",
          "data": {
            "image/png": "[encoded data removed]",
            "text/plain": [
              "<Figure size 864x432 with 1 Axes>"
            ]
          },
          "metadata": {
            "tags": []
          }
        }
      ]
    },
    {
      "cell_type": "code",
      "metadata": {
        "id": "wG6h9CdTVFb9",
        "colab": {
          "base_uri": "https://localhost:8080/",
          "height": 51
        },
        "outputId": "5914269d-6343-4421-b077-3ff7c68b5a36"
      },
      "source": [
        "b_input_ids,b_input_mask,b_labels = train_data[0]\n",
        "\n",
        "print(b_input_ids.unsqueeze(dim=0).shape,b_input_mask.unsqueeze(dim=0).shape,b_labels.unsqueeze(dim=0).shape)\n",
        "\n",
        "with torch.no_grad():\n",
        "  o = model(b_input_ids.unsqueeze(dim=0), token_type_ids=None,attention_mask=b_input_mask.unsqueeze(dim=0), labels=b_labels.unsqueeze(dim=0))\n",
        "o[0]"
      ],
      "execution_count": null,
      "outputs": [
        {
          "output_type": "stream",
          "text": [
            "torch.Size([1, 75]) torch.Size([1, 75]) torch.Size([1, 75])\n"
          ],
          "name": "stdout"
        },
        {
          "output_type": "execute_result",
          "data": {
            "text/plain": [
              "tensor(0.0025, device='cuda:0')"
            ]
          },
          "metadata": {
            "tags": []
          },
          "execution_count": 100
        }
      ]
    },
    {
      "cell_type": "code",
      "metadata": {
        "id": "Mm_G0Gzlgvmz",
        "colab": {
          "base_uri": "https://localhost:8080/",
          "height": 1000
        },
        "outputId": "d97849f0-e80f-451a-fc13-3aa1b8f22f97"
      },
      "source": [
        "test_sentence = \"\"\"\n",
        "Mr. Trump’s tweets began just moments after a Fox News report by Mike Tobin, a \n",
        "reporter for the network, about protests in Minnesota and elsewhere. \n",
        "\"\"\"\n",
        "\n",
        "tokenized_sentence = tokenizer.encode(test_sentence)\n",
        "input_ids = torch.tensor([tokenized_sentence]).to(DEVICE)\n",
        "\n",
        "with torch.no_grad():\n",
        "    output = model(input_ids)\n",
        "\n",
        "print(len(output),output[0].shape,input_ids.shape)\n",
        "print(output)\n",
        "\n",
        "label_indices = np.argmax(output[0].to('cpu').numpy(), axis=2)\n",
        "\n",
        "# join bpe split tokens\n",
        "tokens = tokenizer.convert_ids_to_tokens(input_ids.to('cpu').numpy()[0])\n",
        "new_tokens, new_labels = [], []\n",
        "for token, label_idx in zip(tokens, label_indices[0]):\n",
        "    if token.startswith(\"##\"):\n",
        "        new_tokens[-1] = new_tokens[-1] + token[2:]\n",
        "    else:\n",
        "        new_labels.append(tag_values[label_idx])\n",
        "        new_tokens.append(token)\n",
        "\n",
        "for token, label in zip(new_tokens, new_labels):\n",
        "    print(\"{}\\t{}\".format(label, token))\n",
        "\n"
      ],
      "execution_count": null,
      "outputs": [
        {
          "output_type": "stream",
          "text": [
            "1 torch.Size([1, 36, 8]) torch.Size([1, 36])\n",
            "(tensor([[[ 5.4081, -0.9053, -2.2119,  0.5290, -1.5803, -1.8789, -0.5249,\n",
            "          -0.4622],\n",
            "         [-0.5369,  0.3398, -0.9251,  0.4707,  1.2477, -0.6602, -1.2491,\n",
            "           1.3162],\n",
            "         [ 1.9187,  0.4651, -1.8406,  1.7512,  0.1118, -1.3382, -1.3022,\n",
            "          -0.4906],\n",
            "         [ 3.5109, -0.6174, -2.1429,  1.2914,  0.2207, -2.0264, -0.8135,\n",
            "          -0.9244],\n",
            "         [ 1.5814, -0.3495, -2.6099,  1.5408, -0.3758, -0.7626,  0.4482,\n",
            "          -0.8195],\n",
            "         [ 1.4581,  0.1597, -2.9624,  0.8980,  0.0400, -1.4366,  1.5582,\n",
            "          -1.0209],\n",
            "         [ 2.4351,  0.5918, -2.6883, -0.2844, -0.8574, -1.0750,  1.3021,\n",
            "          -1.0272],\n",
            "         [ 2.6696,  0.3309, -2.3433,  0.4079, -0.7944, -0.9369,  0.1987,\n",
            "          -0.8459],\n",
            "         [ 2.2125,  0.2791, -2.6241,  0.2208, -0.5629, -1.0305,  1.4205,\n",
            "          -1.0234],\n",
            "         [ 1.9992, -0.2801, -2.5453,  1.3472, -0.8244, -1.0467,  0.5959,\n",
            "          -0.9749],\n",
            "         [ 1.8568,  0.2565, -2.3340,  0.2456, -0.1855, -1.5024,  1.0281,\n",
            "          -1.4801],\n",
            "         [ 2.7973, -0.4530, -2.6206,  0.8388, -0.0551, -1.5831,  1.1633,\n",
            "          -1.3523],\n",
            "         [ 0.0498,  0.7351, -1.8393,  0.3864, -0.3917, -1.6828,  1.4706,\n",
            "           0.2382],\n",
            "         [ 1.2527,  0.3354, -2.0821, -0.1219, -0.3439, -1.2795,  1.3014,\n",
            "          -0.0208],\n",
            "         [ 4.0303, -0.8496, -2.2284,  0.7983, -1.2051, -1.9630,  0.4412,\n",
            "          -1.2206],\n",
            "         [ 4.5944, -0.6876, -2.5995,  1.0335, -1.7272, -1.2559,  1.1977,\n",
            "          -1.5461],\n",
            "         [ 1.3282,  0.0235, -1.9728,  0.9348, -0.2240, -1.3946,  0.5243,\n",
            "          -0.9604],\n",
            "         [ 1.8305, -0.5327, -1.9589,  0.9330, -0.9629, -1.5210,  1.4700,\n",
            "          -1.6744],\n",
            "         [ 2.3630, -0.5955, -2.1688,  0.9744, -0.7316, -1.1823, -0.1097,\n",
            "          -0.7703],\n",
            "         [ 2.1675, -0.6917, -1.8372,  0.9149, -0.7049, -1.4591, -0.1218,\n",
            "          -0.2038],\n",
            "         [ 1.8254, -1.4247, -1.7895,  1.1212, -0.5424, -1.2932,  0.2783,\n",
            "          -0.8842],\n",
            "         [ 2.4723, -0.4489, -2.3413,  0.1840,  0.0386, -1.4873,  0.3409,\n",
            "          -1.4334],\n",
            "         [ 2.6260,  0.4790, -2.1283, -1.0107, -0.5088, -1.6034,  0.8501,\n",
            "          -1.7132],\n",
            "         [ 3.2183,  0.3754, -2.9117,  1.0176, -1.1993, -2.1599,  0.3696,\n",
            "          -1.5015],\n",
            "         [ 2.4167, -0.0811, -1.7541,  0.2713, -1.3988, -1.0868,  1.0508,\n",
            "          -1.9262],\n",
            "         [ 2.8502, -0.8444, -1.7038,  1.1860, -1.2912, -1.2497,  0.2307,\n",
            "          -1.0941],\n",
            "         [ 3.6942, -1.2740, -1.8828,  0.9053, -2.1479, -1.5033,  0.7386,\n",
            "          -0.8297],\n",
            "         [ 3.1377, -0.9167, -2.3982,  0.6098, -0.2324, -1.3296,  0.1766,\n",
            "          -0.9037],\n",
            "         [ 1.2691,  0.5427, -2.0259,  0.0177,  0.0095, -1.3199,  0.8470,\n",
            "          -0.2252],\n",
            "         [ 1.4481,  0.2265, -1.9890,  0.1982, -0.5465, -1.5108,  0.8568,\n",
            "          -0.5362],\n",
            "         [ 1.7952,  0.2292, -2.0630,  0.3818, -0.3876, -1.1994,  0.8908,\n",
            "          -0.9330],\n",
            "         [ 3.1722,  0.1662, -2.2166,  1.1080, -0.5630, -1.8557, -0.2922,\n",
            "          -0.4116],\n",
            "         [ 2.2573, -0.5696, -1.7274,  0.4061, -0.3531, -1.0354,  1.2300,\n",
            "          -1.4806],\n",
            "         [ 2.8236,  0.1196, -2.0583,  0.8283, -0.7267, -1.4360, -0.2188,\n",
            "          -0.6087],\n",
            "         [ 2.4927, -0.6239, -1.6810,  2.7090, -0.3246, -2.6138, -0.1589,\n",
            "          -1.7424],\n",
            "         [ 2.4838, -0.6225, -1.6598,  2.7265, -0.3302, -2.6099, -0.1985,\n",
            "          -1.7549]]], device='cuda:0'),)\n",
            "O\t[CLS]\n",
            "I-ORG\tMr\n",
            "O\t.\n",
            "O\tTrump\n",
            "O\t’\n",
            "B-PER\ts\n",
            "O\ttweets\n",
            "O\tbegan\n",
            "O\tjust\n",
            "O\tmoments\n",
            "B-PER\tafter\n",
            "B-PER\ta\n",
            "O\tFox\n",
            "O\tNews\n",
            "O\treport\n",
            "O\tby\n",
            "O\tMike\n",
            "O\tTobin\n",
            "O\t,\n",
            "O\ta\n",
            "O\treporter\n",
            "O\tfor\n",
            "O\tthe\n",
            "O\tnetwork\n",
            "O\t,\n",
            "O\tabout\n",
            "O\tprotests\n",
            "O\tin\n",
            "O\tMinnesota\n",
            "O\tand\n",
            "O\telsewhere\n",
            "PAD\t.\n",
            "PAD\t[SEP]\n"
          ],
          "name": "stdout"
        }
      ]
    },
    {
      "cell_type": "code",
      "metadata": {
        "id": "JwnlAIoJgvpj"
      },
      "source": [
        ""
      ],
      "execution_count": null,
      "outputs": []
    },
    {
      "cell_type": "code",
      "metadata": {
        "id": "7N6ecFOQgvr-"
      },
      "source": [
        ""
      ],
      "execution_count": null,
      "outputs": []
    },
    {
      "cell_type": "code",
      "metadata": {
        "id": "CstP6ReyVFeQ"
      },
      "source": [
        ""
      ],
      "execution_count": null,
      "outputs": []
    },
    {
      "cell_type": "code",
      "metadata": {
        "id": "73zP-uVUVFgf"
      },
      "source": [
        ""
      ],
      "execution_count": null,
      "outputs": []
    },
    {
      "cell_type": "code",
      "metadata": {
        "id": "A_XRem_rVFiu"
      },
      "source": [
        ""
      ],
      "execution_count": null,
      "outputs": []
    },
    {
      "cell_type": "markdown",
      "metadata": {
        "id": "jxaESRoco6bV"
      },
      "source": [
        "**Good luck!**"
      ]
    }
  ]
}