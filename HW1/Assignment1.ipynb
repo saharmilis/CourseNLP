{
  "nbformat": 4,
  "nbformat_minor": 0,
  "metadata": {
    "colab": {
      "name": "Assignment1_Millis.ipynb",
      "provenance": [],
      "collapsed_sections": []
    },
    "kernelspec": {
      "display_name": "Python 3",
      "language": "python",
      "name": "python3"
    },
    "language_info": {
      "codemirror_mode": {
        "name": "ipython",
        "version": 3
      },
      "file_extension": ".py",
      "mimetype": "text/x-python",
      "name": "python",
      "nbconvert_exporter": "python",
      "pygments_lexer": "ipython3",
      "version": "3.7.7"
    }
  },
  "cells": [
    {
      "cell_type": "markdown",
      "metadata": {
        "id": "7ce5pQK3bFn_"
      },
      "source": [
        "# NLP - Assignment 1\n",
        "By Millis Sahar\n",
        "\n",
        "In this assignment you will be creating tools for learning and testing language models.  \n",
        "The corpora that you will be working with are lists of tweets in 8 different languages that use the Latin script.   \n",
        "The data is provided either formatted as CSV or as JSON, for your convenience.  \n",
        "The end goal is to write a set of tools that can detect the language of a given tweet."
      ]
    },
    {
      "cell_type": "markdown",
      "metadata": {
        "id": "sMEHLNtkIcBa"
      },
      "source": [
        "#### disable warnings"
      ]
    },
    {
      "cell_type": "code",
      "metadata": {
        "id": "iM7o-C0XIcBc"
      },
      "source": [
        "import warnings\n",
        "warnings.filterwarnings('ignore')"
      ],
      "execution_count": null,
      "outputs": []
    },
    {
      "cell_type": "markdown",
      "metadata": {
        "id": "gCpz3ximIcBl"
      },
      "source": [
        "#### disable autoscrolling"
      ]
    },
    {
      "cell_type": "code",
      "metadata": {
        "id": "yHtMY9BdIcBn",
        "colab": {
          "base_uri": "https://localhost:8080/",
          "height": 17
        },
        "outputId": "0957fd56-1b27-46f2-854a-c15a60f755cf"
      },
      "source": [
        "%%javascript\n",
        "IPython.OutputArea.prototype._should_scroll = function(lines) {\n",
        "    return false;\n",
        "}"
      ],
      "execution_count": null,
      "outputs": [
        {
          "output_type": "display_data",
          "data": {
            "application/javascript": [
              "IPython.OutputArea.prototype._should_scroll = function(lines) {\n",
              "    return false;\n",
              "}"
            ],
            "text/plain": [
              "<IPython.core.display.Javascript object>"
            ]
          },
          "metadata": {
            "tags": []
          }
        }
      ]
    },
    {
      "cell_type": "markdown",
      "metadata": {
        "id": "vPkApW6nIzjC"
      },
      "source": [
        "#### Google Drive"
      ]
    },
    {
      "cell_type": "code",
      "metadata": {
        "id": "ufjGL108Iu0a",
        "colab": {
          "base_uri": "https://localhost:8080/",
          "height": 34
        },
        "outputId": "03b682a4-4b72-429a-c590-34582ea5ab15"
      },
      "source": [
        "from google.colab import drive  \n",
        "drive.mount(r'/content/drive/',force_remount=True) \n",
        "\n",
        "data_dir = 'drive/My Drive/Colab Notebooks/NLP/HW1'\n",
        "# os.listdir(data_dir)"
      ],
      "execution_count": null,
      "outputs": [
        {
          "output_type": "stream",
          "text": [
            "Mounted at /content/drive/\n"
          ],
          "name": "stdout"
        }
      ]
    },
    {
      "cell_type": "markdown",
      "metadata": {
        "id": "NUuMwzVfIcBx"
      },
      "source": [
        "#### imports"
      ]
    },
    {
      "cell_type": "code",
      "metadata": {
        "id": "VgTWq3a0IcBy"
      },
      "source": [
        "import os,io\n",
        "import numpy as np\n",
        "import pandas as pd\n",
        "\n",
        "from IPython.display import display, HTML"
      ],
      "execution_count": null,
      "outputs": []
    },
    {
      "cell_type": "markdown",
      "metadata": {
        "id": "63KqX2SgIcB5"
      },
      "source": [
        "#### tokens"
      ]
    },
    {
      "cell_type": "code",
      "metadata": {
        "id": "xiFPSRGyIcB6"
      },
      "source": [
        "start_token = '<start>'\n",
        "end_token = '<end>'\n",
        "unknown_token = 'UNK'\n",
        "unknown_token_value = 1e-8"
      ],
      "execution_count": null,
      "outputs": []
    },
    {
      "cell_type": "markdown",
      "metadata": {
        "id": "vwG8v-Ll49KM"
      },
      "source": [
        "*As a preparation for this task, place the data files somewhere in your drive so that you can access the files from this notebook. The files are available to download from the Moodle assignment activity*\n",
        "\n",
        "The relevant files are:\n",
        "\n",
        "\n",
        "*   en.csv (or the equivalent JSON file)\n",
        "*   es.csv (or the equivalent JSON file)\n",
        "*   fr.csv (or the equivalent JSON file)\n",
        "*   in.csv (or the equivalent JSON file)\n",
        "*   it.csv (or the equivalent JSON file)\n",
        "*   nl.csv (or the equivalent JSON file)\n",
        "*   pt.csv (or the equivalent JSON file)\n",
        "*   tl.csv (or the equivalent JSON file)\n",
        "\n",
        "\n",
        "\n"
      ]
    },
    {
      "cell_type": "markdown",
      "metadata": {
        "id": "Ashyu_mT28o6"
      },
      "source": [
        "**Part 1**\n",
        "\n",
        "Write a function *preprocess* that iterates over all the data files and creates a single vocabulary, containing all the tokens in the data. **Our token definition is a single UTF-8 encoded character**. So, the vocabulary list is a simple Python list of all the characters that you see at least once in the data."
      ]
    },
    {
      "cell_type": "markdown",
      "metadata": {
        "id": "vFtw2GY6IcCD"
      },
      "source": [
        "Note:  \n",
        "Although my way is including the \"id\" of each row - it's faster.   \n",
        "The down sides is adding the digits to our vocabilary and running over the ids.  \n",
        "Due to a reletavly short number of digits it's ok.  "
      ]
    },
    {
      "cell_type": "code",
      "metadata": {
        "id": "xCfzsITW8Yaj"
      },
      "source": [
        "def preprocess():\n",
        "    # get all csv files in 'data' folder\n",
        "    files = []\n",
        "    for filename in os.listdir(os.getcwd() + '/' + data_dir + '/data'):\n",
        "        if filename.endswith('csv'):\n",
        "            files.append(filename)\n",
        "            \n",
        "#     unique_chars = set()\n",
        "#     for filename in files:\n",
        "#         df = pd.read_csv(filepath_or_buffer='data/' + filename,encoding='utf-8')\n",
        "#         unique_chars.update(set(list(''.join(df.iloc[:,1]))))\n",
        "\n",
        "# get all unique characters\n",
        "    unique_chars = set()\n",
        "    for filename in files:\n",
        "        with open(file=os.getcwd() + '/' + data_dir + '/data/'+filename, mode='r',encoding='utf-8') as f: \n",
        "            unique_chars.update(set(f.read()))\n",
        "    \n",
        "    # Sign for a start & end of a row\n",
        "    unique_chars.update(set([start_token,end_token]))\n",
        "\n",
        "\n",
        "#     print(\"Number of unique charactes :\",len(unique_chars))\n",
        "    return list(unique_chars)\n",
        "\n",
        "# vocabulary = preprocess()\n",
        "# print(len(vocabulary))"
      ],
      "execution_count": null,
      "outputs": []
    },
    {
      "cell_type": "markdown",
      "metadata": {
        "id": "Nb2PGj0Yc2TY"
      },
      "source": [
        "**Part 2**\n",
        "\n",
        "Write a function `lm` that generates a language model from a textual corpus.  \n",
        "The function should return a dictionary (representing a model) where the keys are all the relevant n-1 sequences, and the values are dictionaries with the n_th tokens and their corresponding probabilities to occur.  \n",
        "For example, for a trigram model (tokens are characters), it should look something like:\n",
        "\n",
        "{\n",
        "  \"ab\":{\"c\":0.5, \"b\":0.25, \"d\":0.25},\n",
        "  \"ca\":{\"a\":0.2, \"b\":0.7, \"d\":0.1}\n",
        "}\n",
        "\n",
        "which means for example that after the sequence \"ab\", there is a 0.5 chance that \"c\" will appear, 0.25 for \"b\" to appear and 0.25 for \"d\" to appear.\n",
        "\n",
        "Note - You should think how to add the add_one smoothing information to the dictionary and implement it."
      ]
    },
    {
      "cell_type": "code",
      "metadata": {
        "id": "kMC_u8eQbVvZ"
      },
      "source": [
        "def lm(n, vocabulary, data_file_path, add_one):\n",
        "  # n - the n-gram to use (e.g., 1 - unigram, 2 - bigram, etc.)\n",
        "  # vocabulary - the vocabulary list (which you should use for calculating add_one smoothing)\n",
        "  # data_file_path - the data_file from which we record probabilities for our model\n",
        "  # add_one - True/False (use add_one smoothing or not)\n",
        "\n",
        "  # TODO\n",
        "\n",
        "#     start_token = '<start>'\n",
        "#     end_token = '<end>'\n",
        "#     unknown_token = 'UNK'\n",
        "#     unknown_token_value = 1e-8\n",
        "\n",
        "    df = pd.read_csv(filepath_or_buffer=data_file_path,encoding='utf-8')\n",
        "    tweets = df.tweet_text\n",
        "\n",
        "    model = {}\n",
        "    \n",
        "    # Creating model\n",
        "    for t in tweets:\n",
        "\n",
        "        # start of sentence\n",
        "        for i in range(0,n-1,1):\n",
        "            c_from = start_token * (n-i-1) + t[0:i]\n",
        "            c_to = t[i]\n",
        "            if c_from not in model.keys():\n",
        "                model[c_from] = {}\n",
        "            if c_to not in model[c_from].keys():\n",
        "                model[c_from][c_to] = 1\n",
        "            else:\n",
        "                model[c_from][c_to] += 1 \n",
        "\n",
        "        # n-grams of sentence\n",
        "        for i in range(len(t)-n+1):\n",
        "            c_from = t[i:i+n-1]\n",
        "            c_to = t[i+n-1]\n",
        "            if c_from not in model.keys():\n",
        "                model[c_from] = {}\n",
        "            if c_to not in model[c_from].keys():\n",
        "                model[c_from][c_to] = 1\n",
        "            else:\n",
        "                model[c_from][c_to] += 1 \n",
        "\n",
        "        # end of sentence\n",
        "        c_from = t[i+1:i+n]\n",
        "        c_to = end_token\n",
        "        if c_from not in model.keys():\n",
        "            model[c_from] = {}\n",
        "        if c_to not in model[c_from].keys():\n",
        "            model[c_from][c_to] = 1\n",
        "        else:\n",
        "            model[c_from][c_to] += 1 \n",
        "    \n",
        "    # Add One - True\n",
        "    if add_one == True:\n",
        "        for k in model.keys():\n",
        "            model[k][unknown_token] = 0\n",
        "\n",
        "            for kk in model[k].keys():\n",
        "                model[k][kk] += 1\n",
        "\n",
        "            sum_k = sum(model[k].values()) #+ len(vocabulary)\n",
        "            for kk in model[k].keys():\n",
        "                model[k][kk] /= sum_k\n",
        "    \n",
        "        \n",
        "    if add_one == False:\n",
        "        for k in model.keys():\n",
        "            sum_k = sum(model[k].values())\n",
        "            for kk in model[k].keys():\n",
        "                model[k][kk] /= sum_k\n",
        "            # set UNK\n",
        "            model[k][unknown_token] = unknown_token_value\n",
        "    \n",
        "    # from unseen tokens \n",
        "    model[unknown_token] = unknown_token_value\n",
        "    \n",
        "    \n",
        "    return model\n",
        "\n",
        "# model = lm(n=4, vocabulary=vocabulary, data_file_path='data/en.csv', add_one=False)\n",
        "# model"
      ],
      "execution_count": null,
      "outputs": []
    },
    {
      "cell_type": "markdown",
      "metadata": {
        "id": "7M8TchtI22I3"
      },
      "source": [
        "**Part 3**\n",
        "\n",
        "Write a function *eval* that returns the perplexity of a model (dictionary) running over a given data file."
      ]
    },
    {
      "cell_type": "code",
      "metadata": {
        "id": "F0kkMn328-lJ"
      },
      "source": [
        "def get_proba_from_to(model,c_from,c_to):\n",
        "\n",
        "    # c_from not in vocabulary\n",
        "    if c_from not in model.keys() or c_from=='UNK':\n",
        "        return model['UNK']\n",
        "\n",
        "    # c_to not in vocabulary\n",
        "    if c_to not in model[c_from].keys():\n",
        "        return model[c_from]['UNK']\n",
        "\n",
        "    return model[c_from][c_to]\n",
        "\n",
        "\n",
        "def eval(n, model, data_file):\n",
        "  # n - the n-gram that you used to build your model (must be the same number)\n",
        "  # model - the dictionary (model) to use for calculating perplexity\n",
        "  # data_file - the tweets file that you wish to claculate a perplexity score for\n",
        "\n",
        "  # TODO\n",
        "    \n",
        "    df = pd.read_csv(filepath_or_buffer=data_file,encoding='utf-8')\n",
        "    tweets = df.tweet_text\n",
        "    \n",
        "    proba_tweets = []\n",
        "\n",
        "    for t in tweets:\n",
        "        # print(t)\n",
        "        # start of sentence\n",
        "        for i in range(0,n-1,1):\n",
        "            c_from = start_token * (n-i-1) + t[0:i]\n",
        "            c_to = t[i]\n",
        "            proba_tweets.append(get_proba_from_to(model,c_from,c_to))\n",
        "#             print(c_from,c_to)\n",
        "            \n",
        "        # n-grams of sentence\n",
        "        for i in range(len(t)-n+1):\n",
        "            c_from = t[i:i+n-1]\n",
        "            c_to = t[i+n-1]\n",
        "            proba_tweets.append(get_proba_from_to(model,c_from,c_to))\n",
        "#             print(c_from,c_to)\n",
        "            \n",
        "        # end of sentence\n",
        "        c_from = t[i+1:i+n]\n",
        "        c_to = end_token\n",
        "        proba_tweets.append(get_proba_from_to(model,c_from,c_to))\n",
        "#         print(c_from,c_to)\n",
        "\n",
        "    # print('counts=',len(proba_tweets))\n",
        "    # print('proba_tweets=',proba_tweets)\n",
        "    # print('proba_tweets log2=',np.log2(proba_tweets).sum())    \n",
        "    return np.power(2,- np.log2(proba_tweets).mean())\n",
        "\n",
        "# model = lm(n=2, vocabulary=vocabulary, data_file_path='data/en.csv', add_one=False)\n",
        "# eval(n=2, model=model, data_file='data/fr.csv')"
      ],
      "execution_count": null,
      "outputs": []
    },
    {
      "cell_type": "markdown",
      "metadata": {
        "id": "enGmtLE3921p"
      },
      "source": [
        "**Part 4**\n",
        "\n",
        "Write a function *match* that creates a model for every relevant language, using a specific value of *n* and *add_one*.   \n",
        "Then, calculate the perplexity of all possible pairs (e.g., en model applied on the data files en ,es, fr, in, it, nl, pt, tl; es model applied on the data files en, es...).   \n",
        "This function should return a pandas DataFrame with columns [en ,es, fr, in, it, nl, pt, tl] and every row should be labeled with one of the languages.   \n",
        "Then, the values are the relevant perplexity values."
      ]
    },
    {
      "cell_type": "code",
      "metadata": {
        "id": "caAxLE9s_fvn"
      },
      "source": [
        "def match(n, add_one):\n",
        "  # n - the n-gram to use for creating n-gram models\n",
        "  # add_one - use add_one smoothing or not\n",
        "\n",
        "  #TODO\n",
        "\n",
        "    files = {}\n",
        "    for filename in os.listdir(os.getcwd() + '/' + data_dir + '/data'):\n",
        "        if filename.endswith('csv'):\n",
        "            path = os.getcwd() + '/' + data_dir + '/data/' + filename\n",
        "            name = os.path.splitext(filename)[0]\n",
        "            files[name] = path    \n",
        "\n",
        "    # get vocabulary\n",
        "    vocabulary = preprocess()    \n",
        "\n",
        "    # create models\n",
        "    models = {}\n",
        "    for f in files.keys():\n",
        "        models[f] = lm(n=n, vocabulary=vocabulary, data_file_path=files[f], add_one=add_one)\n",
        "    \n",
        "    # evaluate for all languages\n",
        "    df = pd.DataFrame(columns=files.keys())\n",
        "    for lang_model in files.keys():\n",
        "        for lang_test in files.keys():\n",
        "            df.loc[lang_model,lang_test] = eval(n=n, model=models[lang_model], data_file=files[lang_test])\n",
        "#             print(lang_model,lang_test,eval(n=n, model=models[lang_model], data_file=files[lang_test])\n",
        "    return df\n",
        "\n",
        "# match(n=2,add_one=False)"
      ],
      "execution_count": null,
      "outputs": []
    },
    {
      "cell_type": "markdown",
      "metadata": {
        "id": "waGMwA8H_n17"
      },
      "source": [
        "**Part 5**\n",
        "\n",
        "Run match with *n* values 1-4, once with add_one and once without, and print the 8 tables to this notebook, one after another."
      ]
    },
    {
      "cell_type": "code",
      "metadata": {
        "id": "nk32naXyAMdl",
        "colab": {
          "base_uri": "https://localhost:8080/",
          "height": 3136
        },
        "outputId": "f77cf091-9f0e-435c-d6d2-e23defa0147e"
      },
      "source": [
        "# TODO\n",
        "from IPython.display import Javascript\n",
        "display(Javascript('''google.colab.output.setIframeHeight(0, true, {maxHeight: 5000})'''))\n",
        "\n",
        "\n",
        "n_s = [1,2,3,4]\n",
        "add_on_s = [False,True]\n",
        "\n",
        "for n in n_s:\n",
        "    for ao in add_on_s:\n",
        "        display(HTML('<H2>N={} &nbsp&nbsp&nbsp&nbsp add_one={}</H2>'.format(n,ao)))\n",
        "        df = match(n=n,add_one=ao)\n",
        "        display(df)\n",
        "        display(HTML('<br><br>'))\n",
        "        \n",
        "    display(HTML('<br><br><br><br><br>'))"
      ],
      "execution_count": null,
      "outputs": [
        {
          "output_type": "display_data",
          "data": {
            "application/javascript": [
              "google.colab.output.setIframeHeight(0, true, {maxHeight: 5000})"
            ],
            "text/plain": [
              "<IPython.core.display.Javascript object>"
            ]
          },
          "metadata": {
            "tags": []
          }
        },
        {
          "output_type": "display_data",
          "data": {
            "text/html": [
              "<H2>N=1 &nbsp&nbsp&nbsp&nbsp add_one=False</H2>"
            ],
            "text/plain": [
              "<IPython.core.display.HTML object>"
            ]
          },
          "metadata": {
            "tags": []
          }
        },
        {
          "output_type": "display_data",
          "data": {
            "text/html": [
              "<div>\n",
              "<style scoped>\n",
              "    .dataframe tbody tr th:only-of-type {\n",
              "        vertical-align: middle;\n",
              "    }\n",
              "\n",
              "    .dataframe tbody tr th {\n",
              "        vertical-align: top;\n",
              "    }\n",
              "\n",
              "    .dataframe thead th {\n",
              "        text-align: right;\n",
              "    }\n",
              "</style>\n",
              "<table border=\"1\" class=\"dataframe\">\n",
              "  <thead>\n",
              "    <tr style=\"text-align: right;\">\n",
              "      <th></th>\n",
              "      <th>en</th>\n",
              "      <th>es</th>\n",
              "      <th>fr</th>\n",
              "      <th>nl</th>\n",
              "      <th>it</th>\n",
              "      <th>in</th>\n",
              "      <th>tl</th>\n",
              "      <th>pt</th>\n",
              "    </tr>\n",
              "  </thead>\n",
              "  <tbody>\n",
              "    <tr>\n",
              "      <th>en</th>\n",
              "      <td>37.8155</td>\n",
              "      <td>40.9155</td>\n",
              "      <td>43.1323</td>\n",
              "      <td>38.9283</td>\n",
              "      <td>40.4245</td>\n",
              "      <td>40.8883</td>\n",
              "      <td>44.1225</td>\n",
              "      <td>44.3082</td>\n",
              "    </tr>\n",
              "    <tr>\n",
              "      <th>es</th>\n",
              "      <td>41.391</td>\n",
              "      <td>35.4511</td>\n",
              "      <td>40.8046</td>\n",
              "      <td>40.7529</td>\n",
              "      <td>39.6356</td>\n",
              "      <td>43.0116</td>\n",
              "      <td>46.6349</td>\n",
              "      <td>40.1468</td>\n",
              "    </tr>\n",
              "    <tr>\n",
              "      <th>fr</th>\n",
              "      <td>41.0064</td>\n",
              "      <td>39.4063</td>\n",
              "      <td>36.7572</td>\n",
              "      <td>40.1658</td>\n",
              "      <td>39.1325</td>\n",
              "      <td>43.8168</td>\n",
              "      <td>48.5308</td>\n",
              "      <td>41.4918</td>\n",
              "    </tr>\n",
              "    <tr>\n",
              "      <th>nl</th>\n",
              "      <td>40.1927</td>\n",
              "      <td>40.3302</td>\n",
              "      <td>41.3244</td>\n",
              "      <td>36.7356</td>\n",
              "      <td>40.3324</td>\n",
              "      <td>40.9722</td>\n",
              "      <td>45.8411</td>\n",
              "      <td>43.0708</td>\n",
              "    </tr>\n",
              "    <tr>\n",
              "      <th>it</th>\n",
              "      <td>40.8766</td>\n",
              "      <td>38.2787</td>\n",
              "      <td>40.1407</td>\n",
              "      <td>40.2984</td>\n",
              "      <td>36.7651</td>\n",
              "      <td>42.8081</td>\n",
              "      <td>45.8272</td>\n",
              "      <td>41.7757</td>\n",
              "    </tr>\n",
              "    <tr>\n",
              "      <th>in</th>\n",
              "      <td>41.8838</td>\n",
              "      <td>44.5735</td>\n",
              "      <td>47.3579</td>\n",
              "      <td>41.1173</td>\n",
              "      <td>43.0328</td>\n",
              "      <td>36.5903</td>\n",
              "      <td>42.0254</td>\n",
              "      <td>47.3855</td>\n",
              "    </tr>\n",
              "    <tr>\n",
              "      <th>tl</th>\n",
              "      <td>41.5914</td>\n",
              "      <td>42.2969</td>\n",
              "      <td>47.752</td>\n",
              "      <td>42.0241</td>\n",
              "      <td>42.4906</td>\n",
              "      <td>38.5119</td>\n",
              "      <td>39.9033</td>\n",
              "      <td>45.0447</td>\n",
              "    </tr>\n",
              "    <tr>\n",
              "      <th>pt</th>\n",
              "      <td>41.9283</td>\n",
              "      <td>36.8475</td>\n",
              "      <td>40.2943</td>\n",
              "      <td>40.8969</td>\n",
              "      <td>40.177</td>\n",
              "      <td>42.3834</td>\n",
              "      <td>46.6028</td>\n",
              "      <td>36.2269</td>\n",
              "    </tr>\n",
              "  </tbody>\n",
              "</table>\n",
              "</div>"
            ],
            "text/plain": [
              "         en       es       fr       nl       it       in       tl       pt\n",
              "en  37.8155  40.9155  43.1323  38.9283  40.4245  40.8883  44.1225  44.3082\n",
              "es   41.391  35.4511  40.8046  40.7529  39.6356  43.0116  46.6349  40.1468\n",
              "fr  41.0064  39.4063  36.7572  40.1658  39.1325  43.8168  48.5308  41.4918\n",
              "nl  40.1927  40.3302  41.3244  36.7356  40.3324  40.9722  45.8411  43.0708\n",
              "it  40.8766  38.2787  40.1407  40.2984  36.7651  42.8081  45.8272  41.7757\n",
              "in  41.8838  44.5735  47.3579  41.1173  43.0328  36.5903  42.0254  47.3855\n",
              "tl  41.5914  42.2969   47.752  42.0241  42.4906  38.5119  39.9033  45.0447\n",
              "pt  41.9283  36.8475  40.2943  40.8969   40.177  42.3834  46.6028  36.2269"
            ]
          },
          "metadata": {
            "tags": []
          }
        },
        {
          "output_type": "display_data",
          "data": {
            "text/html": [
              "<br><br>"
            ],
            "text/plain": [
              "<IPython.core.display.HTML object>"
            ]
          },
          "metadata": {
            "tags": []
          }
        },
        {
          "output_type": "display_data",
          "data": {
            "text/html": [
              "<H2>N=1 &nbsp&nbsp&nbsp&nbsp add_one=True</H2>"
            ],
            "text/plain": [
              "<IPython.core.display.HTML object>"
            ]
          },
          "metadata": {
            "tags": []
          }
        },
        {
          "output_type": "display_data",
          "data": {
            "text/html": [
              "<div>\n",
              "<style scoped>\n",
              "    .dataframe tbody tr th:only-of-type {\n",
              "        vertical-align: middle;\n",
              "    }\n",
              "\n",
              "    .dataframe tbody tr th {\n",
              "        vertical-align: top;\n",
              "    }\n",
              "\n",
              "    .dataframe thead th {\n",
              "        text-align: right;\n",
              "    }\n",
              "</style>\n",
              "<table border=\"1\" class=\"dataframe\">\n",
              "  <thead>\n",
              "    <tr style=\"text-align: right;\">\n",
              "      <th></th>\n",
              "      <th>en</th>\n",
              "      <th>es</th>\n",
              "      <th>fr</th>\n",
              "      <th>nl</th>\n",
              "      <th>it</th>\n",
              "      <th>in</th>\n",
              "      <th>tl</th>\n",
              "      <th>pt</th>\n",
              "    </tr>\n",
              "  </thead>\n",
              "  <tbody>\n",
              "    <tr>\n",
              "      <th>en</th>\n",
              "      <td>37.8203</td>\n",
              "      <td>39.9793</td>\n",
              "      <td>41.8955</td>\n",
              "      <td>38.8167</td>\n",
              "      <td>39.6781</td>\n",
              "      <td>40.6506</td>\n",
              "      <td>43.9153</td>\n",
              "      <td>42.3912</td>\n",
              "    </tr>\n",
              "    <tr>\n",
              "      <th>es</th>\n",
              "      <td>41.1939</td>\n",
              "      <td>35.4551</td>\n",
              "      <td>40.0523</td>\n",
              "      <td>40.5695</td>\n",
              "      <td>39.1362</td>\n",
              "      <td>42.7328</td>\n",
              "      <td>46.388</td>\n",
              "      <td>38.8119</td>\n",
              "    </tr>\n",
              "    <tr>\n",
              "      <th>fr</th>\n",
              "      <td>40.7925</td>\n",
              "      <td>38.9097</td>\n",
              "      <td>36.7619</td>\n",
              "      <td>40.0317</td>\n",
              "      <td>38.9404</td>\n",
              "      <td>43.5558</td>\n",
              "      <td>48.3081</td>\n",
              "      <td>40.2653</td>\n",
              "    </tr>\n",
              "    <tr>\n",
              "      <th>nl</th>\n",
              "      <td>39.9387</td>\n",
              "      <td>39.8757</td>\n",
              "      <td>41.0174</td>\n",
              "      <td>36.7395</td>\n",
              "      <td>39.982</td>\n",
              "      <td>40.6854</td>\n",
              "      <td>45.5792</td>\n",
              "      <td>41.9338</td>\n",
              "    </tr>\n",
              "    <tr>\n",
              "      <th>it</th>\n",
              "      <td>40.6162</td>\n",
              "      <td>38.1029</td>\n",
              "      <td>39.6361</td>\n",
              "      <td>40.1342</td>\n",
              "      <td>36.7687</td>\n",
              "      <td>42.5195</td>\n",
              "      <td>45.5673</td>\n",
              "      <td>40.3411</td>\n",
              "    </tr>\n",
              "    <tr>\n",
              "      <th>in</th>\n",
              "      <td>41.7138</td>\n",
              "      <td>42.4792</td>\n",
              "      <td>46.1324</td>\n",
              "      <td>40.9645</td>\n",
              "      <td>42.32</td>\n",
              "      <td>36.5965</td>\n",
              "      <td>41.8524</td>\n",
              "      <td>44.679</td>\n",
              "    </tr>\n",
              "    <tr>\n",
              "      <th>tl</th>\n",
              "      <td>41.3345</td>\n",
              "      <td>41.9436</td>\n",
              "      <td>46.6649</td>\n",
              "      <td>41.8778</td>\n",
              "      <td>41.7826</td>\n",
              "      <td>38.2605</td>\n",
              "      <td>39.9093</td>\n",
              "      <td>44.1298</td>\n",
              "    </tr>\n",
              "    <tr>\n",
              "      <th>pt</th>\n",
              "      <td>41.6645</td>\n",
              "      <td>36.705</td>\n",
              "      <td>39.7803</td>\n",
              "      <td>40.6847</td>\n",
              "      <td>39.5534</td>\n",
              "      <td>42.0698</td>\n",
              "      <td>46.2885</td>\n",
              "      <td>36.2314</td>\n",
              "    </tr>\n",
              "  </tbody>\n",
              "</table>\n",
              "</div>"
            ],
            "text/plain": [
              "         en       es       fr       nl       it       in       tl       pt\n",
              "en  37.8203  39.9793  41.8955  38.8167  39.6781  40.6506  43.9153  42.3912\n",
              "es  41.1939  35.4551  40.0523  40.5695  39.1362  42.7328   46.388  38.8119\n",
              "fr  40.7925  38.9097  36.7619  40.0317  38.9404  43.5558  48.3081  40.2653\n",
              "nl  39.9387  39.8757  41.0174  36.7395   39.982  40.6854  45.5792  41.9338\n",
              "it  40.6162  38.1029  39.6361  40.1342  36.7687  42.5195  45.5673  40.3411\n",
              "in  41.7138  42.4792  46.1324  40.9645    42.32  36.5965  41.8524   44.679\n",
              "tl  41.3345  41.9436  46.6649  41.8778  41.7826  38.2605  39.9093  44.1298\n",
              "pt  41.6645   36.705  39.7803  40.6847  39.5534  42.0698  46.2885  36.2314"
            ]
          },
          "metadata": {
            "tags": []
          }
        },
        {
          "output_type": "display_data",
          "data": {
            "text/html": [
              "<br><br>"
            ],
            "text/plain": [
              "<IPython.core.display.HTML object>"
            ]
          },
          "metadata": {
            "tags": []
          }
        },
        {
          "output_type": "display_data",
          "data": {
            "text/html": [
              "<br><br><br><br><br>"
            ],
            "text/plain": [
              "<IPython.core.display.HTML object>"
            ]
          },
          "metadata": {
            "tags": []
          }
        },
        {
          "output_type": "display_data",
          "data": {
            "text/html": [
              "<H2>N=2 &nbsp&nbsp&nbsp&nbsp add_one=False</H2>"
            ],
            "text/plain": [
              "<IPython.core.display.HTML object>"
            ]
          },
          "metadata": {
            "tags": []
          }
        },
        {
          "output_type": "display_data",
          "data": {
            "text/html": [
              "<div>\n",
              "<style scoped>\n",
              "    .dataframe tbody tr th:only-of-type {\n",
              "        vertical-align: middle;\n",
              "    }\n",
              "\n",
              "    .dataframe tbody tr th {\n",
              "        vertical-align: top;\n",
              "    }\n",
              "\n",
              "    .dataframe thead th {\n",
              "        text-align: right;\n",
              "    }\n",
              "</style>\n",
              "<table border=\"1\" class=\"dataframe\">\n",
              "  <thead>\n",
              "    <tr style=\"text-align: right;\">\n",
              "      <th></th>\n",
              "      <th>en</th>\n",
              "      <th>es</th>\n",
              "      <th>fr</th>\n",
              "      <th>nl</th>\n",
              "      <th>it</th>\n",
              "      <th>in</th>\n",
              "      <th>tl</th>\n",
              "      <th>pt</th>\n",
              "    </tr>\n",
              "  </thead>\n",
              "  <tbody>\n",
              "    <tr>\n",
              "      <th>en</th>\n",
              "      <td>18.2886</td>\n",
              "      <td>30.2626</td>\n",
              "      <td>33.4835</td>\n",
              "      <td>25.3983</td>\n",
              "      <td>27.6</td>\n",
              "      <td>27.5662</td>\n",
              "      <td>27.0262</td>\n",
              "      <td>37.8465</td>\n",
              "    </tr>\n",
              "    <tr>\n",
              "      <th>es</th>\n",
              "      <td>29.1031</td>\n",
              "      <td>16.2653</td>\n",
              "      <td>28.9506</td>\n",
              "      <td>30.0798</td>\n",
              "      <td>23.4261</td>\n",
              "      <td>30.9691</td>\n",
              "      <td>30.5896</td>\n",
              "      <td>26.2961</td>\n",
              "    </tr>\n",
              "    <tr>\n",
              "      <th>fr</th>\n",
              "      <td>26.1245</td>\n",
              "      <td>27.6946</td>\n",
              "      <td>17.1228</td>\n",
              "      <td>27.1802</td>\n",
              "      <td>24.6027</td>\n",
              "      <td>30.1329</td>\n",
              "      <td>31.4539</td>\n",
              "      <td>31.9095</td>\n",
              "    </tr>\n",
              "    <tr>\n",
              "      <th>nl</th>\n",
              "      <td>25.054</td>\n",
              "      <td>31.7616</td>\n",
              "      <td>29.6374</td>\n",
              "      <td>17.9473</td>\n",
              "      <td>28.8831</td>\n",
              "      <td>28.1347</td>\n",
              "      <td>29.2788</td>\n",
              "      <td>37.0871</td>\n",
              "    </tr>\n",
              "    <tr>\n",
              "      <th>it</th>\n",
              "      <td>28.7876</td>\n",
              "      <td>23.751</td>\n",
              "      <td>30.4275</td>\n",
              "      <td>30.1302</td>\n",
              "      <td>16.7155</td>\n",
              "      <td>30.4894</td>\n",
              "      <td>29.8152</td>\n",
              "      <td>29.7926</td>\n",
              "    </tr>\n",
              "    <tr>\n",
              "      <th>in</th>\n",
              "      <td>26.6907</td>\n",
              "      <td>34.0945</td>\n",
              "      <td>41.14</td>\n",
              "      <td>27.0107</td>\n",
              "      <td>28.3149</td>\n",
              "      <td>18.1508</td>\n",
              "      <td>24.0628</td>\n",
              "      <td>41.3162</td>\n",
              "    </tr>\n",
              "    <tr>\n",
              "      <th>tl</th>\n",
              "      <td>24.9965</td>\n",
              "      <td>28.4714</td>\n",
              "      <td>41.4229</td>\n",
              "      <td>28.1747</td>\n",
              "      <td>27.2717</td>\n",
              "      <td>23.4979</td>\n",
              "      <td>17.9873</td>\n",
              "      <td>35.6522</td>\n",
              "    </tr>\n",
              "    <tr>\n",
              "      <th>pt</th>\n",
              "      <td>29.8409</td>\n",
              "      <td>21.4945</td>\n",
              "      <td>28.7374</td>\n",
              "      <td>31.2407</td>\n",
              "      <td>24.7088</td>\n",
              "      <td>32.3514</td>\n",
              "      <td>31.7168</td>\n",
              "      <td>16.596</td>\n",
              "    </tr>\n",
              "  </tbody>\n",
              "</table>\n",
              "</div>"
            ],
            "text/plain": [
              "         en       es       fr       nl       it       in       tl       pt\n",
              "en  18.2886  30.2626  33.4835  25.3983     27.6  27.5662  27.0262  37.8465\n",
              "es  29.1031  16.2653  28.9506  30.0798  23.4261  30.9691  30.5896  26.2961\n",
              "fr  26.1245  27.6946  17.1228  27.1802  24.6027  30.1329  31.4539  31.9095\n",
              "nl   25.054  31.7616  29.6374  17.9473  28.8831  28.1347  29.2788  37.0871\n",
              "it  28.7876   23.751  30.4275  30.1302  16.7155  30.4894  29.8152  29.7926\n",
              "in  26.6907  34.0945    41.14  27.0107  28.3149  18.1508  24.0628  41.3162\n",
              "tl  24.9965  28.4714  41.4229  28.1747  27.2717  23.4979  17.9873  35.6522\n",
              "pt  29.8409  21.4945  28.7374  31.2407  24.7088  32.3514  31.7168   16.596"
            ]
          },
          "metadata": {
            "tags": []
          }
        },
        {
          "output_type": "display_data",
          "data": {
            "text/html": [
              "<br><br>"
            ],
            "text/plain": [
              "<IPython.core.display.HTML object>"
            ]
          },
          "metadata": {
            "tags": []
          }
        },
        {
          "output_type": "display_data",
          "data": {
            "text/html": [
              "<H2>N=2 &nbsp&nbsp&nbsp&nbsp add_one=True</H2>"
            ],
            "text/plain": [
              "<IPython.core.display.HTML object>"
            ]
          },
          "metadata": {
            "tags": []
          }
        },
        {
          "output_type": "display_data",
          "data": {
            "text/html": [
              "<div>\n",
              "<style scoped>\n",
              "    .dataframe tbody tr th:only-of-type {\n",
              "        vertical-align: middle;\n",
              "    }\n",
              "\n",
              "    .dataframe tbody tr th {\n",
              "        vertical-align: top;\n",
              "    }\n",
              "\n",
              "    .dataframe thead th {\n",
              "        text-align: right;\n",
              "    }\n",
              "</style>\n",
              "<table border=\"1\" class=\"dataframe\">\n",
              "  <thead>\n",
              "    <tr style=\"text-align: right;\">\n",
              "      <th></th>\n",
              "      <th>en</th>\n",
              "      <th>es</th>\n",
              "      <th>fr</th>\n",
              "      <th>nl</th>\n",
              "      <th>it</th>\n",
              "      <th>in</th>\n",
              "      <th>tl</th>\n",
              "      <th>pt</th>\n",
              "    </tr>\n",
              "  </thead>\n",
              "  <tbody>\n",
              "    <tr>\n",
              "      <th>en</th>\n",
              "      <td>18.3078</td>\n",
              "      <td>24.7993</td>\n",
              "      <td>26.5817</td>\n",
              "      <td>24.2862</td>\n",
              "      <td>25.5332</td>\n",
              "      <td>26.2739</td>\n",
              "      <td>25.5807</td>\n",
              "      <td>29.5319</td>\n",
              "    </tr>\n",
              "    <tr>\n",
              "      <th>es</th>\n",
              "      <td>27.4436</td>\n",
              "      <td>16.2835</td>\n",
              "      <td>25.2734</td>\n",
              "      <td>28.6231</td>\n",
              "      <td>21.7368</td>\n",
              "      <td>29.3634</td>\n",
              "      <td>28.8652</td>\n",
              "      <td>23.6449</td>\n",
              "    </tr>\n",
              "    <tr>\n",
              "      <th>fr</th>\n",
              "      <td>24.8762</td>\n",
              "      <td>21.6914</td>\n",
              "      <td>17.1399</td>\n",
              "      <td>26.0119</td>\n",
              "      <td>23.2035</td>\n",
              "      <td>28.5776</td>\n",
              "      <td>29.5968</td>\n",
              "      <td>25.9813</td>\n",
              "    </tr>\n",
              "    <tr>\n",
              "      <th>nl</th>\n",
              "      <td>23.9753</td>\n",
              "      <td>26.6772</td>\n",
              "      <td>25.9539</td>\n",
              "      <td>17.9633</td>\n",
              "      <td>27.0327</td>\n",
              "      <td>26.8773</td>\n",
              "      <td>27.5775</td>\n",
              "      <td>30.3803</td>\n",
              "    </tr>\n",
              "    <tr>\n",
              "      <th>it</th>\n",
              "      <td>27.4216</td>\n",
              "      <td>20.653</td>\n",
              "      <td>25.674</td>\n",
              "      <td>28.7272</td>\n",
              "      <td>16.733</td>\n",
              "      <td>28.8438</td>\n",
              "      <td>28.0637</td>\n",
              "      <td>25.0662</td>\n",
              "    </tr>\n",
              "    <tr>\n",
              "      <th>in</th>\n",
              "      <td>25.4171</td>\n",
              "      <td>29.0935</td>\n",
              "      <td>28.7854</td>\n",
              "      <td>25.7575</td>\n",
              "      <td>25.6584</td>\n",
              "      <td>18.1736</td>\n",
              "      <td>22.7798</td>\n",
              "      <td>32.5799</td>\n",
              "    </tr>\n",
              "    <tr>\n",
              "      <th>tl</th>\n",
              "      <td>23.9007</td>\n",
              "      <td>23.8286</td>\n",
              "      <td>28.8175</td>\n",
              "      <td>26.7458</td>\n",
              "      <td>24.7028</td>\n",
              "      <td>22.5064</td>\n",
              "      <td>18.0114</td>\n",
              "      <td>27.0469</td>\n",
              "    </tr>\n",
              "    <tr>\n",
              "      <th>pt</th>\n",
              "      <td>27.8921</td>\n",
              "      <td>19.827</td>\n",
              "      <td>24.9772</td>\n",
              "      <td>29.5116</td>\n",
              "      <td>22.6496</td>\n",
              "      <td>30.25</td>\n",
              "      <td>29.4441</td>\n",
              "      <td>16.6174</td>\n",
              "    </tr>\n",
              "  </tbody>\n",
              "</table>\n",
              "</div>"
            ],
            "text/plain": [
              "         en       es       fr       nl       it       in       tl       pt\n",
              "en  18.3078  24.7993  26.5817  24.2862  25.5332  26.2739  25.5807  29.5319\n",
              "es  27.4436  16.2835  25.2734  28.6231  21.7368  29.3634  28.8652  23.6449\n",
              "fr  24.8762  21.6914  17.1399  26.0119  23.2035  28.5776  29.5968  25.9813\n",
              "nl  23.9753  26.6772  25.9539  17.9633  27.0327  26.8773  27.5775  30.3803\n",
              "it  27.4216   20.653   25.674  28.7272   16.733  28.8438  28.0637  25.0662\n",
              "in  25.4171  29.0935  28.7854  25.7575  25.6584  18.1736  22.7798  32.5799\n",
              "tl  23.9007  23.8286  28.8175  26.7458  24.7028  22.5064  18.0114  27.0469\n",
              "pt  27.8921   19.827  24.9772  29.5116  22.6496    30.25  29.4441  16.6174"
            ]
          },
          "metadata": {
            "tags": []
          }
        },
        {
          "output_type": "display_data",
          "data": {
            "text/html": [
              "<br><br>"
            ],
            "text/plain": [
              "<IPython.core.display.HTML object>"
            ]
          },
          "metadata": {
            "tags": []
          }
        },
        {
          "output_type": "display_data",
          "data": {
            "text/html": [
              "<br><br><br><br><br>"
            ],
            "text/plain": [
              "<IPython.core.display.HTML object>"
            ]
          },
          "metadata": {
            "tags": []
          }
        },
        {
          "output_type": "display_data",
          "data": {
            "text/html": [
              "<H2>N=3 &nbsp&nbsp&nbsp&nbsp add_one=False</H2>"
            ],
            "text/plain": [
              "<IPython.core.display.HTML object>"
            ]
          },
          "metadata": {
            "tags": []
          }
        },
        {
          "output_type": "display_data",
          "data": {
            "text/html": [
              "<div>\n",
              "<style scoped>\n",
              "    .dataframe tbody tr th:only-of-type {\n",
              "        vertical-align: middle;\n",
              "    }\n",
              "\n",
              "    .dataframe tbody tr th {\n",
              "        vertical-align: top;\n",
              "    }\n",
              "\n",
              "    .dataframe thead th {\n",
              "        text-align: right;\n",
              "    }\n",
              "</style>\n",
              "<table border=\"1\" class=\"dataframe\">\n",
              "  <thead>\n",
              "    <tr style=\"text-align: right;\">\n",
              "      <th></th>\n",
              "      <th>en</th>\n",
              "      <th>es</th>\n",
              "      <th>fr</th>\n",
              "      <th>nl</th>\n",
              "      <th>it</th>\n",
              "      <th>in</th>\n",
              "      <th>tl</th>\n",
              "      <th>pt</th>\n",
              "    </tr>\n",
              "  </thead>\n",
              "  <tbody>\n",
              "    <tr>\n",
              "      <th>en</th>\n",
              "      <td>8.963</td>\n",
              "      <td>76.5862</td>\n",
              "      <td>106.826</td>\n",
              "      <td>86.6282</td>\n",
              "      <td>64.0316</td>\n",
              "      <td>91.3391</td>\n",
              "      <td>74.4461</td>\n",
              "      <td>104.014</td>\n",
              "    </tr>\n",
              "    <tr>\n",
              "      <th>es</th>\n",
              "      <td>77.2421</td>\n",
              "      <td>8.60731</td>\n",
              "      <td>99.3324</td>\n",
              "      <td>140.851</td>\n",
              "      <td>51.9139</td>\n",
              "      <td>131.914</td>\n",
              "      <td>98.8187</td>\n",
              "      <td>56.7719</td>\n",
              "    </tr>\n",
              "    <tr>\n",
              "      <th>fr</th>\n",
              "      <td>57.2887</td>\n",
              "      <td>64.9911</td>\n",
              "      <td>8.56596</td>\n",
              "      <td>98.5673</td>\n",
              "      <td>55.8074</td>\n",
              "      <td>104.05</td>\n",
              "      <td>96.5427</td>\n",
              "      <td>84.6945</td>\n",
              "    </tr>\n",
              "    <tr>\n",
              "      <th>nl</th>\n",
              "      <td>48.4263</td>\n",
              "      <td>85.159</td>\n",
              "      <td>93.6485</td>\n",
              "      <td>9.2365</td>\n",
              "      <td>75.1864</td>\n",
              "      <td>86.9358</td>\n",
              "      <td>77.4014</td>\n",
              "      <td>107.673</td>\n",
              "    </tr>\n",
              "    <tr>\n",
              "      <th>it</th>\n",
              "      <td>71.7443</td>\n",
              "      <td>58.693</td>\n",
              "      <td>93.783</td>\n",
              "      <td>141.81</td>\n",
              "      <td>8.63636</td>\n",
              "      <td>140.475</td>\n",
              "      <td>91.0406</td>\n",
              "      <td>73.0836</td>\n",
              "    </tr>\n",
              "    <tr>\n",
              "      <th>in</th>\n",
              "      <td>56.6487</td>\n",
              "      <td>85.2715</td>\n",
              "      <td>142.239</td>\n",
              "      <td>88.6925</td>\n",
              "      <td>73.0497</td>\n",
              "      <td>9.90744</td>\n",
              "      <td>58.7731</td>\n",
              "      <td>105.931</td>\n",
              "    </tr>\n",
              "    <tr>\n",
              "      <th>tl</th>\n",
              "      <td>49.698</td>\n",
              "      <td>73.0234</td>\n",
              "      <td>150.954</td>\n",
              "      <td>110.855</td>\n",
              "      <td>68.2762</td>\n",
              "      <td>62.9563</td>\n",
              "      <td>8.5301</td>\n",
              "      <td>96.227</td>\n",
              "    </tr>\n",
              "    <tr>\n",
              "      <th>pt</th>\n",
              "      <td>95.6233</td>\n",
              "      <td>54.2748</td>\n",
              "      <td>121.914</td>\n",
              "      <td>181.817</td>\n",
              "      <td>68.0819</td>\n",
              "      <td>174.123</td>\n",
              "      <td>114.883</td>\n",
              "      <td>8.11238</td>\n",
              "    </tr>\n",
              "  </tbody>\n",
              "</table>\n",
              "</div>"
            ],
            "text/plain": [
              "         en       es       fr       nl       it       in       tl       pt\n",
              "en    8.963  76.5862  106.826  86.6282  64.0316  91.3391  74.4461  104.014\n",
              "es  77.2421  8.60731  99.3324  140.851  51.9139  131.914  98.8187  56.7719\n",
              "fr  57.2887  64.9911  8.56596  98.5673  55.8074   104.05  96.5427  84.6945\n",
              "nl  48.4263   85.159  93.6485   9.2365  75.1864  86.9358  77.4014  107.673\n",
              "it  71.7443   58.693   93.783   141.81  8.63636  140.475  91.0406  73.0836\n",
              "in  56.6487  85.2715  142.239  88.6925  73.0497  9.90744  58.7731  105.931\n",
              "tl   49.698  73.0234  150.954  110.855  68.2762  62.9563   8.5301   96.227\n",
              "pt  95.6233  54.2748  121.914  181.817  68.0819  174.123  114.883  8.11238"
            ]
          },
          "metadata": {
            "tags": []
          }
        },
        {
          "output_type": "display_data",
          "data": {
            "text/html": [
              "<br><br>"
            ],
            "text/plain": [
              "<IPython.core.display.HTML object>"
            ]
          },
          "metadata": {
            "tags": []
          }
        },
        {
          "output_type": "display_data",
          "data": {
            "text/html": [
              "<H2>N=3 &nbsp&nbsp&nbsp&nbsp add_one=True</H2>"
            ],
            "text/plain": [
              "<IPython.core.display.HTML object>"
            ]
          },
          "metadata": {
            "tags": []
          }
        },
        {
          "output_type": "display_data",
          "data": {
            "text/html": [
              "<div>\n",
              "<style scoped>\n",
              "    .dataframe tbody tr th:only-of-type {\n",
              "        vertical-align: middle;\n",
              "    }\n",
              "\n",
              "    .dataframe tbody tr th {\n",
              "        vertical-align: top;\n",
              "    }\n",
              "\n",
              "    .dataframe thead th {\n",
              "        text-align: right;\n",
              "    }\n",
              "</style>\n",
              "<table border=\"1\" class=\"dataframe\">\n",
              "  <thead>\n",
              "    <tr style=\"text-align: right;\">\n",
              "      <th></th>\n",
              "      <th>en</th>\n",
              "      <th>es</th>\n",
              "      <th>fr</th>\n",
              "      <th>nl</th>\n",
              "      <th>it</th>\n",
              "      <th>in</th>\n",
              "      <th>tl</th>\n",
              "      <th>pt</th>\n",
              "    </tr>\n",
              "  </thead>\n",
              "  <tbody>\n",
              "    <tr>\n",
              "      <th>en</th>\n",
              "      <td>9.06244</td>\n",
              "      <td>24.1597</td>\n",
              "      <td>24.3727</td>\n",
              "      <td>18.4607</td>\n",
              "      <td>21.0262</td>\n",
              "      <td>23.0989</td>\n",
              "      <td>20.1294</td>\n",
              "      <td>30.7987</td>\n",
              "    </tr>\n",
              "    <tr>\n",
              "      <th>es</th>\n",
              "      <td>19.0636</td>\n",
              "      <td>8.70134</td>\n",
              "      <td>20.646</td>\n",
              "      <td>21.4272</td>\n",
              "      <td>16.8378</td>\n",
              "      <td>22.9641</td>\n",
              "      <td>21.3338</td>\n",
              "      <td>18.3378</td>\n",
              "    </tr>\n",
              "    <tr>\n",
              "      <th>fr</th>\n",
              "      <td>17.4877</td>\n",
              "      <td>21.2423</td>\n",
              "      <td>8.65696</td>\n",
              "      <td>19.8976</td>\n",
              "      <td>17.9588</td>\n",
              "      <td>23.4055</td>\n",
              "      <td>22.0566</td>\n",
              "      <td>25.6135</td>\n",
              "    </tr>\n",
              "    <tr>\n",
              "      <th>nl</th>\n",
              "      <td>16.5023</td>\n",
              "      <td>24.4282</td>\n",
              "      <td>20.2428</td>\n",
              "      <td>9.33837</td>\n",
              "      <td>22.1134</td>\n",
              "      <td>22.8311</td>\n",
              "      <td>20.842</td>\n",
              "      <td>29.3829</td>\n",
              "    </tr>\n",
              "    <tr>\n",
              "      <th>it</th>\n",
              "      <td>18.5326</td>\n",
              "      <td>17.1375</td>\n",
              "      <td>21.4033</td>\n",
              "      <td>22.3473</td>\n",
              "      <td>8.72892</td>\n",
              "      <td>23.4926</td>\n",
              "      <td>19.9566</td>\n",
              "      <td>22.0277</td>\n",
              "    </tr>\n",
              "    <tr>\n",
              "      <th>in</th>\n",
              "      <td>17.2169</td>\n",
              "      <td>26.1334</td>\n",
              "      <td>30.619</td>\n",
              "      <td>19.5154</td>\n",
              "      <td>21.293</td>\n",
              "      <td>10.0254</td>\n",
              "      <td>16.443</td>\n",
              "      <td>31.5402</td>\n",
              "    </tr>\n",
              "    <tr>\n",
              "      <th>tl</th>\n",
              "      <td>15.1641</td>\n",
              "      <td>20.8507</td>\n",
              "      <td>29.478</td>\n",
              "      <td>19.5414</td>\n",
              "      <td>20.0587</td>\n",
              "      <td>17.5209</td>\n",
              "      <td>8.63902</td>\n",
              "      <td>26.7967</td>\n",
              "    </tr>\n",
              "    <tr>\n",
              "      <th>pt</th>\n",
              "      <td>19.17</td>\n",
              "      <td>14.3313</td>\n",
              "      <td>20.4693</td>\n",
              "      <td>22.5556</td>\n",
              "      <td>18.045</td>\n",
              "      <td>23.6194</td>\n",
              "      <td>20.3879</td>\n",
              "      <td>8.20855</td>\n",
              "    </tr>\n",
              "  </tbody>\n",
              "</table>\n",
              "</div>"
            ],
            "text/plain": [
              "         en       es       fr       nl       it       in       tl       pt\n",
              "en  9.06244  24.1597  24.3727  18.4607  21.0262  23.0989  20.1294  30.7987\n",
              "es  19.0636  8.70134   20.646  21.4272  16.8378  22.9641  21.3338  18.3378\n",
              "fr  17.4877  21.2423  8.65696  19.8976  17.9588  23.4055  22.0566  25.6135\n",
              "nl  16.5023  24.4282  20.2428  9.33837  22.1134  22.8311   20.842  29.3829\n",
              "it  18.5326  17.1375  21.4033  22.3473  8.72892  23.4926  19.9566  22.0277\n",
              "in  17.2169  26.1334   30.619  19.5154   21.293  10.0254   16.443  31.5402\n",
              "tl  15.1641  20.8507   29.478  19.5414  20.0587  17.5209  8.63902  26.7967\n",
              "pt    19.17  14.3313  20.4693  22.5556   18.045  23.6194  20.3879  8.20855"
            ]
          },
          "metadata": {
            "tags": []
          }
        },
        {
          "output_type": "display_data",
          "data": {
            "text/html": [
              "<br><br>"
            ],
            "text/plain": [
              "<IPython.core.display.HTML object>"
            ]
          },
          "metadata": {
            "tags": []
          }
        },
        {
          "output_type": "display_data",
          "data": {
            "text/html": [
              "<br><br><br><br><br>"
            ],
            "text/plain": [
              "<IPython.core.display.HTML object>"
            ]
          },
          "metadata": {
            "tags": []
          }
        },
        {
          "output_type": "display_data",
          "data": {
            "text/html": [
              "<H2>N=4 &nbsp&nbsp&nbsp&nbsp add_one=False</H2>"
            ],
            "text/plain": [
              "<IPython.core.display.HTML object>"
            ]
          },
          "metadata": {
            "tags": []
          }
        },
        {
          "output_type": "display_data",
          "data": {
            "text/html": [
              "<div>\n",
              "<style scoped>\n",
              "    .dataframe tbody tr th:only-of-type {\n",
              "        vertical-align: middle;\n",
              "    }\n",
              "\n",
              "    .dataframe tbody tr th {\n",
              "        vertical-align: top;\n",
              "    }\n",
              "\n",
              "    .dataframe thead th {\n",
              "        text-align: right;\n",
              "    }\n",
              "</style>\n",
              "<table border=\"1\" class=\"dataframe\">\n",
              "  <thead>\n",
              "    <tr style=\"text-align: right;\">\n",
              "      <th></th>\n",
              "      <th>en</th>\n",
              "      <th>es</th>\n",
              "      <th>fr</th>\n",
              "      <th>nl</th>\n",
              "      <th>it</th>\n",
              "      <th>in</th>\n",
              "      <th>tl</th>\n",
              "      <th>pt</th>\n",
              "    </tr>\n",
              "  </thead>\n",
              "  <tbody>\n",
              "    <tr>\n",
              "      <th>en</th>\n",
              "      <td>4.49421</td>\n",
              "      <td>1661.27</td>\n",
              "      <td>1755.15</td>\n",
              "      <td>2581.05</td>\n",
              "      <td>1734.02</td>\n",
              "      <td>7052.03</td>\n",
              "      <td>2402.12</td>\n",
              "      <td>3353.76</td>\n",
              "    </tr>\n",
              "    <tr>\n",
              "      <th>es</th>\n",
              "      <td>1695.71</td>\n",
              "      <td>4.74224</td>\n",
              "      <td>1990</td>\n",
              "      <td>7500.16</td>\n",
              "      <td>661.1</td>\n",
              "      <td>10910.5</td>\n",
              "      <td>3637.16</td>\n",
              "      <td>586.05</td>\n",
              "    </tr>\n",
              "    <tr>\n",
              "      <th>fr</th>\n",
              "      <td>827.058</td>\n",
              "      <td>980.148</td>\n",
              "      <td>4.4945</td>\n",
              "      <td>4225.86</td>\n",
              "      <td>1109.38</td>\n",
              "      <td>8397.27</td>\n",
              "      <td>4789.24</td>\n",
              "      <td>1943.34</td>\n",
              "    </tr>\n",
              "    <tr>\n",
              "      <th>nl</th>\n",
              "      <td>475.16</td>\n",
              "      <td>2405.2</td>\n",
              "      <td>1797.33</td>\n",
              "      <td>4.6455</td>\n",
              "      <td>2454.97</td>\n",
              "      <td>5500.8</td>\n",
              "      <td>3119.01</td>\n",
              "      <td>4319.9</td>\n",
              "    </tr>\n",
              "    <tr>\n",
              "      <th>it</th>\n",
              "      <td>1200.04</td>\n",
              "      <td>520.573</td>\n",
              "      <td>1733.52</td>\n",
              "      <td>8365.81</td>\n",
              "      <td>4.67216</td>\n",
              "      <td>10826</td>\n",
              "      <td>2934.97</td>\n",
              "      <td>784.216</td>\n",
              "    </tr>\n",
              "    <tr>\n",
              "      <th>in</th>\n",
              "      <td>617.205</td>\n",
              "      <td>2163.13</td>\n",
              "      <td>3360.03</td>\n",
              "      <td>3505.95</td>\n",
              "      <td>1993.78</td>\n",
              "      <td>5.11889</td>\n",
              "      <td>820.692</td>\n",
              "      <td>3398.2</td>\n",
              "    </tr>\n",
              "    <tr>\n",
              "      <th>tl</th>\n",
              "      <td>330.607</td>\n",
              "      <td>1071.25</td>\n",
              "      <td>3260.97</td>\n",
              "      <td>4341.15</td>\n",
              "      <td>1152.65</td>\n",
              "      <td>1242.05</td>\n",
              "      <td>4.32313</td>\n",
              "      <td>1880.49</td>\n",
              "    </tr>\n",
              "    <tr>\n",
              "      <th>pt</th>\n",
              "      <td>2623.97</td>\n",
              "      <td>583.377</td>\n",
              "      <td>3495.93</td>\n",
              "      <td>14581</td>\n",
              "      <td>1205.54</td>\n",
              "      <td>19489.7</td>\n",
              "      <td>5152.69</td>\n",
              "      <td>4.39733</td>\n",
              "    </tr>\n",
              "  </tbody>\n",
              "</table>\n",
              "</div>"
            ],
            "text/plain": [
              "         en       es       fr       nl       it       in       tl       pt\n",
              "en  4.49421  1661.27  1755.15  2581.05  1734.02  7052.03  2402.12  3353.76\n",
              "es  1695.71  4.74224     1990  7500.16    661.1  10910.5  3637.16   586.05\n",
              "fr  827.058  980.148   4.4945  4225.86  1109.38  8397.27  4789.24  1943.34\n",
              "nl   475.16   2405.2  1797.33   4.6455  2454.97   5500.8  3119.01   4319.9\n",
              "it  1200.04  520.573  1733.52  8365.81  4.67216    10826  2934.97  784.216\n",
              "in  617.205  2163.13  3360.03  3505.95  1993.78  5.11889  820.692   3398.2\n",
              "tl  330.607  1071.25  3260.97  4341.15  1152.65  1242.05  4.32313  1880.49\n",
              "pt  2623.97  583.377  3495.93    14581  1205.54  19489.7  5152.69  4.39733"
            ]
          },
          "metadata": {
            "tags": []
          }
        },
        {
          "output_type": "display_data",
          "data": {
            "text/html": [
              "<br><br>"
            ],
            "text/plain": [
              "<IPython.core.display.HTML object>"
            ]
          },
          "metadata": {
            "tags": []
          }
        },
        {
          "output_type": "display_data",
          "data": {
            "text/html": [
              "<H2>N=4 &nbsp&nbsp&nbsp&nbsp add_one=True</H2>"
            ],
            "text/plain": [
              "<IPython.core.display.HTML object>"
            ]
          },
          "metadata": {
            "tags": []
          }
        },
        {
          "output_type": "display_data",
          "data": {
            "text/html": [
              "<div>\n",
              "<style scoped>\n",
              "    .dataframe tbody tr th:only-of-type {\n",
              "        vertical-align: middle;\n",
              "    }\n",
              "\n",
              "    .dataframe tbody tr th {\n",
              "        vertical-align: top;\n",
              "    }\n",
              "\n",
              "    .dataframe thead th {\n",
              "        text-align: right;\n",
              "    }\n",
              "</style>\n",
              "<table border=\"1\" class=\"dataframe\">\n",
              "  <thead>\n",
              "    <tr style=\"text-align: right;\">\n",
              "      <th></th>\n",
              "      <th>en</th>\n",
              "      <th>es</th>\n",
              "      <th>fr</th>\n",
              "      <th>nl</th>\n",
              "      <th>it</th>\n",
              "      <th>in</th>\n",
              "      <th>tl</th>\n",
              "      <th>pt</th>\n",
              "    </tr>\n",
              "  </thead>\n",
              "  <tbody>\n",
              "    <tr>\n",
              "      <th>en</th>\n",
              "      <td>4.72863</td>\n",
              "      <td>65.4103</td>\n",
              "      <td>90.5955</td>\n",
              "      <td>65.0879</td>\n",
              "      <td>48.8198</td>\n",
              "      <td>63.9575</td>\n",
              "      <td>49.7092</td>\n",
              "      <td>83.1827</td>\n",
              "    </tr>\n",
              "    <tr>\n",
              "      <th>es</th>\n",
              "      <td>52.6957</td>\n",
              "      <td>4.9751</td>\n",
              "      <td>78.8692</td>\n",
              "      <td>96.1009</td>\n",
              "      <td>41.2666</td>\n",
              "      <td>93.8644</td>\n",
              "      <td>65.7443</td>\n",
              "      <td>42.5415</td>\n",
              "    </tr>\n",
              "    <tr>\n",
              "      <th>fr</th>\n",
              "      <td>40.0582</td>\n",
              "      <td>54.7031</td>\n",
              "      <td>4.71416</td>\n",
              "      <td>70.745</td>\n",
              "      <td>43.9101</td>\n",
              "      <td>72.5205</td>\n",
              "      <td>63.2528</td>\n",
              "      <td>64.9806</td>\n",
              "    </tr>\n",
              "    <tr>\n",
              "      <th>nl</th>\n",
              "      <td>33.9982</td>\n",
              "      <td>64.1111</td>\n",
              "      <td>72.6843</td>\n",
              "      <td>4.90316</td>\n",
              "      <td>52.6378</td>\n",
              "      <td>60.0581</td>\n",
              "      <td>52.1838</td>\n",
              "      <td>78.1723</td>\n",
              "    </tr>\n",
              "    <tr>\n",
              "      <th>it</th>\n",
              "      <td>46.829</td>\n",
              "      <td>46.6833</td>\n",
              "      <td>73.5084</td>\n",
              "      <td>91.2207</td>\n",
              "      <td>4.89654</td>\n",
              "      <td>97.6623</td>\n",
              "      <td>60.8942</td>\n",
              "      <td>55.9814</td>\n",
              "    </tr>\n",
              "    <tr>\n",
              "      <th>in</th>\n",
              "      <td>37.9837</td>\n",
              "      <td>70.1486</td>\n",
              "      <td>113.886</td>\n",
              "      <td>63.3818</td>\n",
              "      <td>57.4739</td>\n",
              "      <td>5.39629</td>\n",
              "      <td>43.9632</td>\n",
              "      <td>82.5814</td>\n",
              "    </tr>\n",
              "    <tr>\n",
              "      <th>tl</th>\n",
              "      <td>33.1246</td>\n",
              "      <td>57.343</td>\n",
              "      <td>120.605</td>\n",
              "      <td>78.7805</td>\n",
              "      <td>52.2283</td>\n",
              "      <td>47.7098</td>\n",
              "      <td>4.55242</td>\n",
              "      <td>72.0619</td>\n",
              "    </tr>\n",
              "    <tr>\n",
              "      <th>pt</th>\n",
              "      <td>64.799</td>\n",
              "      <td>42.7035</td>\n",
              "      <td>98.4822</td>\n",
              "      <td>119.148</td>\n",
              "      <td>54.537</td>\n",
              "      <td>119.161</td>\n",
              "      <td>77.5407</td>\n",
              "      <td>4.61385</td>\n",
              "    </tr>\n",
              "  </tbody>\n",
              "</table>\n",
              "</div>"
            ],
            "text/plain": [
              "         en       es       fr       nl       it       in       tl       pt\n",
              "en  4.72863  65.4103  90.5955  65.0879  48.8198  63.9575  49.7092  83.1827\n",
              "es  52.6957   4.9751  78.8692  96.1009  41.2666  93.8644  65.7443  42.5415\n",
              "fr  40.0582  54.7031  4.71416   70.745  43.9101  72.5205  63.2528  64.9806\n",
              "nl  33.9982  64.1111  72.6843  4.90316  52.6378  60.0581  52.1838  78.1723\n",
              "it   46.829  46.6833  73.5084  91.2207  4.89654  97.6623  60.8942  55.9814\n",
              "in  37.9837  70.1486  113.886  63.3818  57.4739  5.39629  43.9632  82.5814\n",
              "tl  33.1246   57.343  120.605  78.7805  52.2283  47.7098  4.55242  72.0619\n",
              "pt   64.799  42.7035  98.4822  119.148   54.537  119.161  77.5407  4.61385"
            ]
          },
          "metadata": {
            "tags": []
          }
        },
        {
          "output_type": "display_data",
          "data": {
            "text/html": [
              "<br><br>"
            ],
            "text/plain": [
              "<IPython.core.display.HTML object>"
            ]
          },
          "metadata": {
            "tags": []
          }
        },
        {
          "output_type": "display_data",
          "data": {
            "text/html": [
              "<br><br><br><br><br>"
            ],
            "text/plain": [
              "<IPython.core.display.HTML object>"
            ]
          },
          "metadata": {
            "tags": []
          }
        }
      ]
    },
    {
      "cell_type": "markdown",
      "metadata": {
        "id": "iEtckSWNANqW"
      },
      "source": [
        "# **Good luck!**"
      ]
    }
  ]
}