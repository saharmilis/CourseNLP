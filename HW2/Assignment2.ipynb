{
  "nbformat": 4,
  "nbformat_minor": 0,
  "metadata": {
    "colab": {
      "name": "Assignment_2.ipynb",
      "provenance": [],
      "collapsed_sections": []
    },
    "kernelspec": {
      "display_name": "Python 3",
      "language": "python",
      "name": "python3"
    },
    "language_info": {
      "codemirror_mode": {
        "name": "ipython",
        "version": 3
      },
      "file_extension": ".py",
      "mimetype": "text/x-python",
      "name": "python",
      "nbconvert_exporter": "python",
      "pygments_lexer": "ipython3",
      "version": "3.7.7"
    }
  },
  "cells": [
    {
      "cell_type": "markdown",
      "metadata": {
        "id": "n0zB2BpE6DhW"
      },
      "source": [
        "# Assignment 2\n",
        "\n",
        "This assignment is about training and evaluating a POS tagger with some real data. The dataset is available through NLTK, a Python NLP package."
      ]
    },
    {
      "cell_type": "markdown",
      "metadata": {
        "id": "UH-Xvqip6Teu"
      },
      "source": [
        "**Part 1** (no actions required)\n",
        "\n",
        "The dataset is composed of a set of sentences. Each sentence is a list of tuples of a word and a tag, as provided by human annotators.\n",
        "You should split the data to train and test sets in the following way:\n"
      ]
    },
    {
      "cell_type": "code",
      "metadata": {
        "id": "nsZsyTVC6Sw0",
        "colab": {
          "base_uri": "https://localhost:8080/",
          "height": 104
        },
        "outputId": "e3116a7b-6d11-49b1-a37f-f42567784d33"
      },
      "source": [
        "from time import time\n",
        "import matplotlib.pyplot as plt\n",
        "from tabulate import tabulate\n",
        "import pandas as pd\n",
        "\n",
        "import numpy as np\n",
        "import operator\n",
        "import nltk\n",
        "from nltk.corpus import treebank \n",
        "nltk.download('treebank')\n",
        "print(f\"Number of sentences: {len(treebank.tagged_sents())}\")\n",
        "\n",
        "train_data = treebank.tagged_sents()[:3000] \n",
        "test_data = treebank.tagged_sents()[3000:] \n",
        "print(train_data[0])"
      ],
      "execution_count": null,
      "outputs": [
        {
          "output_type": "stream",
          "text": [
            "[nltk_data] Downloading package treebank to /root/nltk_data...\n",
            "[nltk_data]   Unzipping corpora/treebank.zip.\n",
            "Number of sentences: 3914\n",
            "[('Pierre', 'NNP'), ('Vinken', 'NNP'), (',', ','), ('61', 'CD'), ('years', 'NNS'), ('old', 'JJ'), (',', ','), ('will', 'MD'), ('join', 'VB'), ('the', 'DT'), ('board', 'NN'), ('as', 'IN'), ('a', 'DT'), ('nonexecutive', 'JJ'), ('director', 'NN'), ('Nov.', 'NNP'), ('29', 'CD'), ('.', '.')]\n"
          ],
          "name": "stdout"
        }
      ]
    },
    {
      "cell_type": "markdown",
      "metadata": {
        "id": "vhcTTiefr3Ms"
      },
      "source": [
        "<br><br><br>\n",
        "<br><br><br>\n",
        "<br><br><br>"
      ]
    },
    {
      "cell_type": "markdown",
      "metadata": {
        "id": "q0Z9BMNM7EP3"
      },
      "source": [
        "# **Part 2**\n",
        "\n",
        "Write a class simple_tagger, with methods *train* and *evaluate*.  \n",
        "\n",
        "The method *train* receives the data as a list of treebank sentences, as presented below, and use it for training the tagger.  \n",
        "In this case, it should learn a simple map of words to tags, defined as the most frequent tag for every word (in case there is more than one tag, select one randomly).  \n",
        "The map should be stored as a class member for evaluation.\n",
        "\n",
        "The method evaluate receives the data as a list of treebanl sentences, as presented above, and use it to evaluate the tagger performance. Specifically, it should calculate the word and sentence level accuracy.  \n",
        "The evaluation process is simply going word by word, querying the map (created by the train method) for each word’s tag and compare it to the true tag of that word.  \n",
        "The word-level accuracy is the number of successes divided by the number of words.  \n",
        "For OOV (out of vocabulary, or unknown) words, the tagger should assign the most frequent tag in the entire training set.  \n",
        "The function should return the two numbers: word level accuracy and sentence level accuracy.\n"
      ]
    },
    {
      "cell_type": "code",
      "metadata": {
        "id": "MtivZLBH7dXq",
        "scrolled": true
      },
      "source": [
        "class simple_tagger:\n",
        "\n",
        "    def get_word_map_and_tag_map(SELF,data):\n",
        "        '''\n",
        "        Input: treebank sentences\n",
        "        Output: \n",
        "                word_map - dict with all counters of tags\n",
        "                tag_map - count tags appearances\n",
        "        '''\n",
        "        word_map = {}\n",
        "        tag_map = {}\n",
        "\n",
        "        for sentence in data:\n",
        "            for word,tag in sentence:\n",
        "\n",
        "                # WORD_MAP\n",
        "                if word not in word_map:\n",
        "                    word_map[word] = {}\n",
        "\n",
        "                if tag in word_map[word]:\n",
        "                    word_map[word][tag] += 1\n",
        "                else:\n",
        "                    word_map[word][tag] = 1\n",
        "\n",
        "                # TAG_MAP\n",
        "                if tag not in tag_map:\n",
        "                    tag_map[tag] = 1\n",
        "                else:\n",
        "                    tag_map[tag] += 1\n",
        "        return word_map,tag_map\n",
        "    \n",
        "    \n",
        "    def train(self, data):\n",
        "        # TODO\n",
        "        self.map = {}\n",
        "        self.max_tag = ''\n",
        "\n",
        "        # use inner function\n",
        "        word_map,tag_map = self.get_word_map_and_tag_map(data)\n",
        "\n",
        "        # initilize most frequent tag \n",
        "        self.max_tag = max(tag_map, key=tag_map.get)\n",
        "\n",
        "        # initilize map with word and it's own max tag\n",
        "        for word in word_map:\n",
        "            tags = word_map[word]\n",
        "            self.map[word] = max(tags, key=tags.get)\n",
        "\n",
        "            \n",
        "    def evaluate(self, data):\n",
        "        # TODO\n",
        "        word_successe = 0\n",
        "        word_number = 0\n",
        "        sentence_successe = 0\n",
        "        sentence_number = len(data)\n",
        "    \n",
        "        for sentence in data:\n",
        "            word_successe_in_sentence = np.sum([self.map.get(word,self.max_tag)==tag for word,tag in sentence])\n",
        "\n",
        "            word_number += len(sentence)\n",
        "            word_successe += word_successe_in_sentence\n",
        "            sentence_successe += (len(sentence)==word_successe_in_sentence)\n",
        "\n",
        "        return word_successe/word_number,sentence_successe/sentence_number\n",
        "\n",
        "\n",
        "    def get_results(self,train_data,test_data):\n",
        "        r = {}\n",
        "        \n",
        "        r['Training Time'] = time()\n",
        "        self.train(train_data)\n",
        "        r['Training Time'] = time() - r['Training Time']\n",
        "        \n",
        "        r['Evaluating Time'] = time()\n",
        "        r['Word Accuracy'], r['Sentence Accuracy'] = self.evaluate(test_data)\n",
        "        r['Evaluating Time'] = time() - r['Evaluating Time']\n",
        "        \n",
        "        return r\n",
        "    \n",
        "st = simple_tagger()\n",
        "results_st = st.get_results(train_data,test_data)"
      ],
      "execution_count": null,
      "outputs": []
    },
    {
      "cell_type": "markdown",
      "metadata": {
        "id": "WNKtTb5_r3M3"
      },
      "source": [
        "<br><br><br>\n",
        "<br><br><br>\n",
        "<br><br><br>"
      ]
    },
    {
      "cell_type": "markdown",
      "metadata": {
        "id": "etK9iZIq8i0X"
      },
      "source": [
        "# **Part 3**\n",
        "\n",
        "Similar to part 2, write the class hmm_tagger, which implements HMM tagging. The method *train* should build the matrices A, B and Pi, from the data as discussed in class. The method *evaluate* should find the best tag sequence for every input sentence, using he Viterbi decoding algorithm, and then calculate the word and sentence level accuracy using the gold-standard tags. I implemented the Viterbi algorithm for you in the next block, so you can should either plug it into your code or write your own Viterbi version.\n",
        "\n",
        "Additional guidance:\n",
        "1. The matrix B represents the probabilities of seeing a word within each POS label.\n",
        "Since B is a matrix, you should build a dictionary that maps every unique word in the corpus to a serial numeric id (starting with 0). This way, every column in B represents the word that it’s id matches the index of the column.\n",
        "2. During evaluation, you should first convert each word into it’s index and create the observation array to be given to Viterbi, as a list of ids. OOV words should be assigned with a random tag. To make sure Viterbi works appropriately, you can simply break the sentence into multiple segments every time you see OOV word, and decode every segment individually by Viterbi.\n"
      ]
    },
    {
      "cell_type": "code",
      "metadata": {
        "id": "TpH7GuiQ9L6W"
      },
      "source": [
        "class hmm_tagger:\n",
        "    def get_word_map_and_tag_map(self,data):\n",
        "        '''\n",
        "        Input: treebank sentences\n",
        "        Output: \n",
        "                word_map - dict with all counters of tags\n",
        "                tag_map - count tags appearances\n",
        "        '''\n",
        "        word_map = {}\n",
        "        tag_map = {}\n",
        "\n",
        "        for sentence in data:\n",
        "            for word,tag in sentence:\n",
        "\n",
        "                # WORD_MAP\n",
        "                if word not in word_map:\n",
        "                    word_map[word] = {'id':len(word_map),'tags':{}}\n",
        "\n",
        "\n",
        "                if tag in word_map[word]['tags']:\n",
        "                    word_map[word]['tags'][tag] += 1\n",
        "                else:\n",
        "                    word_map[word]['tags'][tag] = 1\n",
        "\n",
        "                # TAG_MAP\n",
        "                if tag not in tag_map:\n",
        "                    tag_map[tag] = {'id':len(tag_map),'count':1}\n",
        "                else:\n",
        "                    tag_map[tag]['count'] += 1\n",
        "\n",
        "        return word_map,tag_map\n",
        "    \n",
        "    def train(self, data):\n",
        "    # TODO\n",
        "\n",
        "        # unique\n",
        "        word_map,tag_map = self.get_word_map_and_tag_map(data)\n",
        "\n",
        "        # mapping ID to WORD\n",
        "        from_id_to_word = {word_map[word]['id']:word for word in word_map.keys()}\n",
        "\n",
        "        # mapping ID to TAG\n",
        "        from_id_to_tag = {tag_map[tag]['id']:tag for tag in tag_map}\n",
        "\n",
        "        # mapping WORD to ID\n",
        "        from_word_to_id = dict(zip(from_id_to_word.values(),from_id_to_word.keys()))\n",
        "\n",
        "        # mapping WORD to ID\n",
        "        from_tag_to_id = dict(zip(from_id_to_tag.values(),from_id_to_tag.keys()))\n",
        "\n",
        "        # unique tag id\n",
        "        unique_tag_id = list(from_id_to_tag.keys())\n",
        "        \n",
        "        # create pi\n",
        "        tag_map_values = np.array([tag['count'] for tag in tag_map.values() ])\n",
        "        pi = tag_map_values / tag_map_values.sum()\n",
        "\n",
        "        # create B\n",
        "        B = np.zeros((len(tag_map),len(word_map)))\n",
        "        for word in word_map.values():\n",
        "            for tag in word['tags']:\n",
        "                B[tag_map[tag]['id'],word['id']] = word['tags'][tag]\n",
        "        B = B / B.sum(axis=1)[:, np.newaxis]\n",
        "\n",
        "        # create A\n",
        "        A = np.zeros((len(tag_map),len(tag_map)))\n",
        "        for sentence in train_data:\n",
        "            for current_word,next_word in zip(sentence[:-1],sentence[1:]):\n",
        "                A[tag_map[current_word[1]]['id'],tag_map[next_word[1]]['id']] += 1\n",
        "        A = A / A.sum(axis=1)[:,np.newaxis]\n",
        "\n",
        "\n",
        "        # init params\n",
        "#         self.word_map = word_map\n",
        "#         self.tag_map = tag_map\n",
        "#         self.from_id_to_word = from_id_to_word\n",
        "#         self.from_id_to_tag = from_id_to_tag \n",
        "        self.from_word_to_id = from_word_to_id\n",
        "        self.from_tag_to_id = from_tag_to_id\n",
        "        self.unique_tag_id = unique_tag_id\n",
        "        self.A = A\n",
        "        self.B = B\n",
        "        self.pi = pi\n",
        "\n",
        "\n",
        "        # Viterbi\n",
        "    def viterbi(self,word_list):\n",
        "\n",
        "        A=self.A\n",
        "        B=self.B\n",
        "        Pi=self.pi\n",
        "        \n",
        "        # initialization\n",
        "        T = len(word_list)\n",
        "        N = A.shape[0] # number of tags\n",
        "\n",
        "        delta_table = np.zeros((N, T)) # initialise delta table\n",
        "        psi = np.zeros((N, T))  # initialise the best path table\n",
        "\n",
        "        delta_table[:,0] = B[:, word_list[0]] * Pi\n",
        "\n",
        "        for t in range(1, T):\n",
        "            for s in range (0, N):\n",
        "                trans_p = delta_table[:, t-1] * A[:, s]\n",
        "                psi[s, t], delta_table[s, t] = max(enumerate(trans_p), key=operator.itemgetter(1))\n",
        "                delta_table[s, t] = delta_table[s, t] * B[s, word_list[t]]\n",
        "\n",
        "        # Back tracking\n",
        "        seq = np.zeros(T);\n",
        "        seq[T-1] =  delta_table[:, T-1].argmax()\n",
        "        for t in range(T-1, 0, -1):\n",
        "    #       print(seq[t])\n",
        "          seq[t-1] = psi[int(seq[t]),t]\n",
        "\n",
        "        return seq\n",
        "   \n",
        "\n",
        "    def evaluate(self, data):\n",
        "    # TODO\n",
        "        word_true = 0\n",
        "        word_count = 0\n",
        "        sentence_true = 0\n",
        "\n",
        "        for sentence in data:\n",
        "\n",
        "            length = len(sentence)\n",
        "            tags = np.zeros(length)\n",
        "            words = np.zeros(length)\n",
        "\n",
        "            for i,(word,tag) in zip(range(length),sentence):\n",
        "                words[i] = self.from_word_to_id.get(word,-1)  \n",
        "                tags[i] = self.from_tag_to_id.get(tag,-1)\n",
        "\n",
        "            split_points = np.where(words == -1)[0]\n",
        "\n",
        "            # in case there is no -1 in the beginning \n",
        "            if 0 not in split_points:\n",
        "                split_points = np.append([0],split_points)\n",
        "\n",
        "            # in case there is no -1 in the end\n",
        "            if length not in split_points:\n",
        "                split_points = np.append(split_points,[length])\n",
        "\n",
        "            # create pairs of sequences\n",
        "            sequences = [words[i:j] for i,j in zip(split_points, split_points[1:])]\n",
        "            result =  np.array([]) # I append indtead of gennerate initial randoms which takes time\n",
        "\n",
        "            # iterate over all sequences\n",
        "            for seq in sequences:\n",
        "                if seq[0] == -1 : # there is -1 in seq\n",
        "                    result = np.append(result,np.random.choice(self.unique_tag_id,size=1))\n",
        "                    if len(seq[1:]): # seq is not empty\n",
        "                        result = np.append(result,self.viterbi(word_list=list(map(int, seq[1:]))))\n",
        "                else: # no -1 at all\n",
        "                    result = np.append(result,self.viterbi(word_list=list(map(int, seq))))\n",
        "\n",
        "            word_count += length\n",
        "            word_true += np.sum(result == tags)\n",
        "            sentence_true += (np.sum(result == tags) == length)\n",
        "\n",
        "        return word_true/word_count, sentence_true/len(data)\n",
        "\n",
        "    \n",
        "    def get_results(self,train_data,test_data):\n",
        "        r = {}\n",
        "        \n",
        "        r['Training Time'] = time()\n",
        "        self.train(train_data)\n",
        "        r['Training Time'] = time() - r['Training Time']\n",
        "        \n",
        "        r['Evaluating Time'] = time()\n",
        "        r['Word Accuracy'], r['Sentence Accuracy'] = self.evaluate(test_data)\n",
        "        r['Evaluating Time'] = time() - r['Evaluating Time']\n",
        "        \n",
        "        return r\n",
        "    \n",
        "hmm = hmm_tagger()\n",
        "results_hmm = hmm.get_results(train_data,test_data)"
      ],
      "execution_count": null,
      "outputs": []
    },
    {
      "cell_type": "markdown",
      "metadata": {
        "id": "cUgFY5Wqr3NC"
      },
      "source": [
        "<br><br><br>"
      ]
    },
    {
      "cell_type": "markdown",
      "metadata": {
        "id": "RuY9FyQZr3ND"
      },
      "source": [
        "<br><br><br>\n",
        "<br><br><br>\n",
        "<br><br><br>"
      ]
    },
    {
      "cell_type": "markdown",
      "metadata": {
        "id": "-YZO0uGL-4S-"
      },
      "source": [
        "# **Part 4**\n",
        "\n",
        "Compare the results obtained from both taggers and a MEMM tagger, implemented by NLTK, over the test data. To train the NLTK MEMM tagger you should execute the following lines (it may take some time to train...):"
      ]
    },
    {
      "cell_type": "code",
      "metadata": {
        "id": "KYhtboJm_Iyx"
      },
      "source": [
        "class tnt_tagger():\n",
        "    def __init__(self):\n",
        "        from nltk.tag import tnt \n",
        "        self.tnt_pos_tagger = tnt.TnT()\n",
        "\n",
        "    def train(self,data):\n",
        "        self.tnt_pos_tagger.train(data)\n",
        "    \n",
        "    def evaluate(self,data):\n",
        "        \n",
        "        word_true = 0\n",
        "        word_count = 0\n",
        "        sentence_true = 0\n",
        "        \n",
        "        for sentence in data:\n",
        "\n",
        "            length = len(sentence)\n",
        "            words = [word for word,_ in sentence]\n",
        "            tags = [tag for _,tag in sentence]\n",
        "            \n",
        "            result = self.tnt_pos_tagger.tag(words)\n",
        "            sentence_true += (result==sentence)\n",
        "            \n",
        "            results_tag = [tag for _,tag in result ]\n",
        "            \n",
        "            word_true += np.sum([r==t for r,t in zip(results_tag,tags) ])\n",
        "            word_count += length\n",
        "\n",
        "# Note:\n",
        "#         I'm calculating word accuracy by myself.\n",
        "#         I could return this: self.tnt_pos_tagger.evaluate(data)\n",
        "#         But it will call tag function all over again, so it will do the same thing twice.\n",
        "\n",
        "        return word_true/word_count,sentence_true/len(data)\n",
        "\n",
        "\n",
        "    def get_results(self,train_data,test_data):\n",
        "        r = {}\n",
        "\n",
        "        r['Training Time'] = time()\n",
        "        self.train(train_data)\n",
        "        r['Training Time'] = time() - r['Training Time']\n",
        "\n",
        "        r['Evaluating Time'] = time()\n",
        "        r['Word Accuracy'], r['Sentence Accuracy'] = self.evaluate(test_data)\n",
        "        r['Evaluating Time'] = time() - r['Evaluating Time']\n",
        "\n",
        "        return r\n",
        "\n",
        "tnt = tnt_tagger()\n",
        "results_tnt = tnt.get_results(train_data,test_data)"
      ],
      "execution_count": null,
      "outputs": []
    },
    {
      "cell_type": "markdown",
      "metadata": {
        "id": "5DIvvzsq_U-o"
      },
      "source": [
        "TODO: Print both, word level and sentence level accuracy for all the three taggers in a table."
      ]
    },
    {
      "cell_type": "markdown",
      "metadata": {
        "id": "c5U0ID2xr3NQ"
      },
      "source": [
        "## Results"
      ]
    },
    {
      "cell_type": "code",
      "metadata": {
        "id": "aYMOrynOr3NR",
        "colab": {
          "base_uri": "https://localhost:8080/",
          "height": 686
        },
        "outputId": "a2b0014c-9eb9-4322-9c3d-5cdb6653be7e"
      },
      "source": [
        "df = pd.DataFrame(columns=results_st.keys())\n",
        "\n",
        "df.loc['simple'] = results_st\n",
        "df.loc['hmm'] = results_hmm\n",
        "df.loc['tnt'] = results_tnt\n",
        "\n",
        "cols = df.columns\n",
        "# cols = ['Word Accuracy', 'Sentence Accuracy','Training time', 'Evaluating time']\n",
        "\n",
        "print(tabulate(df, headers='keys', tablefmt='psql'))\n",
        "\n",
        "figure, axes = plt.subplots(1, 4,figsize=(16,4))\n",
        "for c in range(len(cols)):\n",
        "    df[cols[c]].plot.bar(title=cols[c],ax=axes[c])\n",
        "plt.show()\n",
        "\n",
        "\n",
        "figure, axes = plt.subplots(1, 2,figsize=(16,4))\n",
        "(df[cols[3]]/df[cols[0]]).plot(title='Reletionship - Training Time & Sentemce Accuracy',ax=axes[0])\n",
        "(df[cols[3]]/df[cols[1]]).plot(title='Reletionship - Evaluating Time & Sentemce Accuracy',ax=axes[1])\n",
        "\n",
        "plt.show()"
      ],
      "execution_count": null,
      "outputs": [
        {
          "output_type": "stream",
          "text": [
            "+--------+-----------------+-------------------+-----------------+---------------------+\n",
            "|        |   Training Time |   Evaluating Time |   Word Accuracy |   Sentence Accuracy |\n",
            "|--------+-----------------+-------------------+-----------------+---------------------|\n",
            "| simple |         1.02679 |          0.351673 |        0.87412  |           0.0798687 |\n",
            "| hmm    |         2.05287 |         12.6099   |        0.864451 |           0.0908096 |\n",
            "| tnt    |         1.61938 |         86.2461   |        0.875545 |           0.0984683 |\n",
            "+--------+-----------------+-------------------+-----------------+---------------------+\n"
          ],
          "name": "stdout"
        },
        {
          "output_type": "display_data",
          "data": {
            "image/png": "[encoded data removed]",
            "text/plain": [
              "<Figure size 1152x288 with 4 Axes>"
            ]
          },
          "metadata": {
            "tags": [],
            "needs_background": "light"
          }
        },
        {
          "output_type": "display_data",
          "data": {
            "image/png": "[encoded data removed]",
            "text/plain": [
              "<Figure size 1152x288 with 2 Axes>"
            ]
          },
          "metadata": {
            "tags": [],
            "needs_background": "light"
          }
        }
      ]
    },
    {
      "cell_type": "markdown",
      "metadata": {
        "id": "6zpzKV9ur3Nb"
      },
      "source": [
        "## Conclusions\n",
        "\n",
        "- Although `tnt` has the extrimly high evaluation time, it has the best accuracy results.  \n",
        "\n",
        "- If I had constraints regarding response time I would choose `hmm`, which has almost as good results as `tnt`, but has a fast response.\n",
        "\n",
        "- Obviously, if complexity&time is an issue I would go for the `simple` tagger, which is easy to explain and expirement with. For example, If I'l try a bigram/trigram with a `simple` tagger, I can only assume(!) at this point, but I would guess it will give almost as good results as the later. \n",
        "\n",
        "\n",
        "<br><br><br>\n",
        "<br><br><br>\n",
        "<br><br><br>"
      ]
    },
    {
      "cell_type": "markdown",
      "metadata": {
        "id": "trdDYG9ur3Nc"
      },
      "source": [
        "## Note \n",
        "Durring coding I had to expiremnt with another way of creating the tagger.  \n",
        "As we know, the tagger gives a random tag to unseen words. \n",
        "This way adds a lot of complexity to the model, and a lot of assumptions, due to each sequance starts again with a pi.\n",
        "The main dissadantage is the \"loss\" of information in each time we \"cut off\" the sequance.\n",
        "\n",
        "Thus, I wanted to expirement with a different method.   \n",
        "I will note that I know the results will not be as good as the method mentioned above, but I had to expiremnt in this manner, and check \"how different\" will the results be, If I wil not \"cut off\" the sequance in case of an unseen word.  \n",
        "\n",
        "So, as before, an unseen word will get a random tag, but...  \n",
        "I will \"feed\" the viterbi the whole seqaunce at once. Then, for each sentence I will have only one viterbi computation. "
      ]
    },
    {
      "cell_type": "code",
      "metadata": {
        "id": "OBl_MfC7r3Ne"
      },
      "source": [
        "class my_hmm_tagger:\n",
        "  \n",
        "    def get_word_map_and_tag_map(self,data):\n",
        "        '''\n",
        "        Input: treebank sentences\n",
        "        Output: \n",
        "                word_map - dict with all counters of tags\n",
        "                tag_map - count tags appearances\n",
        "        '''\n",
        "        word_map = {}\n",
        "        tag_map = {}\n",
        "\n",
        "        for sentence in data:\n",
        "            for word,tag in sentence:\n",
        "\n",
        "                # WORD_MAP\n",
        "                if word not in word_map:\n",
        "                    word_map[word] = {'id':len(word_map),'tags':{}}\n",
        "\n",
        "\n",
        "                if tag in word_map[word]['tags']:\n",
        "                    word_map[word]['tags'][tag] += 1\n",
        "                else:\n",
        "                    word_map[word]['tags'][tag] = 1\n",
        "\n",
        "                # TAG_MAP\n",
        "                if tag not in tag_map:\n",
        "                    tag_map[tag] = {'id':len(tag_map),'count':1}\n",
        "                else:\n",
        "                    tag_map[tag]['count'] += 1\n",
        "\n",
        "        return word_map,tag_map\n",
        "\n",
        "    # Viterbi\n",
        "    def viterbi(self,word_list):\n",
        "\n",
        "        A=self.A\n",
        "        B=self.B\n",
        "        Pi=self.pi\n",
        "        \n",
        "        # initialization\n",
        "        T = len(word_list)\n",
        "        N = A.shape[0] # number of tags\n",
        "\n",
        "        delta_table = np.zeros((N, T)) # initialise delta table\n",
        "        psi = np.zeros((N, T))  # initialise the best path table\n",
        "\n",
        "        delta_table[:,0] = B[:, word_list[0]] * Pi\n",
        "\n",
        "        for t in range(1, T):\n",
        "            for s in range (0, N):\n",
        "                trans_p = delta_table[:, t-1] * A[:, s]\n",
        "                psi[s, t], delta_table[s, t] = max(enumerate(trans_p), key=operator.itemgetter(1))\n",
        "                delta_table[s, t] = delta_table[s, t] * B[s, word_list[t]]\n",
        "\n",
        "        # Back tracking\n",
        "        seq = np.zeros(T);\n",
        "        seq[T-1] =  delta_table[:, T-1].argmax()\n",
        "        for t in range(T-1, 0, -1):\n",
        "    #       print(seq[t])\n",
        "          seq[t-1] = psi[int(seq[t]),t]\n",
        "\n",
        "        return seq\n",
        "    \n",
        "    def train(self, data):\n",
        "    # TODO\n",
        "\n",
        "        # unique\n",
        "        word_map,tag_map = self.get_word_map_and_tag_map(data)\n",
        "\n",
        "        # word_map\n",
        "        unique_word_map_id = list([word_map[word]['id'] for word in word_map])\n",
        "\n",
        "        # create pi\n",
        "        tag_map_values = np.array([tag['count'] for tag in tag_map.values() ])\n",
        "        pi = tag_map_values / tag_map_values.sum()\n",
        "\n",
        "        # create B\n",
        "        B = np.zeros((len(tag_map),len(word_map)))\n",
        "        for word in word_map.values():\n",
        "            for tag in word['tags']:\n",
        "                B[tag_map[tag]['id'],word['id']] = word['tags'][tag]\n",
        "        B = B / B.sum(axis=1)[:, np.newaxis]\n",
        "\n",
        "        # create A\n",
        "        A = np.zeros((len(tag_map),len(tag_map)))\n",
        "        for sentence in train_data:\n",
        "            for current_word,next_word in zip(sentence[:-1],sentence[1:]):\n",
        "                A[tag_map[current_word[1]]['id'],tag_map[next_word[1]]['id']] += 1\n",
        "        A = A / A.sum(axis=1)[:,np.newaxis]\n",
        "\n",
        "        # mapping ID to WORD\n",
        "        from_id_to_word = {word_map[word]['id']:word for word in word_map.keys()}\n",
        "\n",
        "        # mapping ID to TAG\n",
        "        from_id_to_tag = {tag_map[tag]['id']:tag for tag in tag_map}\n",
        "\n",
        "        # init params\n",
        "        self.word_map = word_map\n",
        "        self.tag_map = tag_map\n",
        "        self.unique_word_map_id = unique_word_map_id\n",
        "        self.from_id_to_word = from_id_to_word\n",
        "        self.from_id_to_tag = from_id_to_tag\n",
        "        self.A = A\n",
        "        self.B = B\n",
        "        self.pi = pi\n",
        "    \n",
        "\n",
        "    def evaluate(self, data):\n",
        "    # TODO\n",
        "        # choose only exists ids \n",
        "\n",
        "        word_true = 0\n",
        "        word_count = 0\n",
        "        sentence_true = 0\n",
        "\n",
        "        for sentence in data:\n",
        "\n",
        "            words = np.random.choice(self.unique_word_map_id,size=len(sentence))\n",
        "            tags = [None] * len(sentence)\n",
        "\n",
        "            for i in range(len(sentence)): \n",
        "\n",
        "                word,tag = sentence[i]\n",
        "\n",
        "                if word in self.word_map.keys():\n",
        "                    words[i] = self.word_map[word]['id']\n",
        "                # else: already has an random number\n",
        "\n",
        "                tags[i] = tag\n",
        "            \n",
        "            result = self.viterbi(words)\n",
        "            result = [self.from_id_to_tag.get(r) for r in result]\n",
        "\n",
        "            word_true += np.sum([r==t for r,t in zip(result,tags)])\n",
        "            word_count += len(sentence) \n",
        "            \n",
        "            if np.sum([r==t for r,t in zip(result,tags)]) == len(sentence):\n",
        "                sentence_true += 1\n",
        "\n",
        "        return word_true/word_count,sentence_true/len(data)\n",
        "    \n",
        "    \n",
        "    def get_results(self,train_data,test_data):\n",
        "        r = {}\n",
        "        \n",
        "        r['Training Time'] = time()\n",
        "        self.train(train_data)\n",
        "        r['Training Time'] = time() - r['Training Time']\n",
        "        \n",
        "        r['Evaluating Time'] = time()\n",
        "        r['Word Accuracy'], r['Sentence Accuracy'] = self.evaluate(test_data)\n",
        "        r['Evaluating Time'] = time() - r['Evaluating Time']\n",
        "        \n",
        "        return r\n",
        "\n",
        "my_hmm = my_hmm_tagger()\n",
        "results_my_hmm = my_hmm.get_results(train_data,test_data)"
      ],
      "execution_count": null,
      "outputs": []
    },
    {
      "cell_type": "code",
      "metadata": {
        "id": "Zx2aaDXHr3Nl",
        "colab": {
          "base_uri": "https://localhost:8080/",
          "height": 418
        },
        "outputId": "a90dbb64-bf88-4182-a9c5-cf993fb76e2d"
      },
      "source": [
        "df = pd.DataFrame(columns=results_st.keys())\n",
        "\n",
        "df.loc['hmm'] = results_hmm\n",
        "df.loc['my_hmm'] = results_my_hmm\n",
        "\n",
        "print(tabulate(df, headers='keys', tablefmt='psql'))\n",
        "\n",
        "# print(tabulate(df, headers='keys', tablefmt='psql'))\n",
        "\n",
        "figure, axes = plt.subplots(1, 4,figsize=(16,4))\n",
        "for c in range(len(cols)):\n",
        "    df[cols[c]].plot.bar(title=cols[c],ax=axes[c])\n",
        "plt.show()"
      ],
      "execution_count": null,
      "outputs": [
        {
          "output_type": "stream",
          "text": [
            "+--------+-----------------+-------------------+-----------------+---------------------+\n",
            "|        |   Training Time |   Evaluating Time |   Word Accuracy |   Sentence Accuracy |\n",
            "|--------+-----------------+-------------------+-----------------+---------------------|\n",
            "| hmm    |         2.05287 |           12.6099 |        0.864451 |           0.0908096 |\n",
            "| my_hmm |         2.10334 |           16.1515 |        0.797626 |           0.105033  |\n",
            "+--------+-----------------+-------------------+-----------------+---------------------+\n"
          ],
          "name": "stdout"
        },
        {
          "output_type": "display_data",
          "data": {
            "image/png": "[encoded data removed]",
            "text/plain": [
              "<Figure size 1152x288 with 4 Axes>"
            ]
          },
          "metadata": {
            "tags": [],
            "needs_background": "light"
          }
        }
      ]
    },
    {
      "cell_type": "markdown",
      "metadata": {
        "id": "Mq93pAUor3Ns"
      },
      "source": [
        "### Conclusions\n",
        "\n",
        "As I mention, I assumed that \"my_hmm\" model will not better then the \"hmm\" model.\n",
        "Sadly, the training time and evaluating time is higher. I thought that all the splits, append and checks will take more time then multiplying the matrix \"few more times\". maybe if I would load the calculation to the GPC. maybe..\n",
        "\n",
        "Obvoisly, as expected, the word accuracy is lowwer due to giving the unseen words a random value, but using the initial pi every time (we caculated pi based on frequency in trainset).\n",
        "\n",
        "But, and this is the big one - How is it that the sentence accuracy is higher in \"my_hmm\"? still trying to figure it out :)))"
      ]
    }
  ]
}